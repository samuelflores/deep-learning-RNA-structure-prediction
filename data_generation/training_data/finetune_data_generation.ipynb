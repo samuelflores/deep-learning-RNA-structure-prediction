{
 "cells": [
  {
   "cell_type": "code",
   "execution_count": 1,
   "metadata": {},
   "outputs": [],
   "source": [
    "import random\n",
    "import utils"
   ]
  },
  {
   "cell_type": "code",
   "execution_count": 2,
   "metadata": {},
   "outputs": [],
   "source": [
    "entries = utils.load(\"data/fragments/fragments_16_filtered.pickle\")\n",
    "entries = [i for i in entries if i.clust_id != 0]\n",
    "random.shuffle(entries)"
   ]
  },
  {
   "cell_type": "code",
   "execution_count": 3,
   "metadata": {},
   "outputs": [
    {
     "name": "stdout",
     "output_type": "stream",
     "text": [
      "All: 4991\tTetraloops: 4991 (100.0)\tDecoys: 0 (0.0)\n"
     ]
    }
   ],
   "source": [
    "all = len(entries)\n",
    "decoys = len([i for i in entries if i.clust_id == 0])\n",
    "tloops = len([i for i in entries if i.clust_id != 0])\n",
    "print(f\"All: {all}\\tTetraloops: {tloops} ({tloops/all*100:.4})\\tDecoys: {decoys} ({decoys/all*100:.4})\")"
   ]
  },
  {
   "cell_type": "code",
   "execution_count": 4,
   "metadata": {},
   "outputs": [],
   "source": [
    "def write_csv(path, data):\n",
    "    with open(path, \"w\") as f:\n",
    "        f.write(\"sequence,label\\n\")\n",
    "        for entry in data:\n",
    "            label = 1 if entry.clust_id == 1 else 0 # GNRA\n",
    "            f.write(f\"{entry.res_seq},{label}\\n\")"
   ]
  },
  {
   "cell_type": "code",
   "execution_count": 5,
   "metadata": {},
   "outputs": [],
   "source": [
    "train_ratio = 0.8\n",
    "train_cutoff = int(len(entries) * train_ratio)\n",
    "dev_ratio = (1 - train_ratio)/ 2\n",
    "dev_cutoff = int(len(entries) * (1-dev_ratio))\n",
    "\n",
    "train_data = entries[:train_cutoff]\n",
    "dev_data = entries[train_cutoff:dev_cutoff]\n",
    "test_data = entries[dev_cutoff:]\n",
    "\n",
    "write_csv(\"train.csv\", train_data)\n",
    "write_csv(\"dev.csv\", dev_data)\n",
    "write_csv(\"test.csv\", test_data)"
   ]
  }
 ],
 "metadata": {
  "kernelspec": {
   "display_name": "dna",
   "language": "python",
   "name": "python3"
  },
  "language_info": {
   "codemirror_mode": {
    "name": "ipython",
    "version": 3
   },
   "file_extension": ".py",
   "mimetype": "text/x-python",
   "name": "python",
   "nbconvert_exporter": "python",
   "pygments_lexer": "ipython3",
   "version": "3.11.5"
  }
 },
 "nbformat": 4,
 "nbformat_minor": 2
}
