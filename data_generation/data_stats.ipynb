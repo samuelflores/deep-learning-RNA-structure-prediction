{
 "cells": [
  {
   "cell_type": "code",
   "execution_count": 17,
   "metadata": {},
   "outputs": [],
   "source": [
    "# Imports\n",
    "\n",
    "import matplotlib.pyplot as plt\n",
    "import numpy as np\n",
    "import os\n",
    "import utils\n",
    "\n",
    "from pprint import pprint"
   ]
  },
  {
   "cell_type": "code",
   "execution_count": 18,
   "metadata": {},
   "outputs": [],
   "source": [
    "# Paths\n",
    "clusters_dir = '../../../all_clusters'\n",
    "data_dir = 'data'\n",
    "figures_dir = 'figures'\n",
    "\n",
    "# Create figures directory if none exists\n",
    "if not os.path.exists(figures_dir):\n",
    "        os.makedirs(figures_dir)\n",
    "\n",
    "# Load all data\n",
    "tloops_raw = utils.load(f'{data_dir}/tloops_raw.pickle')\n",
    "tloops_filtered = utils.load(f'{data_dir}/tloops_filtered.pickle')"
   ]
  },
  {
   "cell_type": "markdown",
   "metadata": {},
   "source": [
    "# Tetraloops\n",
    "> The final tetraloop database is composed by 21,993 RNA fragments: 17,709 from X-ray, 3057 from NMR and 1227 from cryo-EM structures. The distributions of resolutions are shown in Fig. S1. [Bottaro et al.](https://www.ncbi.nlm.nih.gov/pmc/articles/PMC5529312/)\n",
    "\n",
    "According to Table SI1, there should be a total of 19383 tetraloops. I don't know where/what the remaining 2610 RNA fragments (from the total of 21993) are. The total number of \"effective\" tetraloops (members whose distance is above 0.07 eRMSD) is 16979."
   ]
  },
  {
   "cell_type": "code",
   "execution_count": 19,
   "metadata": {},
   "outputs": [],
   "source": [
    "def tloop_stats(tloop_data, label:str ='') -> None:\n",
    "    seqs = [i.res_seq for i in tloop_data]\n",
    "    unique_seqs = set(seqs)\n",
    "    \n",
    "    print(\n",
    "        f'{label}:\\n'\n",
    "        f'- Number: {len(tloop_data)}\\n'\n",
    "        f'- Unique sequences: {len(unique_seqs)}\\n'\n",
    "    )\n",
    "    \n",
    "    # Sequence histogram\n",
    "    seqs_hist = {seq:seqs.count(seq) for seq in unique_seqs}\n",
    "    plot_bar(seqs_hist, f'{label} sequence frequencies', sort_by_val=True)\n",
    "    \n",
    "    # Sequence by cluster\n",
    "    for c in range(1,45):\n",
    "        clust_seqs = [t.res_seq for t in tloop_data if t.clust_id == c]\n",
    "        clust_seqs_hist = {seq:clust_seqs.count(seq) for seq in set(clust_seqs)}\n",
    "        plot_bar(clust_seqs_hist, f'{label} cluster {c} sequence frequencies', sort_by_val=True)\n",
    "    \n",
    "    # Cluster histogram\n",
    "    clust_size_hist = {c:len([t for t in tloop_data if t.clust_id == c]) for c in range(1,45)}\n",
    "    plot_bar(clust_size_hist, f'{label} cluster frequencies')\n",
    "\n",
    "\n",
    "def plot_bar(data, title:str='', sort_by_val:bool=False) -> None:\n",
    "    data = {k:v for k,v in sorted(data.items(), key=lambda x:x[1], reverse=True)} if sort_by_val else data\n",
    "    fig, ax = plt.subplots(figsize=(len(data)*0.3,3))\n",
    "    bar_plot = ax.bar(range(len(data)), data.values(), align='edge', width=0.5)\n",
    "    ax.bar_label(bar_plot, rotation='vertical', padding=5)\n",
    "    ax.set_xticks(range(len(data)), data.keys(), rotation='vertical', horizontalalignment='left')\n",
    "    \n",
    "    # Cosmetic adjustments\n",
    "    ax.set_title(title, y=1.1)\n",
    "    ax.margins(x=0.5/len(data), tight=True)\n",
    "    ax.spines[['right', 'top']].set_visible(False)\n",
    "\n",
    "    filename = title.lower().replace(' ','_')\n",
    "    plt.savefig(f'{figures_dir}/{filename}.pdf', bbox_inches='tight')\n",
    "    plt.close()"
   ]
  },
  {
   "cell_type": "code",
   "execution_count": 20,
   "metadata": {},
   "outputs": [
    {
     "name": "stdout",
     "output_type": "stream",
     "text": [
      "Raw tetraloops:\n",
      "- Number: 19383\n",
      "- Unique sequences: 292\n",
      "\n",
      "Filtered tetraloops:\n",
      "- Number: 19383\n",
      "- Unique sequences: 292\n",
      "\n"
     ]
    }
   ],
   "source": [
    "tloop_stats(tloops_raw, 'Raw tetraloops')\n",
    "tloop_stats(tloops_raw, 'Filtered tetraloops')"
   ]
  },
  {
   "cell_type": "code",
   "execution_count": null,
   "metadata": {},
   "outputs": [],
   "source": [
    "# Tetraloop fragment dataset comparisons\n",
    "\n",
    "print(f'Unique tetraloops: {len(tloop_seqs)}')\n",
    "tloop_clust_nums = {clust: len([i for i in tloop_seqs if i.clust_id == clust]) for clust in range(1,45)}\n",
    "print(tloop_clust_nums)\n",
    "\n",
    "print(f'Unique aligned tetraloops: {len([i for i in all_fragments_8 if i.clust_id != 0])}')\n",
    "aligned_tloop_clust_nums = {clust: len([i for i in all_fragments_8 if i.clust_id == clust]) for clust in range(1,45)}\n",
    "print(aligned_tloop_clust_nums)\n",
    "\n",
    "clust_num_diff = {i:tloop_clust_nums[i]-aligned_tloop_clust_nums[i] for i in range(1,45) if tloop_clust_nums[i] != aligned_tloop_clust_nums[i]}\n",
    "print(f'Number of missing tetraloops: {clust_num_diff}')"
   ]
  },
  {
   "cell_type": "markdown",
   "metadata": {},
   "source": [
    "# Fragments"
   ]
  },
  {
   "cell_type": "markdown",
   "metadata": {},
   "source": [
    "## Unique fragments\n",
    "The number of unique RNA fragments is $4^{8} = 65536$. The theoretical maximum number of fragments that can be generated from this dataset is 495279. The number of unique generated fragments is 34431, which represents approximately 53% of all possible unique fragments. \n",
    "\n",
    "Expected number of tries to obtain $x$ unique sequences:\n",
    "$$\\sum\\limits_{i=0}^x \\frac{n}{n-i}$$\n",
    "where $n$ = total number of unique sequences\n",
    "\n",
    "The expected number of tries needed to obtain *all* unique fragments is 764646. The expected number of tries needed to obtain 34431 fragments is 48839.\n",
    "\n",
    "The dataset is most likely too small to account for *all* possible residue permutations, but should be large enough to account for more than 53% of all residues. For reference, a dataset of size 451750 is expected to return 99.9% of all unique fragments.\n",
    "\n",
    "- Are certain residues/motifs overrepresented in the dataset?\n",
    "- Will increasing the dataset to include more PDB structures result in more unique fragments?\n",
    "- Is the sequence database too redundant? Should sequence similarity *between* different PDB structures also be filtered out of the reference database?\n",
    "- Are the sequences palindromic or otherwise symmetrical?"
   ]
  },
  {
   "cell_type": "code",
   "execution_count": null,
   "metadata": {},
   "outputs": [],
   "source": [
    "# Fragment length 8\n",
    "\n",
    "pos_unique_frags = 4**8\n",
    "print(f'Possible unique fragments: {pos_unique_frags}')\n",
    "\n",
    "pos_gen_frags = sum([len(i.res_seq)-7-8*(len(i.chain_indices)-1) for i in aligned_chains])\n",
    "print(f'Generated fragments (theoretical): {pos_gen_frags}')\n",
    "gen_frags = [i.res_seq for i in fragments_8]\n",
    "gen_unique_frags = len(set(gen_frags))\n",
    "print(f'Number of unique fragments: {gen_unique_frags}')\n",
    "print(f'% of expected unique fragments: {round(gen_unique_frags/pos_unique_frags, 2)*100}%')\n",
    "frags_dict = {seq:gen_frags.count(seq) for seq in set(gen_frags)}\n",
    "frags_dict = {k: v for k, v in sorted(frags_dict.items(), key=lambda item: item[1], reverse=True)}\n",
    "print(f'Fragment counts: {frags_dict}')\n",
    "\n",
    "expected_tries_all = sum([pos_unique_frags/(pos_unique_frags-i) for i in range(pos_unique_frags)])\n",
    "print(f'Expected # tries to obtain all unique fragments: {round(expected_tries_all)}')\n",
    "expected_tries_34431 = sum([pos_unique_frags/(pos_unique_frags-i) for i in range(gen_unique_frags)])\n",
    "print(f'Expected # tries to obtain 34431 of all unique fragments: {round(expected_tries_34431)}')\n",
    "expected_tries_999 = sum([pos_unique_frags/(pos_unique_frags-i) for i in range(int(pos_unique_frags*0.999))])\n",
    "print(f'Expected # tries to obtain 99.9% unique fragments: {round(expected_tries_999)}')"
   ]
  },
  {
   "cell_type": "markdown",
   "metadata": {},
   "source": [
    "## Per-position residue frequency\n",
    "G seems to be slightly enriched in all positions.\n",
    "\n",
    "A small difference in the number of tetraloops is observed between the tloop_seqs.pickle and all_fragment_8.pickle datasets due to:\n",
    "1. PDB chain redundancy removal, which probably unintentionally removes some tetraloop sites\n",
    "2. Clusters 29 and 30 have an overlapping tetraloop, so either 29 or 30 is overwritten at that position"
   ]
  },
  {
   "cell_type": "code",
   "execution_count": null,
   "metadata": {},
   "outputs": [],
   "source": [
    "# Residue frequency functions\n",
    "\n",
    "# Get residue frequencies per position\n",
    "def get_res_freqs(sequences, res_names: list[str] = ['A','U','C','G']):\n",
    "    res_freqs = {pos: {res: 0 for res in res_names} for pos in range(len(sequences[0]))}\n",
    "    for seq in sequences:\n",
    "        for pos, res in enumerate(seq):\n",
    "            res_freqs[pos][res] += 1\n",
    "    # Normalize frequencies\n",
    "    res_freqs = {pos:{res: count/sum(res_counts.values()) for res, count in res_counts.items()} for pos, res_counts in res_freqs.items()}\n",
    "    return res_freqs\n",
    "\n",
    "\n",
    "# Convert residue frequency dictionary to a numpy array\n",
    "def res_freqs_dict_to_array(res_freqs_dict, res_names: list[str] = ['A','U','C','G']):\n",
    "    res_array= np.zeros(shape=(len(res_names), len(res_freqs_dict)))\n",
    "    for idx, res in enumerate(res_names):\n",
    "        res_array[idx] = [res_freqs_dict[pos][res] for pos in range(len(res_freqs_dict))]\n",
    "    return res_array\n",
    "\n",
    "\n",
    "# Plot a stacked bar graph\n",
    "def plot_stacked_bars(x, array, title, labels):#, colors):\n",
    "    plt.figure(figsize=(5,3))\n",
    "    plt.bar(x, array[0], label=labels[0])\n",
    "    for i in range(1, len(array)):\n",
    "        plt.bar(x, array[i], bottom=np.sum(array[:i], axis=0), label=labels[i])\n",
    "    plt.title(title)\n",
    "    plt.legend(loc='upper right', bbox_to_anchor=(1.2,1.03))\n",
    "    plt.show()\n",
    "\n",
    "\n",
    "# Combine residue frequency calculation and plotting\n",
    "def plot_res_freqs(seqs, title: str = '', labels: list[str] = ['A','U','C','G'], print_freqs = False):\n",
    "    res_freqs = get_res_freqs(seqs)\n",
    "    if print_freqs:\n",
    "        pprint({pos:{res:round(count, 3) for res, count in val.items()} for pos, val in res_freqs.items()})\n",
    "    plot_stacked_bars(range(1, len(seqs[0])+1), res_freqs_dict_to_array(res_freqs), title, labels)"
   ]
  },
  {
   "cell_type": "code",
   "execution_count": null,
   "metadata": {},
   "outputs": [],
   "source": [
    "# Plot residue frequency figures\n",
    "\n",
    "# Cluster groups, as named in Bottaro et al. Table SI1\n",
    "gnra = [1]\n",
    "gnra_like = [1, 3, 6, 9, 25, 26, 36, 40]\n",
    "uncg = [2]\n",
    "uncg_like = [2, 5, 37, 44]\n",
    "u_turn = [4]\n",
    "\n",
    "plot_res_freqs([i.res_seq for i in all_fragments_8 if i.clust_id in gnra_like], 'GNRA fragment 8')\n",
    "plot_res_freqs([i.res_seq for i in all_fragments_10 if i.clust_id in gnra_like], 'GNRA fragment 10')\n",
    "plot_res_freqs([i.res_seq for i in all_fragments_12 if i.clust_id in gnra_like], 'GNRA fragment 12')\n",
    "plot_res_freqs([i.res_seq for i in all_fragments_14 if i.clust_id in gnra_like], 'GNRA fragment 14')\n",
    "\n",
    "plot_res_freqs([i.res_seq for i in all_fragments_8 if i.clust_id == 0], 'Cluster 0', print_freqs=True)"
   ]
  }
 ],
 "metadata": {
  "kernelspec": {
   "display_name": "tensorflow",
   "language": "python",
   "name": "python3"
  },
  "language_info": {
   "codemirror_mode": {
    "name": "ipython",
    "version": 3
   },
   "file_extension": ".py",
   "mimetype": "text/x-python",
   "name": "python",
   "nbconvert_exporter": "python",
   "pygments_lexer": "ipython3",
   "version": "3.9.16"
  },
  "orig_nbformat": 4
 },
 "nbformat": 4,
 "nbformat_minor": 2
}
