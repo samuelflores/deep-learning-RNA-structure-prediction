{
 "cells": [
  {
   "cell_type": "code",
   "execution_count": 30,
   "metadata": {},
   "outputs": [],
   "source": [
    "import os\n",
    "\n",
    "import numpy as np"
   ]
  },
  {
   "cell_type": "code",
   "execution_count": 31,
   "metadata": {},
   "outputs": [
    {
     "name": "stdout",
     "output_type": "stream",
     "text": [
      "No. of tetraloop .align.pdb files: 19383\n",
      "No. of unique tetraloops: 12027\n",
      "No. of tloop PDB IDs: 864\n"
     ]
    }
   ],
   "source": [
    "# Tetraloop stats\n",
    "\n",
    "tloop_seqs = np.load('tloop_seqs.npz')\n",
    "clusters_dir = '../../../all_clusters'\n",
    "\n",
    "all_tloop_files = [file for folder in os.listdir(clusters_dir) for file in os.listdir(f'{clusters_dir}/{folder}')]\n",
    "print(f'No. of tetraloop .align.pdb files: {len(all_tloop_files)}')\n",
    "\n",
    "tloops = [tloop for pdb_list in tloop_seqs.values() for tloop in pdb_list]\n",
    "print(f'No. of unique tetraloops: {len(tloops)}')\n",
    "\n",
    "tloop_pdb_ids = list(tloop_seqs.keys())\n",
    "print(f'No. of tloop PDB IDs: {len(tloop_pdb_ids)}')"
   ]
  },
  {
   "cell_type": "code",
   "execution_count": 32,
   "metadata": {},
   "outputs": [
    {
     "name": "stdout",
     "output_type": "stream",
     "text": [
      "No. of PDB IDs: 864\n"
     ]
    }
   ],
   "source": [
    "# All sequence stats\n",
    "\n",
    "all_seqs = np.load('all_seqs.npz')\n",
    "\n",
    "pbd_ids = list(all_seqs.keys())\n",
    "print(f'No. of PDB IDs: {len(pbd_ids)}')\n",
    "\n",
    "# number of aligned tetraloops i.e. number of times a nonzero integer appears in the cluster_ids datarow"
   ]
  }
 ],
 "metadata": {
  "kernelspec": {
   "display_name": "tensorflow",
   "language": "python",
   "name": "python3"
  },
  "language_info": {
   "codemirror_mode": {
    "name": "ipython",
    "version": 3
   },
   "file_extension": ".py",
   "mimetype": "text/x-python",
   "name": "python",
   "nbconvert_exporter": "python",
   "pygments_lexer": "ipython3",
   "version": "3.9.16"
  },
  "orig_nbformat": 4
 },
 "nbformat": 4,
 "nbformat_minor": 2
}
