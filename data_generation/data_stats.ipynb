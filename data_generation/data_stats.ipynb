{
 "cells": [
  {
   "cell_type": "markdown",
   "metadata": {},
   "source": [
    "# Setup"
   ]
  },
  {
   "cell_type": "code",
   "execution_count": 58,
   "metadata": {},
   "outputs": [],
   "source": [
    "# Imports\n",
    "import matplotlib.pyplot as plt\n",
    "import numpy as np\n",
    "import shutil\n",
    "\n",
    "import utils\n",
    "\n",
    "from classes import Tetraloop, Chain, Fragment\n",
    "from collections import Counter, OrderedDict\n",
    "from pathlib import Path\n",
    "from pprint import pprint\n",
    "from PyPDF2 import PdfWriter"
   ]
  },
  {
   "cell_type": "code",
   "execution_count": 59,
   "metadata": {},
   "outputs": [],
   "source": [
    "# Paths\n",
    "clusters_dir = Path('../../../all_clusters/')\n",
    "data_dir = Path('data/')\n",
    "fragments_dir = Path('data/fragments/')\n",
    "figures_dir = Path('figures/')\n",
    "\n",
    "# Create figures directory if none exists\n",
    "if not figures_dir.exists():\n",
    "    figures_dir.mkdir(parents=True, exist_ok=True)\n",
    "\n",
    "# Load all data\n",
    "tloops_raw = utils.load(data_dir/'tloops_raw.pickle')\n",
    "\n",
    "chains_annotated_raw = utils.load(data_dir/'chains_annotated_raw.pickle')\n",
    "chains_annotated_filtered = utils.load(data_dir/'chains_annotated_filtered.pickle')\n",
    "\n",
    "fragments_8_raw = utils.load(fragments_dir/'fragments_8_raw.pickle')\n",
    "fragments_8_filtered = utils.load(fragments_dir/'fragments_8_filtered.pickle')\n",
    "fragments_10_filtered = utils.load(fragments_dir/'fragments_10_filtered.pickle')\n",
    "fragments_12_filtered = utils.load(fragments_dir/'fragments_12_filtered.pickle')\n",
    "fragments_14_filtered = utils.load(fragments_dir/'fragments_14_filtered.pickle')"
   ]
  },
  {
   "cell_type": "code",
   "execution_count": 60,
   "metadata": {},
   "outputs": [],
   "source": [
    "# Other functions\n",
    "\n",
    "def get_res_array(sequences:list[str], res_names:list[str]=['A','U','C','G']):\n",
    "    res_array= np.zeros(shape=(len(res_names), len(sequences[0])))\n",
    "    for seq in sequences:\n",
    "        for pos, res in enumerate(seq):\n",
    "            res_array[res_names.index(res)][pos] += 1\n",
    "    res_array = res_array/res_array.sum(axis=0, keepdims=True)\n",
    "    return res_array\n",
    "\n",
    "\n",
    "def merge_pdfs_in_dir(dir:Path, filename:str='merged_pdf'):\n",
    "    merger = PdfWriter()\n",
    "    for item in dir.iterdir():\n",
    "        merger.append(item)\n",
    "    merger.write(dir.parent/(filename + '.pdf'))\n",
    "    merger.close()\n",
    "    shutil.rmtree(dir)\n",
    "\n",
    "\n",
    "def format_filename(text:str):\n",
    "    return text.lower().replace(' ','_')"
   ]
  },
  {
   "cell_type": "code",
   "execution_count": 61,
   "metadata": {},
   "outputs": [],
   "source": [
    "# Plot functions\n",
    "\n",
    "# Plot bar graph\n",
    "def plot_bar(data:dict, title:str='', dir:Path=figures_dir) -> None:\n",
    "    ax = plt.subplots(figsize=(len(data)*0.3,3))[1]\n",
    "    bar_plot = ax.bar(range(len(data)), data.values(), align='edge', width=0.5)\n",
    "    ax.bar_label(bar_plot, rotation='vertical', padding=5)\n",
    "    ax.set_xticks(range(len(data)), data.keys(), rotation='vertical', horizontalalignment='left')\n",
    "    ax.set_title(title, y=1.1)\n",
    "    \n",
    "    # Cosmetic adjustments\n",
    "    ax.margins(x=0.5/len(data), tight=True)\n",
    "    ax.spines[['right', 'top']].set_visible(False)\n",
    "    \n",
    "    save_pdf(dir/format_filename(title))\n",
    "\n",
    "\n",
    "# Plot stacked bar graph\n",
    "def plot_stacked_bar(x, array, labels:list[str], title:str='', dir:Path=figures_dir) -> None:\n",
    "    ax = plt.subplots(figsize=(len(x)*0.3,3))[1]\n",
    "    ax.bar(x, array[0], label=labels[0])\n",
    "    for i in range(1, len(array)):\n",
    "        ax.bar(x, array[i], bottom=np.sum(array[:i], axis=0), label=labels[i])\n",
    "    ax.set_title(title)\n",
    "    ax.legend(loc='upper right', bbox_to_anchor=(1.5,1.03))\n",
    "    \n",
    "    save_pdf(dir/format_filename(title))\n",
    "\n",
    "\n",
    "def save_pdf(path:Path):\n",
    "    plt.savefig(Path(path.with_suffix('.pdf')), bbox_inches='tight')\n",
    "    plt.close()"
   ]
  },
  {
   "cell_type": "code",
   "execution_count": 62,
   "metadata": {},
   "outputs": [],
   "source": [
    "def stats(data, label:str ='', seqs_hist:bool=False, clust_seqs_hist:bool=False, clust_hist:bool=False, res_pos_hist:bool=False) -> None:\n",
    "    \n",
    "    seqs = [i.res_seq for i in data] # Sequences\n",
    "    pdb_ids = [i.pdb_id for i in data] # PDB IDs\n",
    "\n",
    "    print(\n",
    "        f'{label}:\\n'\n",
    "        f'- Amount: {len(data)}\\n'\n",
    "        f'- Unique sequences: {len(set(seqs))}\\n'\n",
    "        f'- PDB IDs: {len(set(pdb_ids))}'\n",
    "    )\n",
    "    if isinstance(data[0], Fragment) or isinstance(data[0], Chain):\n",
    "        seq_ids = [i.seq_id for i in data] # Sequence IDs (PDB ID + chain ID)\n",
    "        print(f'- Chains: {len(set(seq_ids))}')\n",
    "    \n",
    "    # Residue position histogram\n",
    "    if res_pos_hist:\n",
    "        res_array = get_res_array(seqs, ['A','U','C','G','N','I'])\n",
    "        plot_stacked_bar(range(len(seqs[0])), res_array, ['A','U','C','G','N','I'], f'{label} residue position frequencies')\n",
    "    \n",
    "    # Sequence histogram\n",
    "    if seqs_hist:\n",
    "        seqs_dict = OrderedDict(Counter(seqs).most_common())\n",
    "        plot_bar(seqs_dict, f'{label} sequence frequencies')\n",
    "    \n",
    "    # Sequence by cluster\n",
    "    if clust_seqs_hist:\n",
    "        tmp_dir = figures_dir/'tmp'#Path(f'{figures_dir}/tmp')\n",
    "        if tmp_dir.exists() and tmp_dir.is_dir():\n",
    "            shutil.rmtree(tmp_dir)\n",
    "        tmp_dir.mkdir(parents=True, exist_ok=True)\n",
    "    \n",
    "        clust_ids = set([i.clust_id for i in data])\n",
    "        for c in clust_ids:\n",
    "            clust_seqs = [t.res_seq for t in data if t.clust_id == c]\n",
    "            clust_seqs_dict = OrderedDict(Counter(clust_seqs).most_common())\n",
    "            plot_bar(clust_seqs_dict, f'{label} cluster {c} sequence frequencies', dir=tmp_dir)\n",
    "        merge_pdfs_in_dir(tmp_dir, format_filename(f'{label} cluster sequence frequencies.pdf'))\n",
    "    \n",
    "    # Cluster histogram\n",
    "    if clust_hist:\n",
    "        clust_ids = [t.clust_id for t in data]\n",
    "        clust_ids_dict = OrderedDict(sorted(Counter(clust_ids).items()))\n",
    "        plot_bar(clust_ids_dict, f'{label} cluster frequencies')\n",
    "\n",
    "    print(f'Figures saved to /{figures_dir}\\n')"
   ]
  },
  {
   "cell_type": "markdown",
   "metadata": {},
   "source": [
    "# Tetraloops\n",
    "> The final tetraloop database is composed by 21,993 RNA fragments: 17,709 from X-ray, 3057 from NMR and 1227 from cryo-EM structures. The distributions of resolutions are shown in Fig. S1. [Bottaro et al.](https://www.ncbi.nlm.nih.gov/pmc/articles/PMC5529312/)\n",
    "\n",
    "According to Table SI1, there should be a total of 19383 tetraloops. I don't know where/what the remaining 2610 RNA fragments (from the total of 21993) are. The total number of \"effective\" tetraloops (members whose distance is above 0.07 eRMSD) is 16979."
   ]
  },
  {
   "cell_type": "code",
   "execution_count": 67,
   "metadata": {},
   "outputs": [],
   "source": [
    "# Cluster groups, as named in Bottaro et al. Table SI1\n",
    "gnra = [1]\n",
    "gnra_like = [1, 3, 6, 9, 25, 26, 36, 40]\n",
    "uncg = [2]\n",
    "uncg_like = [2, 5, 37, 44]\n",
    "u_turn = [4]"
   ]
  },
  {
   "cell_type": "code",
   "execution_count": 69,
   "metadata": {},
   "outputs": [
    {
     "name": "stdout",
     "output_type": "stream",
     "text": [
      "Raw tetraloops:\n",
      "- Amount: 19383\n",
      "- Unique sequences: 292\n",
      "- PDB IDs: 864\n",
      "Figures saved to /figures\n",
      "\n",
      "Generated tetraloops:\n",
      "- Amount: 435\n",
      "- Unique sequences: 204\n",
      "- PDB IDs: 248\n",
      "- Chains: 269\n",
      "Figures saved to /figures\n",
      "\n"
     ]
    }
   ],
   "source": [
    "stats(tloops_raw, 'Raw tetraloops', seqs_hist=True, clust_seqs_hist=True, clust_hist=True, res_pos_hist=True)\n",
    "tloop_fragments = [i for i in fragments_8_raw if i.clust_id != 0]\n",
    "stats(tloop_fragments, 'Generated tetraloops', seqs_hist=True, clust_seqs_hist=True, clust_hist=True, res_pos_hist=True)"
   ]
  },
  {
   "cell_type": "markdown",
   "metadata": {},
   "source": [
    "# Chains"
   ]
  },
  {
   "cell_type": "code",
   "execution_count": 64,
   "metadata": {},
   "outputs": [
    {
     "name": "stdout",
     "output_type": "stream",
     "text": [
      "Raw annotated chains:\n",
      "- Amount: 3284\n",
      "- Unique sequences: 1032\n",
      "- PDB IDs: 864\n",
      "- Chains: 3284\n",
      "Figures saved to /figures\n",
      "\n",
      "Filtered annotated chains:\n",
      "- Amount: 527\n",
      "- Unique sequences: 526\n",
      "- PDB IDs: 402\n",
      "- Chains: 527\n",
      "Figures saved to /figures\n",
      "\n"
     ]
    }
   ],
   "source": [
    "stats(chains_annotated_raw, 'Raw annotated chains')\n",
    "stats(chains_annotated_filtered, 'Filtered annotated chains')"
   ]
  },
  {
   "cell_type": "markdown",
   "metadata": {},
   "source": [
    "# Fragments"
   ]
  },
  {
   "cell_type": "markdown",
   "metadata": {},
   "source": [
    "## Unique fragments\n",
    "The number of unique RNA fragments is $4^{8} = 65536$ (or $6^{8} = 1679616$, if residues I and N are included). \n",
    "\n",
    "Expected number of tries to obtain $x$ unique sequences:\n",
    "$$\\sum\\limits_{i=0}^x \\frac{n}{n-i}$$\n",
    "where $n$ = total number of unique sequences\n",
    "\n",
    "The expected number of tries needed to obtain *all* unique fragments is $764646$."
   ]
  },
  {
   "cell_type": "code",
   "execution_count": 65,
   "metadata": {},
   "outputs": [
    {
     "name": "stdout",
     "output_type": "stream",
     "text": [
      "Possible unique fragments: 65536\n",
      "Total # of fragments: 44919\n",
      "Unique fragments: 26920\n",
      "Expected # tries to obtain 26920 unique fragments: 34664\n"
     ]
    }
   ],
   "source": [
    "pos_unique_frags = 4**8\n",
    "print(f'Possible unique fragments: {pos_unique_frags}')\n",
    "\n",
    "print(f'Total # of fragments: {len(fragments_8_raw)}')\n",
    "unique_fragments = len(set([i.res_seq for i in fragments_8_filtered]))\n",
    "print(f'Unique fragments: {unique_fragments}')\n",
    "\n",
    "expected_tries = sum([pos_unique_frags/(pos_unique_frags-i) for i in range(unique_fragments)])\n",
    "print(f'Expected # tries to obtain {unique_fragments} unique fragments: {round(expected_tries)}')"
   ]
  },
  {
   "cell_type": "markdown",
   "metadata": {},
   "source": [
    "## Fragment of different lengths"
   ]
  },
  {
   "cell_type": "code",
   "execution_count": 80,
   "metadata": {},
   "outputs": [
    {
     "name": "stdout",
     "output_type": "stream",
     "text": [
      "Tetraloops 8:\n",
      "- Amount: 245\n",
      "- Unique sequences: 111\n",
      "- PDB IDs: 142\n",
      "- Chains: 148\n",
      "Figures saved to /figures\n",
      "\n",
      "Tetraloops 10:\n",
      "- Amount: 245\n",
      "- Unique sequences: 168\n",
      "- PDB IDs: 142\n",
      "- Chains: 148\n",
      "Figures saved to /figures\n",
      "\n",
      "Tetraloops 12:\n",
      "- Amount: 242\n",
      "- Unique sequences: 203\n",
      "- PDB IDs: 140\n",
      "- Chains: 145\n",
      "Figures saved to /figures\n",
      "\n",
      "Tetraloops 14:\n",
      "- Amount: 236\n",
      "- Unique sequences: 209\n",
      "- PDB IDs: 134\n",
      "- Chains: 139\n",
      "Figures saved to /figures\n",
      "\n"
     ]
    }
   ],
   "source": [
    "tloops_8 = [i for i  in fragments_8_filtered if i.clust_id in gnra]\n",
    "stats(tloops_8, 'Tetraloops 8', res_pos_hist=True)\n",
    "tloops_10 = [i for i  in fragments_10_filtered if i.clust_id in gnra]\n",
    "stats(tloops_10, 'Tetraloops 10', res_pos_hist=True)\n",
    "tloops_12 = [i for i  in fragments_12_filtered if i.clust_id in gnra]\n",
    "stats(tloops_12, 'Tetraloops 12', res_pos_hist=True)\n",
    "tloops_14 = [i for i  in fragments_14_filtered if i.clust_id in gnra]\n",
    "stats(tloops_14, 'Tetraloops 14', res_pos_hist=True)"
   ]
  }
 ],
 "metadata": {
  "kernelspec": {
   "display_name": "tensorflow",
   "language": "python",
   "name": "python3"
  },
  "language_info": {
   "codemirror_mode": {
    "name": "ipython",
    "version": 3
   },
   "file_extension": ".py",
   "mimetype": "text/x-python",
   "name": "python",
   "nbconvert_exporter": "python",
   "pygments_lexer": "ipython3",
   "version": "3.9.16"
  },
  "orig_nbformat": 4
 },
 "nbformat": 4,
 "nbformat_minor": 2
}
