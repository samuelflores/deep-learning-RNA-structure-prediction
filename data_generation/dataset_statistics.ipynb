{
 "cells": [
  {
   "cell_type": "markdown",
   "metadata": {},
   "source": [
    "# Setup"
   ]
  },
  {
   "cell_type": "code",
   "execution_count": 2,
   "metadata": {},
   "outputs": [],
   "source": [
    "# Imports\n",
    "%matplotlib inline\n",
    "import matplotlib as mpl\n",
    "import matplotlib.pyplot as plt\n",
    "import numpy as np\n",
    "import pandas as pd\n",
    "import requests\n",
    "import shutil\n",
    "import os\n",
    "\n",
    "import utils\n",
    "\n",
    "from classes import Tetraloop, Chain, Fragment\n",
    "from collections import Counter, OrderedDict\n",
    "from pathlib import Path\n",
    "from pprint import pprint\n",
    "from PyPDF2 import PdfWriter"
   ]
  },
  {
   "cell_type": "code",
   "execution_count": 4,
   "metadata": {},
   "outputs": [],
   "source": [
    "# Paths\n",
    "clusters_dir = Path('../../all_clusters/')\n",
    "structures_dir = Path('../../all_structures/')\n",
    "data_dir = Path('data/')\n",
    "fragments_dir = Path('data/fragments/')\n",
    "figures_dir = Path('figures/')\n",
    "training_data_dir = Path('training_data/')\n",
    "\n",
    "# Create figures directory if none exists\n",
    "if not figures_dir.exists():\n",
    "    figures_dir.mkdir(parents=True, exist_ok=True)"
   ]
  },
  {
   "cell_type": "code",
   "execution_count": 5,
   "metadata": {},
   "outputs": [],
   "source": [
    "# Load all data\n",
    "\n",
    "tloops_raw = utils.load(data_dir/'tloops_raw.pickle')\n",
    "tloops_filtered = utils.load(data_dir/'tloops_filtered.pickle')\n",
    "\n",
    "chains_annotated_raw = utils.load(data_dir/'chains_annotated_raw.pickle')\n",
    "chains_annotated_filtered = utils.load(data_dir/'chains_annotated_filtered.pickle')\n",
    "\n",
    "fragments_8_raw = utils.load(fragments_dir/'fragments_8_raw.pickle')\n",
    "fragments_10_raw = utils.load(fragments_dir/'fragments_10_raw.pickle')\n",
    "fragments_12_raw = utils.load(fragments_dir/'fragments_12_raw.pickle')\n",
    "fragments_14_raw = utils.load(fragments_dir/'fragments_14_raw.pickle')\n",
    "fragments_16_raw = utils.load(fragments_dir/'fragments_16_raw.pickle')\n",
    "fragments_18_raw = utils.load(fragments_dir/'fragments_18_raw.pickle')\n",
    "fragments_20_raw = utils.load(fragments_dir/'fragments_20_raw.pickle')\n",
    "fragments_22_raw = utils.load(fragments_dir/'fragments_22_raw.pickle')\n",
    "fragments_24_raw = utils.load(fragments_dir/'fragments_24_raw.pickle')\n",
    "\n",
    "fragments_8_filtered = utils.load(fragments_dir/'fragments_8_filtered.pickle')\n",
    "fragments_10_filtered = utils.load(fragments_dir/'fragments_10_filtered.pickle')\n",
    "fragments_12_filtered = utils.load(fragments_dir/'fragments_12_filtered.pickle')\n",
    "fragments_14_filtered = utils.load(fragments_dir/'fragments_14_filtered.pickle')\n",
    "fragments_16_filtered = utils.load(fragments_dir/'fragments_16_filtered.pickle')\n",
    "fragments_18_filtered = utils.load(fragments_dir/'fragments_18_filtered.pickle')\n",
    "fragments_20_filtered = utils.load(fragments_dir/'fragments_20_filtered.pickle')\n",
    "fragments_22_filtered = utils.load(fragments_dir/'fragments_22_filtered.pickle')\n",
    "fragments_24_filtered = utils.load(fragments_dir/'fragments_24_filtered.pickle')\n",
    "\n",
    "fragments_filtered = [fragments_8_filtered, fragments_10_filtered, fragments_12_filtered, fragments_14_filtered, fragments_16_filtered, fragments_18_filtered, fragments_20_filtered, fragments_22_filtered, fragments_24_filtered]\n",
    "fragments_raw = [fragments_8_raw, fragments_10_raw, fragments_12_raw, fragments_14_raw, fragments_16_raw, fragments_18_raw, fragments_20_raw, fragments_22_raw, fragments_24_raw]"
   ]
  },
  {
   "cell_type": "code",
   "execution_count": 6,
   "metadata": {},
   "outputs": [],
   "source": [
    "# Load metadata\n",
    "metadata = pd.read_csv(data_dir/'RCSB_metadata.csv', header=[1]).dropna(axis=1, how='all')"
   ]
  },
  {
   "cell_type": "code",
   "execution_count": 10,
   "metadata": {},
   "outputs": [],
   "source": [
    "def get_pdb_ids(data, unique=False, clusters=None):\n",
    "    if clusters: pdb_ids = [i.pdb_id for i in data if i.clust_id in clusters]\n",
    "    else: pdb_ids = [i.pdb_id for i in data]\n",
    "    if unique: return set(pdb_ids)\n",
    "    else: return pdb_ids\n",
    "\n",
    "\n",
    "def get_seqs(data, unique=False, clusters=None):\n",
    "    if clusters: seqs = [i.res_seq for i in data if i.clust_id in clusters]\n",
    "    else: seqs = [i.res_seq for i in data]\n",
    "    if unique: return set(seqs)\n",
    "    else: return seqs\n",
    "\n",
    "\n",
    "def get_counter_dict(data):\n",
    "    return OrderedDict(Counter(data).most_common())"
   ]
  },
  {
   "cell_type": "markdown",
   "metadata": {},
   "source": [
    "## PDB ID (metadata)"
   ]
  },
  {
   "cell_type": "code",
   "execution_count": 53,
   "metadata": {},
   "outputs": [
    {
     "name": "stdout",
     "output_type": "stream",
     "text": [
      "1j5e, 1e4p, 1yij, 2p89, 379d, 4u53, 2koc, 5dm6, 2ku0, 2zzm, 4qk9, 3w3s, 1hs3, 1zdh, 2uub, 1un6, 1zig, 2aht, 4gkk, 4v7x, 3d0x, 4zt9, 4v5a, 1hnw, 4v9o, 4v9k, 4wt8, 2uu9, 3lqx, 5mdz, 1dk1, 1k4a, 4v5k, 2pxb, 3g6e, 3zjv, 1nyb, 5doy, 1y39, 4v7w, 3skr, 1fyo, 1txs, 1zdi, 4wfm, 2ktz, 2tob, 4v7y, 1rlg, 4u1u, 2mqv, 3ndb, 1nwy, 2lhp, 5fkh, 5ibb, 2qex, 4w2h, 3j9m, 1ffk, 1kuq, 2euy, 2nc1, 4w2i, 2bny, 3e5f, 3ccu, 4y1j, 2n3r, 4b3t, 2v3c, 1q29, 4wqr, 5msf, 3skz, 2hua, 1i94, 2o44, 3rw6, 2n3q, 4v6a, 4v9p, 5fdu, 5fj1, 4e8p, 4c7o, 5j4d, 2lup, 1vqn, 1ldz, 4pqv, 4nxh, 5f98, 2oiu, 1r7z, 1yi2, 4b5r, 1vqm, 1rfr, 4oqu, 2i7e, 1xnq, 4u27, 3u4m, 4v8x, 4dv6, 4ji7, 4w4g, 5fk6, 3skw, 5jc9, 1hr2, 4k27, 4w92, 4k50, 4wsd, 5f8k, 1yjn, 2jyf, 4l47, 3rg5, 4wpo, 4v83, 4v9f, 3jct, 5dat, 5mrc, 3umy, 4v6c, 4ypb, 4wra, 5b2o, 1njp, 4dr3, 4lvx, 4p9r, 3iqp, 2jwv, 4v99, 2jxv, 2e5l, 4u3u, 4v6g, 2pxk, 5an9, 5dm7, 4un5, 4v8d, 1kqs, 4u55, 2uxc, 5ib8, 28sp, 5j02, 5j7l, 1q93, 3slm, 4v8c, 3adc, 4v7s, 5t62, 1n66, 5j4b, 5b2q, 2pxq, 1m90, 1s9s, 5fk1, 1vy5, 5lyb, 2ho6, 4un3, 2grw, 5e7k, 1hs8, 5aox, 3jbv, 4z3s, 1hnx, 4woi, 4v9s, 5fw3, 2k66, 1vq5, 3i56, 1vq4, 4b3m, 1mnx, 5h1s, 4wzd, 4oog, 4v88, 2mxs, 1kc8, 2lwk, 4v4q, 1r2p, 1fmn, 5el4, 1vq9, 4wqf, 5b2t, 4plx, 4lfb, 359d, 2ogm, 3cme, 4ena, 4v9c, 4v9l, 4e8q, 5m0h, 5b2s, 5it8, 3ccv, 2z74, 3bo4, 4v9i, 5t2a, 1aud, 3gx2, 1ikd, 5iem, 3mum, 2m58, 4l81, 2lk3, 4y4p, 3j6b, 3igi, 5ddo, 2adt, 4v87, 4khp, 4zer, 4v8f, 4v7z, 5el7, 2qa4, 3bwp, 4dr2, 3slq, 4wt1, 1y69, 1hq1, 4v8e, 2pxu, 5dcv, 4www, 1j5a, 5iqr, 3sd3, 4fau, 4w90, 4u51, 3ccq, 3cce, 4lsk, 4u4r, 3bo3, 4v7v, 1p9x, 5f9r, 3vrs, 5apo, 3gx3, 4arc, 4nmg, 2lps, 2pxl, 3p22, 2zjr, 4meg, 1cq5, 4faq, 4wf9, 1q82, 4r4p, 5hau, 28sr, 5hcq, 1qvf, 4y1n, 2m4q, 1mzp, 2byt, 4pdb, 1q86, 3g78, 4v7j, 1l9a, 4wq1, 5j4c, 3s8u, 4u24, 3cc7, 4fb0, 1z31, 2jse, 5fq5, 4wqu, 2gis, 1f9l, 3ccs, 3pdr, 1n8x, 488d, 2f88, 4u4q, 5u4i, 3s7c, 2h0z, 4wfl, 4faw, 5fk3, 4z8c, 2r8s, 1n8r, 4rqf, 4aob, 5el6, 2jyj, 3muv, 1kh6, 5fw1, 5tgm, 4p3e, 3ucu, 4v52, 4wzo, 5dgv, 5iwa, 1n33, 3t1y, 2ho7, 1r7w, 4dv7, 4x65, 1hr0, 4v7l, 4v8q, 4b3s, 4lf7, 1vy6, 4bw0, 4lvv, 1fg0, 2mis, 2otj, 4x62, 2hhh, 5gae, 1zho, 2v0g, 5ib7, 3mut, 4u3m, 2uxd, 3suh, 4v8g, 4v7u, 4v5e, 4v90, 3bo2, 3b4a, 5fkg, 2mtj, 1zih, 2uxb, 1scl, 4oo8, 3am1, 4fax, 2mxl, 4v67, 5f9h, 5tga, 1ekz, 4pmi, 1m5o, 1m1k, 5dge, 2mtk, 2uua, 2gip, 1o15, 4u26, 4lvz, 5j30, 5hcp, 2h0s, 4v7m, 4v8a, 2il9, 1ebs, 1hs2, 4u1v, 3cf5, 5dfe, 1xwp, 4un4, 4a4r, 1d6k, 5mdv, 1qa6, 1cql, 2n7m, 1q9a, 2gv4, 4erj, 5tpy, 1hnz, 4lt8, 2n6s, 1kxk, 4u25, 2f87, 4en5, 2l2k, 2b2g, 4ari, 1sm1, 3j79, 4m30, 4ji3, 4v51, 5j8a, 4y1i, 2pxf, 4jv5, 5j01, 4erl, 5btm, 5mdw, 5u3g, 5umd, 4frg, 1fyp, 5j3c, 4io9, 1aq3, 4nlf, 2izn, 3dvz, 3iab, 3l3c, 4v63, 1gid, 2pxd, 4v4h, 1xmo, 4wsm, 5ddq, 4lck, 3npq, 3ccm, 4zt0, 1ajf, 1vq6, 3jcs, 5h4p, 3cc2, 4dr6, 5lys, 2bte, 3ccl, 1fka, 3owz, 1yj9, 2a9l, 1xbp, 3b4b, 4v8n, 4tue, 4v9n, 2zm6, 2mqt, 3cxc, 1mfq, 4v5c, 2i7z, 3pio, 5hd1, 1f7y, 3zju, 4v7t, 1kp7, 4lf8, 2y9h, 4u4z, 4lvw, 4gkj, 1nwx, 480d, 5fci, 1l8v, 4v50, 4v5q, 5lze, 1hc8, 3nvi, 3j7y, 4v9b, 3j7p, 4e8t, 4y1m, 3v7e, 3ud3, 4lnt, 4e8m, 2iz8, 1m82, 2hw8, 5hcr, 4lf9, 4lvy, 5mdy, 2m4w, 5axw, 3iwn, 5aj0, 4u4y, 5mmm, 3cc4, 4v9q, 2n0j, 4ioa, 2ez6, 2zjq, 1xsg, 1vql, 1kd1, 2n6t, 1p5m, 3dw5, 3ski, 1ow9, 3g96, 5gm6, 4qvi, 4u4u, 2l1f, 2uuc, 3e5c, 3moj, 5m0j, 1nkw, 3ccj, 1ibk, 2hgh, 4wf1, 5mmi, 4e8n, 4yb0, 1zif, 1k01, 2h0w, 2otl, 4jf2, 2pxp, 3eoh, 2d3o, 4x66, 3nkb, 3iqn, 2jyh, 5jup, 1jid, 3npn, 4rum, 1xst, 1hs4, 1k9m, 1q8n, 1eht, 3b4c, 4qka, 1vqp, 1mms, 3g4s, 3mur, 4ji0, 4v8h, 5lyv, 3cun, 3adb, 3ucz, 1vy7, 3j7q, 4u4n, 301d, 5e81, 4v84, 4u3n, 5fke, 3cma, 3ccr, 1mfj, 5fdv, 5fkd, 3zjt, 1g1x, 2kpv, 1vvj, 1pbr, 1ull, 3g71, 4v5r, 4v57, 1vq7, 1xnr, 4u20, 3dw7, 3nmu, 5j88, 2n6w, 4as1, 1ibm, 1fhk, 4u56, 3suy, 1mfy, 300d, 1hmh, 5b2r, 4ay2, 4v8b, 4yb1, 3skl, 1lng, 430d, 1zzn, 1jj2, 4m2z, 1vqk, 4a4s, 4u6f, 1ond, 4by9, 5dgf, 4wro, 1q7y, 2lu0, 3pip, 1hs1, 2ydh, 4w2g, 5jvg, 1k73, 4pcj, 4v9h, 2lub, 5j5b, 1bvj, 5br8, 1yit, 4x64, 5dar, 5m0i, 1c0o, 5j8b, 1vq8, 4jya, 1ykq, 4far, 2nz4, 3ow2, 4y1o, 4v9a, 1w2b, 4v5p, 3a3a, 4e8r, 4r4v, 1nyi, 5dox, 3jce, 4lf4, 2l3c, 2n6x, 1qwa, 1u1y, 5fcj, 4y4o, 3dw4, 2rpt, 3skt, 2gio, 2l2j, 2l5z, 2ihx, 5czp, 4v6f, 4ji1, 2vqf, 1vqo, 2b2e, 5i4l, 5fk5, 4duy, 4enc, 2bq5, 2kxm, 2c50, 1g70, 1wz2, 5d99, 1mme, 1vy4, 1m5k, 5lzd, 2n1q, 4uyj, 4yaz, 4meh, 4v95, 2nci, 3dll, 4u50, 5kqe, 3mxh, 483d, 2vqe, 5j91, 3gx6, 4w2f, 3e5e, 3i55, 5fjc, 1byj, 3g9c, 4v9r, 1fjg, 299d, 5ddp, 1t4l, 1msy, 1ffz, 5lyu, 1q96, 1yhq, 2z75, 4e8k, 4u52, 2h0x, 1roq, 1s72, 4lf6, 4yhh, 3eog, 3g8t, 3g8s, 5lzv, 4lw0, 5fk4, 4wfa, 5f9f, 4v8i, 4w2e, 2gcs, 5dc3, 5fkf, 1u6p, 4v5s, 1esy, 3jam, 2pxe, 5m73, 1z43, 1m5l, 1n32, 1xmq, 3cpw, 4wqy, 3j7o, 4xco, 5czz, 5d5l, 4fnj, 3jah, 1u6b, 3dw6, 1aq4, 3d0u, 4qg3, 2pcw, 5m1j, 1nbs, 4wr6, 2izm, 1jzx, 2lpt, 1q81, 2aar, 3cul, 1k8a, 3irw, 4aqy, 3hl2, 4p95, 4qk8, 4b3r, 5el5, 2qbz, 4lgt, 5fk2, 1qvg, 3cd6, 3ktw, 1a9l, 5fw2, 1yjw, 4v54, 3gx7, 1dul, 4wu1, 1osw, 1k2g, 4v85, 3u56, 4wfb, 1ibl, 4v5l, 5d8h, 2l3e, 3ud4, 1u9s, 5t5h, 4ybb, 1nji, 1u3k, 4k0k, 4v5j, 3t1h, 4v64, 1oln, 2c51, 2pxv, 2nuf, 7msf, 3iqr, 2pxt, 5ddr, 1tob, 5lzz, 4enb, 5h5u, 2mxj, 4yzv, 5afi, 1ykv, 1i6u, 3sux, 1jzy, 4v9d, 4v5d, 4dr5, 1zdk, 4v19, 5lzs, 3gx5, 5mgp, 2gcv, 3j7a\n"
     ]
    }
   ],
   "source": [
    "# # PDB ID query string for RCSB\n",
    "# print(\", \".join(set([i.pdb_id for i in tloops_raw])))"
   ]
  },
  {
   "cell_type": "code",
   "execution_count": 10,
   "metadata": {},
   "outputs": [],
   "source": [
    "def get_structure(pdb_id: str):\n",
    "    matching_rows = metadata[metadata['Entry ID'] == pdb_id.upper()]\n",
    "    if not matching_rows.empty:\n",
    "        return matching_rows.iloc[0][\"Stucture Keywords\"]\n",
    "    else:\n",
    "        return \"\"\n",
    "\n",
    "\n",
    "def get_organisms(pdb_id: str):\n",
    "    organisms = []\n",
    "    start_loc = metadata.index[metadata['Entry ID'] == pdb_id.upper()]\n",
    "    if not start_loc.any(): return set([\"N/A\"])\n",
    "    start_idx = start_loc.tolist()[0]\n",
    "    for index, row in metadata.iloc[start_idx:].iterrows():\n",
    "        if row['Entry ID'] == pdb_id.upper() or pd.isna(row['Entry ID']):\n",
    "            organisms += [str(row[\"Source Organism\"])]\n",
    "        else: break\n",
    "    return set([i for i in organisms if i != \"nan\"])"
   ]
  },
  {
   "cell_type": "code",
   "execution_count": 31,
   "metadata": {},
   "outputs": [],
   "source": [
    "# Get structure and organism data\n",
    "\n",
    "bottaro_structures = [get_structure(i).lower() for i in get_pdb_ids(tloops_filtered)]\n",
    "generated_structures = [get_structure(i).lower() for i in get_pdb_ids(fragments_8_filtered, clusters=list(range(1,45)))]\n",
    "\n",
    "bottaro_organisms = [j.lower() for i in get_pdb_ids(tloops_filtered) for j in get_organisms(i)]\n",
    "generated_organisms = [j.lower() for i in get_pdb_ids(fragments_8_filtered, clusters=list(range(1,45))) for j in get_organisms(i)]"
   ]
  },
  {
   "cell_type": "code",
   "execution_count": 54,
   "metadata": {},
   "outputs": [
    {
     "data": {
      "image/png": "[encoded data removed]",
      "text/plain": [
       "<Figure size 1440x432 with 2 Axes>"
      ]
     },
     "metadata": {
      "needs_background": "light"
     },
     "output_type": "display_data"
    }
   ],
   "source": [
    "fig, axes = plt.subplots(1,2, figsize=(20, 6))\n",
    "fig.subplots_adjust(wspace=0.3)\n",
    "fig.tight_layout\n",
    "\n",
    "bar_height = 0.4\n",
    "\n",
    "# Structures\n",
    "\n",
    "axes[0].set_title(\"Structures\")\n",
    "axes[0].set_ylabel(\"Annotated structure\")\n",
    "axes[0].set_xlabel(\"Amount\")\n",
    "axes[0].set_xlim([0, 12500])\n",
    "\n",
    "other_limit = 20\n",
    "\n",
    "# Bottaro tetraloops\n",
    "bottaro_data = get_counter_dict(bottaro_structures)\n",
    "bottaro_merged = {\"Ribosome-associated\": 0, \"RNA-associated\": 0, \"Other\": 0}\n",
    "for structure, count in bottaro_data.items():\n",
    "    if \"ribosome\" in structure: bottaro_merged[\"Ribosome-associated\"] += count\n",
    "    elif \"rna\" in structure:    bottaro_merged[\"RNA-associated\"] += count\n",
    "    elif count < other_limit:   bottaro_merged[\"Other\"] += count\n",
    "    else:                       bottaro_merged[structure.capitalize()] = count\n",
    "bottaro_merged = dict(sorted(bottaro_merged.items(), key=lambda item: item[1]))\n",
    "bottaro_merged = {'Other': bottaro_merged.pop('Other'), **bottaro_merged}\n",
    "\n",
    "y_pos = np.arange(len(bottaro_merged))\n",
    "bar = axes[0].barh(y_pos, bottaro_merged.values(), height=bar_height, align=\"edge\")\n",
    "axes[0].bar_label(bar, padding=5)\n",
    "_ = axes[0].set_yticks(y_pos, labels=bottaro_merged.keys())\n",
    "\n",
    "# Generated tetraloops\n",
    "generated_data = get_counter_dict(generated_structures)\n",
    "generated_merged = dict(zip(bottaro_merged.keys(), np.zeros(len(bottaro_merged))))\n",
    "for structure, count in generated_data.items():\n",
    "    if \"ribosome\" in structure: generated_merged[\"Ribosome-associated\"] += count\n",
    "    elif \"rna\" in structure:    generated_merged[\"RNA-associated\"] += count\n",
    "    elif count < other_limit:   generated_merged[\"Other\"] += count\n",
    "    else:                       generated_merged[structure.capitalize()] = count\n",
    "\n",
    "bar = axes[0].barh(y_pos, generated_merged.values(), height=-bar_height, align=\"edge\")\n",
    "axes[0].bar_label(bar, padding=5)\n",
    "\n",
    "axes[0].legend(labels=[\"Bottaro\", \"Generated\"], loc=\"lower right\")\n",
    "\n",
    "\n",
    "# Organisms\n",
    "\n",
    "axes[1].set_title(\"Organisms\")\n",
    "axes[1].set_ylabel(\"Organism\")\n",
    "axes[1].set_xlabel(\"Amount\")\n",
    "axes[1].set_xlim([0, 8500])\n",
    "\n",
    "other_limit = 200\n",
    "\n",
    "# Bottaro\n",
    "bottaro_data = get_counter_dict(bottaro_organisms)\n",
    "bottaro_merged = {\"T. thermophilus\": 0, \"E. coli\": 0, \"S. cerevisiae\": 0, \"Other\": 0}\n",
    "for organism, count in bottaro_data.items():\n",
    "    if \"thermus thermophilus\" in organism:          bottaro_merged[\"T. thermophilus\"] += count\n",
    "    elif \"escherichia coli\" in organism:            bottaro_merged[\"E. coli\"] += count\n",
    "    elif \"saccharomyces cerevisiae\" in organism:    bottaro_merged[\"S. cerevisiae\"] += count\n",
    "    elif count < other_limit:                       bottaro_merged[\"Other\"] += count\n",
    "    else:\n",
    "        generic = organism.capitalize().split()[0][0] + \". \"\n",
    "        species = \" \".join(organism.split()[1:])\n",
    "        name = generic + species if organism != \"synthetic construct\" else organism.capitalize()\n",
    "        bottaro_merged[name] = count\n",
    "bottaro_merged = dict(sorted(bottaro_merged.items(), key=lambda item: item[1]))\n",
    "bottaro_merged = {'Other': bottaro_merged.pop('Other'), **bottaro_merged}\n",
    "\n",
    "y_pos = np.arange(len(bottaro_merged))\n",
    "bar = axes[1].barh(y_pos, bottaro_merged.values(), height=bar_height, align=\"edge\")\n",
    "axes[1].bar_label(bar, padding=5)\n",
    "_ = axes[1].set_yticks(y_pos, labels=bottaro_merged.keys())\n",
    "\n",
    "# Generated\n",
    "generated_data = get_counter_dict(generated_organisms)\n",
    "generated_merged = dict(zip(bottaro_merged.keys(), np.zeros(len(bottaro_merged))))\n",
    "for organism, count in generated_data.items():\n",
    "    if \"thermus thermophilus\" in organism:          generated_merged[\"T. thermophilus\"] += count\n",
    "    elif \"escherichia coli\" in organism:            generated_merged[\"E. coli\"] += count\n",
    "    elif \"saccharomyces cerevisiae\" in organism:    generated_merged[\"S. cerevisiae\"] += count\n",
    "    elif count < other_limit:                       generated_merged[\"Other\"] += count\n",
    "    else:\n",
    "        generic = organism.capitalize().split()[0][0] + \". \"\n",
    "        species = \" \".join(organism.split()[1:])\n",
    "        name = generic + species if organism != \"synthetic construct\" else organism.capitalize()\n",
    "        generated_merged[name] = count\n",
    "\n",
    "bar = axes[1].barh(y_pos, generated_merged.values(), height=-bar_height, align=\"edge\")\n",
    "axes[1].bar_label(bar, padding=5)\n",
    "\n",
    "axes[1].legend(labels=[\"Bottaro\", \"Generated\"], loc=\"lower right\")\n",
    "\n",
    "fig.savefig(figures_dir/\"structures_organisms.png\")"
   ]
  },
  {
   "cell_type": "code",
   "execution_count": 16,
   "metadata": {},
   "outputs": [
    {
     "data": {
      "text/plain": [
       "<matplotlib.legend.Legend at 0x14b64a1fc7f0>"
      ]
     },
     "execution_count": 16,
     "metadata": {},
     "output_type": "execute_result"
    },
    {
     "data": {
      "image/png": "[encoded data removed]",
      "text/plain": [
       "<Figure size 576x288 with 1 Axes>"
      ]
     },
     "metadata": {
      "needs_background": "light"
     },
     "output_type": "display_data"
    }
   ],
   "source": [
    "# Chain length vs. structure annotation\n",
    "\n",
    "num_bins = 20\n",
    "\n",
    "\n",
    "fig, ax = plt.subplots(figsize=(8,4))\n",
    "\n",
    "ax.set_title(\"Proportion of structures per chain length\")\n",
    "ax.set_xlabel(\"Chain length (nt)\")\n",
    "\n",
    "chain_lengths = [len(i) for i in chains_annotated_raw]\n",
    "bin_lims = np.linspace(min(chain_lengths), max(chain_lengths), num=num_bins+1)\n",
    "bin_size = bin_lims[1] - bin_lims[0]\n",
    "\n",
    "chain_bins = [[] for i in range(num_bins)]\n",
    "for chain in chains_annotated_raw:\n",
    "    bin_idx = int((len(chain))/bin_size)\n",
    "    if bin_idx == num_bins: bin_idx -= 1\n",
    "    chain_bins[bin_idx] += [chain]\n",
    "\n",
    "size_counts = {\"Ribosomes\": np.zeros(num_bins), \"RNAs\": np.zeros(num_bins), \"Other\": np.zeros(num_bins)} \n",
    "\n",
    "for bin_idx, bin in enumerate(chain_bins):\n",
    "    for chain in bin:\n",
    "        structure = get_structure(chain.pdb_id).lower()\n",
    "        if \"ribosome\" in structure: size_counts[\"Ribosomes\"][bin_idx] += 1\n",
    "        elif \"rna\" in structure:    size_counts[\"RNAs\"][bin_idx] += 1\n",
    "        else:                       size_counts[\"Other\"][bin_idx] += 1\n",
    "\n",
    "bottom = np.zeros(num_bins)\n",
    "for boolean, size_count in size_counts.items():\n",
    "    bars = ax.bar(bin_lims[:-1], size_count, width=bin_size, label=boolean, bottom=bottom, align='edge')\n",
    "    # ax.bar_label(bars, [i if i > 30 else \"\" for i in size_count], padding=5)\n",
    "    bottom += size_count\n",
    "\n",
    "ax.legend(loc=\"upper right\")"
   ]
  },
  {
   "cell_type": "markdown",
   "metadata": {},
   "source": [
    "# Tetraloops\n",
    "> The final tetraloop database is composed by 21,993 RNA fragments: 17,709 from X-ray, 3057 from NMR and 1227 from cryo-EM structures. The distributions of resolutions are shown in Fig. S1. [Bottaro et al.](https://www.ncbi.nlm.nih.gov/pmc/articles/PMC5529312/)\n",
    "\n",
    "According to Table SI1, there should be a total of 19383 tetraloops. I don't know where/what the remaining 2610 RNA fragments (from the total of 21993) are. The total number of \"effective\" tetraloops (members whose distance is above 0.07 eRMSD) is 16979."
   ]
  },
  {
   "cell_type": "code",
   "execution_count": 26,
   "metadata": {},
   "outputs": [
    {
     "name": "stdout",
     "output_type": "stream",
     "text": [
      "Set                 Total  Unique sequences  PDB IDs\n",
      "Bottaro (raw)       19383  292               864\n",
      "Bottaro (filtered)  11952  292               864\n",
      "Generated           5032   289               469\n"
     ]
    }
   ],
   "source": [
    "# Unique sequences\n",
    "\n",
    "generated_tloops = [i for i in fragments_8_filtered if i.clust_id in range(1,45)]\n",
    "print(f\"Set                 Total  Unique sequences  PDB IDs\")\n",
    "print(f\"Bottaro (raw)       {len(tloops_raw):<7}{len(get_seqs(tloops_raw, unique=True)):<18}{len(get_pdb_ids(tloops_raw, unique=True))}\")\n",
    "print(f\"Bottaro (filtered)  {len(tloops_filtered):<7}{len(get_seqs(tloops_filtered, unique=True)):<18}{len(get_pdb_ids(tloops_filtered, unique=True))}\")\n",
    "print(f\"Generated           {len(generated_tloops):<7}{len(get_seqs(generated_tloops, unique=True)):<18}{len(get_pdb_ids(generated_tloops, unique=True))}\")"
   ]
  },
  {
   "cell_type": "markdown",
   "metadata": {},
   "source": [
    "| Set                | Total | Unique sequences | PDB IDs |\n",
    "|--------------------|-------|------------------|---------|\n",
    "| Bottaro (raw)      | 19383 | 292              | 864     |\n",
    "| Bottaro (filtered) | 11952 | 292              | 864     |\n",
    "| Generated          | 5032  | 289              | 469     |"
   ]
  },
  {
   "cell_type": "code",
   "execution_count": 92,
   "metadata": {},
   "outputs": [
    {
     "data": {
      "text/plain": [
       "<matplotlib.legend.Legend at 0x14da9352fa60>"
      ]
     },
     "execution_count": 92,
     "metadata": {},
     "output_type": "execute_result"
    },
    {
     "data": {
      "image/png": "[encoded data removed]",
      "text/plain": [
       "<Figure size 504x432 with 1 Axes>"
      ]
     },
     "metadata": {
      "needs_background": "light"
     },
     "output_type": "display_data"
    }
   ],
   "source": [
    "# Residue position histogram\n",
    "\n",
    "tloops = [i for i in fragments_10_filtered if i.clust_id != 0] #!\n",
    "# tloops = tloops_filtered #!\n",
    "\n",
    "sequences = get_seqs(tloops)\n",
    "res_names = ['A','U','C','G'] # N, I\n",
    "sequence_length = len(sequences[0])\n",
    "res_array = np.zeros(shape=(len(res_names), sequence_length))\n",
    "for seq in sequences:\n",
    "    for pos, res in enumerate(seq):\n",
    "        res_array[res_names.index(res)][pos] += 1\n",
    "res_array = res_array/res_array.sum(axis=0, keepdims=True)\n",
    "\n",
    "fig, ax = plt.subplots(figsize=(sequence_length*0.7,6))\n",
    "ax.set_title(f\"Residue composition per tetraloop position (length {sequence_length})\")\n",
    "ax.set_xlabel(\"Tetraloop position\")\n",
    "ax.set_ylabel(\"Residue composition (%)\")\n",
    "\n",
    "positions = range(1, sequence_length+1)\n",
    "ax.set_xticks(positions)\n",
    "\n",
    "bottom = np.zeros(sequence_length)\n",
    "for index, percentages in enumerate(res_array):\n",
    "    bar = ax.bar(positions, percentages, bottom=bottom, label=res_names[index])\n",
    "    ax.bar_label(bar, [round(i*100, 1) if i != 0 else \"\" for i in percentages], padding=-15)\n",
    "    bottom += percentages\n",
    "\n",
    "ax.legend(loc='upper right', bbox_to_anchor=(1.2,1.01))"
   ]
  },
  {
   "cell_type": "code",
   "execution_count": 108,
   "metadata": {},
   "outputs": [
    {
     "name": "stdout",
     "output_type": "stream",
     "text": [
      "Sequences missing from Fragments: {'AGGUGACU', 'AGGCGACU', 'GCGUAAGC'}\n",
      "39 tetraloops missing from Fragments:\n",
      "1  2gcs  AGGCGACU  112\n",
      "1  2gcv  AGGCGACU  112\n",
      "1  2h0s  AGGCGACU  112\n",
      "1  2h0w  AGGCGACU  112\n",
      "1  2h0x  AGGCGACU  112\n",
      "1  2h0z  AGGCGACU  112\n",
      "1  2ho6  AGGCGACU  112\n",
      "1  2ho7  AGGCGACU  112\n",
      "1  2nz4  AGGUGACU  107\n",
      "1  2nz4  AGGUGACU  107\n",
      "1  2nz4  AGGUGACU  107\n",
      "1  2nz4  AGGUGACU  107\n",
      "1  2z74  AGGCGACU  112\n",
      "1  2z75  AGGCGACU  112\n",
      "1  3b4a  AGGCGACU  112\n",
      "1  3b4b  AGGCGACU  112\n",
      "1  3b4c  AGGCGACU  112\n",
      "1  3g8s  AGGUGACU  107\n",
      "1  3g8s  AGGUGACU  107\n",
      "1  3g8s  AGGUGACU  107\n",
      "1  3g8s  AGGUGACU  107\n",
      "1  3g8t  AGGUGACU  107\n",
      "1  3g96  AGGUGACU  107\n",
      "1  3g96  AGGUGACU  107\n",
      "1  3g96  AGGUGACU  107\n",
      "1  3g96  AGGUGACU  107\n",
      "1  3g9c  AGGUGACU  107\n",
      "1  3g9c  AGGUGACU  107\n",
      "1  3g9c  AGGUGACU  107\n",
      "1  3g9c  AGGUGACU  107\n",
      "1  3l3c  AGGUGACU  107\n",
      "1  3l3c  AGGUGACU  107\n",
      "1  3l3c  AGGUGACU  107\n",
      "1  3l3c  AGGUGACU  107\n",
      "1  4meg  AGGCGACU  93\n",
      "1  4meh  AGGCGACU  93\n",
      "1  4r4p  GCGUAAGC  734\n",
      "1  4r4v  GCGUAAGC  734\n",
      "25 3g8t  AGGUGACU  107\n"
     ]
    }
   ],
   "source": [
    "# Missing Tetraloop sequences (found in Bottaro but not in Generated)\n",
    "\n",
    "tloop_raw_seqs = set([i.res_seq for i in tloops_raw])\n",
    "tloop_fragment_seqs = set([i.res_seq for i in fragments_8_raw if i.clust_id != 0])\n",
    "missing_seqs = tloop_raw_seqs - tloop_fragment_seqs\n",
    "print(f\"Sequences missing from Fragments: {missing_seqs}\")\n",
    "missing_tloops = [i for i in tloops_raw if i.res_seq in missing_seqs]\n",
    "print(f\"{len(missing_tloops)} tetraloops missing from Fragments:\")\n",
    "for i in missing_tloops: print(f\"{i.clust_id:<3}{i.pdb_id:6}{i.res_seq:10}{i.res_nums[0]}\")"
   ]
  },
  {
   "cell_type": "markdown",
   "metadata": {},
   "source": [
    "# Chains"
   ]
  },
  {
   "cell_type": "code",
   "execution_count": 24,
   "metadata": {},
   "outputs": [
    {
     "name": "stdout",
     "output_type": "stream",
     "text": [
      "Set        Total  Unique sequences  PDB IDs\n",
      "Raw        3284   1032              864\n",
      "Filtered   836    709               533\n"
     ]
    }
   ],
   "source": [
    "print(f\"Set        Total  Unique sequences  PDB IDs\")\n",
    "print(f\"Raw        {len(chains_annotated_raw):<7}{len(get_seqs(chains_annotated_raw, unique=True)):<18}{len(get_pdb_ids(chains_annotated_raw, unique=True))}\")\n",
    "print(f\"Filtered   {len(chains_annotated_filtered):<7}{len(get_seqs(chains_annotated_filtered, unique=True)):<18}{len(get_pdb_ids(chains_annotated_filtered, unique=True))}\")"
   ]
  },
  {
   "cell_type": "markdown",
   "metadata": {},
   "source": [
    "|           | Number of chains | Unique sequences | PDB IDs                             |\n",
    "|-----------|------------------|------------------|-------------------------------------|\n",
    "| Raw       | 3284             | 1032             | 864                                 |\n",
    "| Filtered  | 836              | 709              | 536                                 |"
   ]
  },
  {
   "cell_type": "code",
   "execution_count": 8,
   "metadata": {},
   "outputs": [
    {
     "data": {
      "text/plain": [
       "<matplotlib.legend.Legend at 0x14ad4e38fac0>"
      ]
     },
     "execution_count": 8,
     "metadata": {},
     "output_type": "execute_result"
    },
    {
     "data": {
      "image/png": "[encoded data removed]",
      "text/plain": [
       "<Figure size 576x288 with 1 Axes>"
      ]
     },
     "metadata": {
      "needs_background": "light"
     },
     "output_type": "display_data"
    }
   ],
   "source": [
    "# Raw vs. filtered chain lengths\n",
    "\n",
    "fig, ax = plt.subplots(figsize=(8, 4))\n",
    "\n",
    "ax.set_title(\"Chain lengths\")\n",
    "ax.set_xlabel(\"Length\")\n",
    "ax.set_ylabel(\"Frequency\")\n",
    "ax.set_ylim([0, 2800])\n",
    "\n",
    "data = [[len(i) for i in chains_annotated_raw], [len(i) for i in chains_annotated_filtered]]\n",
    "\n",
    "values, _, bars = ax.hist(data, bins = range(0, max(data[0]), 400), label=[\"Raw\", \"Filtered\"], rwidth=0.8)\n",
    "ax.bar_label(bars[0], labels=[int(i) if i != 0 else \"\" for i in values[0]], rotation='vertical', padding=5)\n",
    "ax.bar_label(bars[1], labels=[int(i) if i != 0 else \"\" for i in values[1]], rotation='vertical', padding=5)\n",
    "ax.set_xticks(range(0, max(data[0]), 400))\n",
    "\n",
    "ax.legend()\n",
    "# fig.savefig(figures_dir/\"chain_lengths.png\")"
   ]
  },
  {
   "cell_type": "code",
   "execution_count": 25,
   "metadata": {},
   "outputs": [
    {
     "data": {
      "text/plain": [
       "<matplotlib.legend.Legend at 0x14da9d04eb30>"
      ]
     },
     "execution_count": 25,
     "metadata": {},
     "output_type": "execute_result"
    },
    {
     "data": {
      "image/png": "[encoded data removed]",
      "text/plain": [
       "<Figure size 1080x288 with 1 Axes>"
      ]
     },
     "metadata": {
      "needs_background": "light"
     },
     "output_type": "display_data"
    }
   ],
   "source": [
    "# Number of tetraloops per annotated chain\n",
    "# why is the average number of tetraloops per PDB id so high (like 10 per pdb id)?\n",
    "# check the chains with the highest number of tetraloops\n",
    "\n",
    "fig, ax = plt.subplots(figsize=(15, 4))\n",
    "\n",
    "ax.set_title(\"Tetraloops per chain\")\n",
    "ax.set_xlabel(\"Number of tetraloops per chain\")\n",
    "ax.set_ylabel(\"Frequency\")\n",
    "ax.set_ylim([0, 1500])\n",
    "\n",
    "data = [[len(i.tloops) for i in chains_annotated_raw], [len(i.tloops) for i in chains_annotated_filtered]]\n",
    "\n",
    "values, _, bars = ax.hist(data, bins = range(0, max(data[0])), label=[\"Raw\", \"Filtered\"], rwidth=0.8, align=\"left\")\n",
    "ax.bar_label(bars[0], labels=[int(i) if i != 0 else \"\" for i in values[0]], rotation='vertical', padding=5)\n",
    "ax.bar_label(bars[1], labels=[int(i) if i != 0 else \"\" for i in values[1]], rotation='vertical', padding=5)\n",
    "ax.set_xticks(range(0, max(data[0])))\n",
    "\n",
    "ax.legend()"
   ]
  },
  {
   "cell_type": "code",
   "execution_count": null,
   "metadata": {},
   "outputs": [],
   "source": [
    "# TODO TETRALOOPS PER STRUCTURE?"
   ]
  },
  {
   "cell_type": "markdown",
   "metadata": {},
   "source": [
    "# Fragments"
   ]
  },
  {
   "cell_type": "markdown",
   "metadata": {},
   "source": [
    "## Unique sequences\n",
    "\n",
    "For a sequence of length 8, the number of unique RNA sequences is $4^{8} = 65536$ (or $6^{8} = 1679616$, if residues I and N are included). \n",
    "\n",
    "Expected number of tries to obtain $x$ unique sequences:\n",
    "$$\\sum\\limits_{i=0}^x \\frac{n}{n-i}$$\n",
    "where $n$ = total number of unique sequences\n",
    "\n",
    "The expected number of tries needed to obtain *all* unique sequences of length 8 is $764646$."
   ]
  },
  {
   "cell_type": "code",
   "execution_count": 132,
   "metadata": {},
   "outputs": [
    {
     "name": "stdout",
     "output_type": "stream",
     "text": [
      "Length  Total   Possible         Actual  Expected tries\n",
      "8       661843  65536            70737   53068   \n",
      "10      660326  1048576          70737   60838   \n",
      "12      658866  16777216         70737   64005   \n",
      "14      657469  268435456        70737   65923   \n",
      "16      656138  4294967296       70737   67302   \n",
      "18      654867  68719476736      70737   68394   \n",
      "20      653645  1099511627776    70737   69288   \n",
      "22      652469  17592186044416   70737   70053   \n",
      "24      651332  281474976710656  70737   70737   \n"
     ]
    }
   ],
   "source": [
    "# Possible number of unique fragments (assuming each residue is independent) vs. actual number of unique fragments (and expected number of tries to obtain said number)\n",
    "\n",
    "print(\"Length  Total   Possible         Actual  Expected tries\")\n",
    "for length, fragments in zip(range(8,25,2), fragments_raw):\n",
    "    possible_seqs = 4**length\n",
    "    unique_seqs = len(get_seqs(fragments, unique=True))\n",
    "    expected_tries = sum([possible_seqs/(possible_seqs-i) for i in range(unique_seqs)])\n",
    "    # expected_tries_all = sum([possible_seqs/(possible_seqs-i) for i in range(possible_seqs)]) #! This is too computationally heavy\n",
    "    print(f\"{length:<8}{len(fragments):<8}{possible_seqs:<17}{unique_fragments:<8}{round(expected_tries):<8}\") # {round(expected_tries_all)}"
   ]
  },
  {
   "cell_type": "code",
   "execution_count": 22,
   "metadata": {},
   "outputs": [],
   "source": [
    "# Decoy sizes\n",
    "\n",
    "raw_decoys = [len([j for j in i if j.clust_id == 0]) for i in fragments_raw]\n",
    "filtered_decoys = [len([j for j in i if j.clust_id == 0]) for i in fragments_filtered]"
   ]
  },
  {
   "cell_type": "markdown",
   "metadata": {},
   "source": [
    "|          |      8 |     10 |     12 |     14 |     16 |     18 |     20 |     22 |     24 |\n",
    "|----------|-------:|-------:|-------:|-------:|-------:|-------:|-------:|-------:|-------:|\n",
    "| Raw      | 656811 | 655294 | 653841 | 652463 | 651147 | 649884 | 648678 | 647514 | 646391 |\n",
    "| Filtered |  36323 |  58871 |  63532 |  65542 |  66919 |  68007 |  68903 |  69660 |  70347 |\n"
   ]
  },
  {
   "cell_type": "code",
   "execution_count": 104,
   "metadata": {},
   "outputs": [
    {
     "name": "stdout",
     "output_type": "stream",
     "text": [
      "Tetraloop sequences: 289\n",
      "Tetraloop sequences that also appear in decoys: 237\n"
     ]
    }
   ],
   "source": [
    "# Check which decoy sequences also appear as tloops\n",
    "\n",
    "tloop_seqs = get_seqs([i for i in fragments_8_raw if i.clust_id != 0], unique=True)\n",
    "decoy_seqs = get_seqs([i for i in fragments_8_raw if i.clust_id == 0], unique=True)\n",
    "intersection = tloop_seqs.intersection(decoy_seqs)\n",
    "print(f\"Tetraloop sequences: {len(tloop_seqs)}\")\n",
    "print(f\"Tetraloop sequences that also appear in decoys: {len(intersection)}\")"
   ]
  },
  {
   "cell_type": "markdown",
   "metadata": {},
   "source": [
    "## Clusters"
   ]
  },
  {
   "cell_type": "code",
   "execution_count": 12,
   "metadata": {},
   "outputs": [],
   "source": [
    "# Cluster groups, as named in Bottaro et al. Table SI1\n",
    "\n",
    "gnra = [1]\n",
    "gnra_like = [1, 3, 6, 9, 25, 26, 36, 40]\n",
    "uncg = [2]\n",
    "uncg_like = [2, 5, 37, 44]\n",
    "u_turn = [4]\n",
    "\n",
    "cluster_types = {1: \"GNRA\", 3: \"GNRA-like\", 6: \"GNRA-like\", 9: \"GNRA-like\", 25: \"GNRA-like\", 26: \"GNRA-like\", 36: \"GNRA-like\", 40: \"GNRA-like\", 2: \"UNCG\", 5: \"UNCG-like\", 37: \"UNCG-like\", 44: \"UNCG-like\", 4: \"U-TURN\", 7: \"7\", 8: \"8\", 10: \"10\", 11: \"4-Stack\", 12: \"12\", 34: \"34\", 13: \"13\", 20: \"20\", 14: \"14\", 19: \"19\", 15: \"15\", 16: \"16\", 17: \"17\", 18: \"18\", 21: \"RNYA\", 22: \"22\", 32: \"32\", 43: \"43\", 23: \"23\", 24: \"24\", 27: \"27\", 28: \"28\", 29: \"29\", 30: \"GGUG\", 31: \"31\", 33: \"33\", 35: \"CUUG\", 38: \"CUUG\", 39: \"AGNN\", 41: \"41\", 42: \"42\"}"
   ]
  },
  {
   "cell_type": "code",
   "execution_count": 21,
   "metadata": {},
   "outputs": [],
   "source": [
    "# Number of fragments per tetraloop cluster\n",
    "\n",
    "tloops_raw_counts = get_counter_dict([i.clust_id for i in tloops_raw])\n",
    "tloops_raw_counts = dict(sorted(tloops_raw_counts.items(), key=lambda x:x[0]))\n",
    "\n",
    "tloops_filtered_counts = get_counter_dict([i.clust_id for i in tloops_filtered])\n",
    "tloops_filtered_counts = dict(sorted(tloops_filtered_counts.items(), key=lambda x:x[0]))\n",
    "\n",
    "generated_counts = {}\n",
    "for cluster in range(0,45):\n",
    "    generated_counts[cluster] = [len([j for j in i if j.clust_id == cluster]) for i in fragments_filtered]"
   ]
  },
  {
   "cell_type": "markdown",
   "metadata": {},
   "source": [
    "|            | Bottaro (raw) | Bottaro (filtered) | Generated |       |       |       |       |       |       |       |       |\n",
    "|------------|---------------|--------------------|-----------|-------|-------|-------|-------|-------|-------|-------|-------|\n",
    "|            |               |                    |         8 |    10 |    12 |    14 |    16 |    18 |    20 |    22 |    24 |\n",
    "| 0 (decoys) |             0 |                  0 |     36323 | 58871 | 63532 | 65542 | 66919 | 68007 | 68903 | 69660 | 70347 |\n",
    "|          1 |         10993 |               6855 |      2859 |  2859 |  2855 |  2849 |  2847 |  2846 |  2840 |  2834 |  2821 |\n",
    "|          2 |          1664 |                765 |       318 |   318 |   318 |   318 |   314 |   314 |   310 |   305 |   305 |\n",
    "|          3 |           543 |                400 |       166 |   166 |   166 |   166 |   166 |   166 |   166 |   166 |   166 |\n",
    "|          4 |           522 |                305 |       116 |   116 |   116 |   111 |   111 |   111 |   111 |   110 |   110 |\n",
    "|          5 |           468 |                314 |       142 |   142 |   142 |   142 |   142 |   142 |   142 |   142 |   142 |\n",
    "|          6 |           373 |                281 |       121 |   121 |   121 |   121 |   120 |   120 |   119 |   119 |   118 |\n",
    "|          7 |           351 |                253 |       103 |   103 |   103 |   103 |   103 |   103 |   103 |   103 |   103 |\n",
    "|          8 |           332 |                216 |       127 |   127 |   127 |   127 |   127 |   127 |   127 |   127 |   127 |\n",
    "|          9 |           306 |                188 |        81 |    81 |    81 |    81 |    80 |    80 |    80 |    80 |    80 |\n",
    "|         10 |           284 |                231 |        78 |    78 |    78 |    78 |    78 |    78 |    78 |    78 |    78 |\n",
    "|         11 |           265 |                198 |        90 |    90 |    90 |    90 |    90 |    90 |    90 |    90 |    90 |\n",
    "|         12 |           258 |                178 |        90 |    90 |    90 |    90 |    90 |    90 |    90 |    90 |    90 |\n",
    "|         13 |           251 |                161 |        65 |    65 |    65 |    65 |    65 |    65 |    65 |    65 |    65 |\n",
    "|         14 |           231 |                157 |        63 |    63 |    63 |    63 |    63 |    63 |    63 |    63 |    63 |\n",
    "|         15 |           229 |                155 |        88 |    88 |    88 |    88 |    88 |    88 |    88 |    88 |    88 |\n",
    "|         16 |           211 |                135 |        71 |    71 |    71 |    71 |    71 |    71 |    71 |    71 |    71 |\n",
    "|         17 |           208 |                128 |        66 |    66 |    66 |    66 |    66 |    66 |    66 |    66 |    66 |\n",
    "|         18 |           206 |                156 |        57 |    57 |    57 |    57 |    57 |    57 |    57 |    57 |    57 |\n",
    "|         19 |           199 |                154 |        75 |    75 |    75 |    75 |    75 |    75 |    75 |    75 |    75 |\n",
    "|         20 |           151 |                119 |        51 |    51 |    51 |    51 |    51 |    51 |    51 |    51 |    51 |\n",
    "|         21 |           139 |                 87 |        41 |    41 |    38 |    30 |    24 |    19 |    16 |    16 |    16 |\n",
    "|         22 |           124 |                 67 |        41 |    41 |    41 |    41 |    41 |    41 |    41 |    41 |    41 |\n",
    "|         23 |           120 |                  1 |         1 |     1 |     1 |     1 |     1 |     0 |     0 |     0 |     0 |\n",
    "|         24 |            82 |                 51 |        25 |    25 |    25 |    25 |    25 |    25 |    25 |    25 |    25 |\n",
    "|         25 |            68 |                 41 |        14 |    14 |    14 |    14 |    14 |    14 |    14 |    14 |    14 |\n",
    "|         26 |            61 |                 61 |        14 |    14 |    14 |    14 |    14 |    14 |    14 |    14 |    14 |\n",
    "|         27 |            61 |                 33 |         1 |     1 |     1 |     1 |     1 |     1 |     1 |     1 |     1 |\n",
    "|         28 |            59 |                 31 |         7 |     7 |     7 |     7 |     7 |     7 |     7 |     7 |     7 |\n",
    "|         29 |            57 |                 31 |         7 |     7 |     7 |     7 |     7 |     6 |     5 |     5 |     5 |\n",
    "|         30 |            57 |                  5 |         4 |     4 |     4 |     4 |     4 |     4 |     3 |     3 |     3 |\n",
    "|         31 |            57 |                 39 |         5 |     5 |     5 |     5 |     5 |     5 |     5 |     5 |     5 |\n",
    "|         32 |            48 |                 36 |        13 |    13 |    13 |    13 |    13 |    13 |    13 |    13 |    13 |\n",
    "|         33 |            46 |                 32 |         5 |     5 |     5 |     5 |     5 |     5 |     5 |     5 |     5 |\n",
    "|         34 |            42 |                  7 |         3 |     3 |     3 |     3 |     3 |     3 |     3 |     3 |     3 |\n",
    "|         35 |            42 |                  2 |         1 |     1 |     1 |     1 |     1 |     1 |     1 |     1 |     1 |\n",
    "|         36 |            40 |                  2 |         1 |     1 |     1 |     1 |     1 |     1 |     1 |     1 |     1 |\n",
    "|         37 |            35 |                  2 |         1 |     1 |     1 |     1 |     1 |     1 |     1 |     1 |     1 |\n",
    "|         38 |            34 |                  2 |         1 |     1 |     1 |     1 |     1 |     1 |     1 |     1 |     1 |\n",
    "|         39 |            32 |                  3 |         2 |     2 |     2 |     2 |     1 |     1 |     1 |     1 |     1 |\n",
    "|         40 |            32 |                 21 |         7 |     7 |     7 |     7 |     7 |     7 |     7 |     7 |     7 |\n",
    "|         41 |            29 |                  1 |         1 |     1 |     1 |     1 |     1 |     1 |     1 |     1 |     1 |\n",
    "|         42 |            28 |                 28 |         2 |     2 |     2 |     2 |     2 |     2 |     2 |     2 |     2 |\n",
    "|         43 |            25 |                 18 |         6 |     6 |     6 |     6 |     6 |     6 |     6 |     6 |     6 |\n",
    "|         44 |            20 |                  2 |         2 |     2 |     2 |     2 |     2 |     2 |     2 |     2 |     2 |\n",
    "| Tetraloops |         19383 |              11952 |      5032 |  5032 |  5025 |  5006 |  4991 |  4983 |  4967 |  4955 |  4941 |\n",
    "| Total      |         19383 |              11952 |     41363 | 63913 | 68569 | 70562 | 71926 | 73008 | 73890 | 74637 | 75312 |"
   ]
  },
  {
   "cell_type": "code",
   "execution_count": 13,
   "metadata": {},
   "outputs": [
    {
     "data": {
      "text/plain": [
       "<matplotlib.legend.Legend at 0x14daa552b130>"
      ]
     },
     "execution_count": 13,
     "metadata": {},
     "output_type": "execute_result"
    },
    {
     "data": {
      "image/png": "[encoded data removed]",
      "text/plain": [
       "<Figure size 576x432 with 1 Axes>"
      ]
     },
     "metadata": {
      "needs_background": "light"
     },
     "output_type": "display_data"
    }
   ],
   "source": [
    "# Cluster analysis\n",
    "\n",
    "height = 0.4\n",
    "\n",
    "fig, ax = plt.subplots()\n",
    "ax.set_title(\"Number of tetraloops per cluster type\")\n",
    "ax.set_xlabel(\"Amount\")\n",
    "ax.set_ylabel(\"Cluster\")\n",
    "ax.set_xlim([0, 7700])\n",
    "\n",
    "named_clusters = [i for i in cluster_types.values() if not i.isdigit()]\n",
    "\n",
    "# Bottaro \n",
    "bottaro_data = get_counter_dict([i.clust_id for i in tloops_filtered])\n",
    "\n",
    "bottaro_merged = dict(zip(named_clusters, np.zeros(len(named_clusters))))\n",
    "bottaro_merged[\"Other\"] = 0\n",
    "for cluster, count in bottaro_data.items():\n",
    "    cluster_name = cluster_types[cluster]\n",
    "    if cluster_name.isdigit():  bottaro_merged[\"Other\"] += count\n",
    "    else:                       bottaro_merged[cluster_types[cluster]] += count\n",
    "bottaro_merged = dict(reversed(list(bottaro_merged.items())))\n",
    "\n",
    "bar = ax.barh(range(len(bottaro_merged)), bottaro_merged.values(), height=height, align=\"edge\")\n",
    "ax.set_yticks(range(len(bottaro_merged)), labels=bottaro_merged.keys())\n",
    "ax.bar_label(bar, [int(i) for i in bottaro_merged.values()], padding=5)\n",
    "\n",
    "# Generated\n",
    "generated_data = get_counter_dict([i.clust_id for i in fragments_8_filtered if i.clust_id in range(1,45)])\n",
    "\n",
    "generated_merged = dict(zip(named_clusters, np.zeros(len(named_clusters))))\n",
    "generated_merged[\"Other\"] = 0\n",
    "for cluster, count in generated_data.items():\n",
    "    cluster_name = cluster_types[cluster]\n",
    "    if cluster_name.isdigit():  generated_merged[\"Other\"] += count\n",
    "    else:                       generated_merged[cluster_types[cluster]] += count\n",
    "generated_merged = dict(reversed(list(generated_merged.items())))\n",
    "\n",
    "bar = ax.barh(range(len(generated_merged)), generated_merged.values(), height=-height, align=\"edge\")\n",
    "ax.bar_label(bar, [int(i) for i in generated_merged.values()], padding=5)\n",
    "\n",
    "ax.legend(labels=[\"Bottaro\", \"Generated\"], loc = \"lower right\")\n"
   ]
  },
  {
   "cell_type": "markdown",
   "metadata": {},
   "source": [
    "## Training datasets"
   ]
  },
  {
   "cell_type": "code",
   "execution_count": null,
   "metadata": {},
   "outputs": [],
   "source": [
    "# train/dev/test ratios and % positive examples\n",
    "\n",
    "training_data = {}\n",
    "\n",
    "for dir in os.listdir(training_data_dir):\n",
    "    if os.path.isfile(training_data_dir/dir): continue\n",
    "    if dir[-1] == \"T\": continue\n",
    "\n",
    "    data_dict = {}\n",
    "    total = 0\n",
    "    positives = 0\n",
    "\n",
    "    for file in os.listdir(training_data_dir/dir):\n",
    "        if file.endswith('.csv') or file.endswith('.npz'): continue\n",
    "\n",
    "        name = file.split(\"_\")[0]\n",
    "        labels = np.load(training_data_dir/dir/file)\n",
    "        data_dict[name] = len(labels)\n",
    "        \n",
    "        total += len(labels)\n",
    "        positives += np.count_nonzero(labels == 1)\n",
    "    \n",
    "    data_dict[\"total\"] = total\n",
    "    data_dict[\"positive\"] = positives\n",
    "    data_dict = dict(sorted(zip(data_dict.keys(), data_dict.values())))\n",
    "\n",
    "    data_name = \"_\".join(dir.split(\"_\")[:2])\n",
    "    training_data[data_name] = data_dict\n",
    "\n",
    "\n",
    "# for name, data in training_data.items():\n",
    "#     print(name, data)"
   ]
  },
  {
   "cell_type": "markdown",
   "metadata": {},
   "source": [
    "|          | length | train | dev  | test | positive | total |\n",
    "|----------|--------|-------|------|------|----------|-------|\n",
    "| clusters |     18 | 58392 | 7299 | 7299 |     2846 | 72990 |\n",
    "| clusters |     12 | 54845 | 6856 | 6856 |     2855 | 68557 |\n",
    "| clusters |     14 | 56438 | 7055 | 7055 |     2849 | 70548 |\n",
    "| clusters |     24 | 60230 | 7529 | 7529 |     2821 | 75288 |\n",
    "| clusters |     16 | 57528 | 7191 | 7191 |     2847 | 71910 |\n",
    "| clusters |     10 | 51122 | 6390 | 6391 |     2859 | 63903 |\n",
    "| clusters |      8 | 33084 | 4135 | 4136 |     2859 | 41355 |\n",
    "| clusters |     20 | 59096 | 7387 | 7387 |     2840 | 73870 |\n",
    "| clusters |     22 | 59692 | 7461 | 7462 |     2834 | 74615 |\n",
    "| gnra     |     24 |  3952 |  494 |  495 |     2821 |  4941 |\n",
    "| gnra     |     10 |  4025 |  503 |  504 |     2859 |  5032 |\n",
    "| gnra     |     16 |  3992 |  499 |  500 |     2847 |  4991 |\n",
    "| gnra     |     22 |  3964 |  495 |  496 |     2834 |  4955 |\n",
    "| gnra     |     14 |  4004 |  501 |  501 |     2849 |  5006 |\n",
    "| gnra     |     18 |  3986 |  498 |  499 |     2846 |  4983 |\n",
    "| gnra     |     20 |  3973 |  497 |  497 |     2840 |  4967 |\n",
    "| gnra     |     12 |  4020 |  502 |  503 |     2855 |  5025 |\n",
    "| gnra     |      8 |  4025 |  503 |  504 |     2859 |  5032 |\n",
    "| gnravall |     10 | 51122 | 6390 | 6391 |     2859 | 63903 |\n",
    "| gnravall |     14 | 56438 | 7055 | 7055 |     2849 | 70548 |\n",
    "| gnravall |      8 | 33084 | 4135 | 4136 |     2859 | 41355 |\n",
    "| gnravall |     12 | 54845 | 6856 | 6856 |     2855 | 68557 |\n",
    "| tloop    |     18 | 58392 | 7299 | 7299 |     4983 | 72990 |\n",
    "| tloop    |      8 | 33084 | 4135 | 4136 |     5032 | 41355 |\n",
    "| tloop    |     22 | 59692 | 7461 | 7462 |     4955 | 74615 |\n",
    "| tloop    |     16 | 57528 | 7191 | 7191 |     4991 | 71910 |\n",
    "| tloop    |     10 | 51122 | 6390 | 6391 |     5032 | 63903 |\n",
    "| tloop    |     14 | 56438 | 7055 | 7055 |     5006 | 70548 |\n",
    "| tloop    |     20 | 59096 | 7387 | 7387 |     4967 | 73870 |\n",
    "| tloop    |     12 | 54845 | 6856 | 6856 |     5025 | 68557 |\n",
    "| tloop    |     24 | 60230 | 7529 | 7529 |     4941 | 75288 |"
   ]
  }
 ],
 "metadata": {
  "kernelspec": {
   "display_name": "tensorflow",
   "language": "python",
   "name": "python3"
  },
  "language_info": {
   "codemirror_mode": {
    "name": "ipython",
    "version": 3
   },
   "file_extension": ".py",
   "mimetype": "text/x-python",
   "name": "python",
   "nbconvert_exporter": "python",
   "pygments_lexer": "ipython3",
   "version": "3.10.4"
  },
  "orig_nbformat": 4
 },
 "nbformat": 4,
 "nbformat_minor": 2
}
