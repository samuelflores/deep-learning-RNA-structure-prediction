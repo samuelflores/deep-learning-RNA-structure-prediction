{
 "cells": [
  {
   "cell_type": "code",
   "execution_count": null,
   "metadata": {
    "id": "4CHI8jT8tIFH"
   },
   "outputs": [],
   "source": [
    "import matplotlib.pyplot as plt\n",
    "import numpy as np\n",
    "import seaborn as sns\n",
    "from sklearn.metrics import classification_report, confusion_matrix\n",
    "import pandas as pd\n",
    "from sklearn.model_selection import train_test_split\n",
    "from sklearn import preprocessing\n",
    "import tensorflow as tf\n",
    "import math\n",
    "from numpy import asarray\n",
    "from numpy import save\n",
    "from numpy import load\n",
    "from tensorflow.keras.models import Sequential\n",
    "from tensorflow.keras.layers import Dense, Conv2D, MaxPool2D, Dropout, Flatten, Input\n",
    "from sklearn.preprocessing import StandardScaler\n",
    "import os\n",
    "import tempfile\n",
    "from tensorflow import keras\n",
    "from tensorflow.keras.optimizers import RMSprop\n",
    "import matplotlib as mpl\n",
    "import sklearn"
   ]
  },
  {
   "cell_type": "code",
   "execution_count": null,
   "metadata": {
    "colab": {
     "base_uri": "https://localhost:8080/"
    },
    "id": "OQ3_LAJQ554M",
    "outputId": "842d889c-a955-473b-bdeb-e44585cca43f"
   },
   "outputs": [
    {
     "name": "stdout",
     "output_type": "stream",
     "text": [
      "Mounted at /content/drive\n"
     ]
    }
   ],
   "source": [
    "#mount your drive to access the data \n",
    "#if you are accessing the data from the shared drive then you need to create a shortcut in your drive to the shared drive first\n",
    "#How do I mount a shared drive in Google Colab? - google this and follow instructions\n",
    "from google.colab import drive\n",
    "drive.mount('/content/drive')"
   ]
  },
  {
   "cell_type": "code",
   "execution_count": null,
   "metadata": {
    "colab": {
     "base_uri": "https://localhost:8080/"
    },
    "id": "NMVOwzZHtl7p",
    "outputId": "738e5ebf-7200-42cf-f1a0-b7c21b656aca"
   },
   "outputs": [
    {
     "name": "stdout",
     "output_type": "stream",
     "text": [
      "Examples:\n",
      "    Total: 1031279\n",
      "    Positive: 3419 (0.33% of total)\n",
      "\n"
     ]
    }
   ],
   "source": [
    "#SCF: This dies with a file not found error for me.\n",
    "#once drive is mounted then you must specify your path to the data \n",
    "#you may need to pay for a high-RAM runtime by signing up for google colab pro+ if you run this in colab. there is a lot of data being read in\n",
    "dict_train = load('./drive/MyDrive/dca_frames/dca_frames_train.npz')\n",
    "X_train = dict_train['arr_0']\n",
    "y_flt_train = load('./drive/MyDrive/dca_frames/dca_labels_train.npy')\n",
    "y_train = y_flt_train.astype(int)\n",
    "y_train[y_train>0] = 1 #make binary problem\n",
    "set(y_train)\n",
    "len(y_train)\n",
    "\n",
    "dict_test = load('./drive/MyDrive/dca_frames/dca_frames_test.npz')\n",
    "X_test = dict_test['arr_0']\n",
    "y_flt_test = load('./drive/MyDrive/dca_frames/dca_labels_test.npy')\n",
    "y_test = y_flt_test.astype(int)\n",
    "y_test[y_test>0] = 1 #make binary problem\n",
    "\n",
    "len(y_test)\n",
    "\n",
    "neg, pos = np.bincount(y_train)+np.bincount(y_test) \n",
    "total = neg + pos\n",
    "print('Examples:\\n    Total: {}\\n    Positive: {} ({:.2f}% of total)\\n'.format(\n",
    "    total, pos, 100 * pos / total))"
   ]
  },
  {
   "cell_type": "code",
   "execution_count": null,
   "metadata": {
    "colab": {
     "base_uri": "https://localhost:8080/"
    },
    "id": "NuVJxCGO6-N0",
    "outputId": "c681210e-46d3-4c5d-9bc6-8a38d033073a"
   },
   "outputs": [
    {
     "data": {
      "text/plain": [
       "array([274471,   1758])"
      ]
     },
     "execution_count": 4,
     "metadata": {},
     "output_type": "execute_result"
    }
   ],
   "source": [
    "np.bincount(y_test\n",
    "            )"
   ]
  },
  {
   "cell_type": "code",
   "execution_count": null,
   "metadata": {
    "colab": {
     "base_uri": "https://localhost:8080/"
    },
    "id": "9vRS4adetxDK",
    "outputId": "687beb17-48e0-45f4-8f4b-993110a5ff32"
   },
   "outputs": [
    {
     "name": "stdout",
     "output_type": "stream",
     "text": [
      "Training labels shape: (755050,)\n",
      "Test labels shape: (276229,)\n",
      "Training features shape: (755050, 11, 11, 26)\n",
      "Test features shape: (276229, 11, 11, 26)\n"
     ]
    }
   ],
   "source": [
    "print('Training labels shape:', y_train.shape)\n",
    "print('Test labels shape:', y_test.shape)\n",
    "\n",
    "print('Training features shape:', X_train.shape)\n",
    "print('Test features shape:', X_test.shape)"
   ]
  },
  {
   "cell_type": "code",
   "execution_count": null,
   "metadata": {
    "id": "nBQt3eO63yxE"
   },
   "outputs": [],
   "source": [
    "df = pd.read_csv('./drive/MyDrive/labeledfrequenciesanddca_april_26.csv')"
   ]
  },
  {
   "cell_type": "code",
   "execution_count": null,
   "metadata": {
    "id": "mBPxyi1a6JNl"
   },
   "outputs": [],
   "source": [
    "df['bond_type'].values[df['bond_type']>0] = 1"
   ]
  },
  {
   "cell_type": "code",
   "execution_count": null,
   "metadata": {
    "id": "ZmunV1BMuifg"
   },
   "outputs": [],
   "source": [
    "METRICS = [\n",
    "      keras.metrics.TruePositives(name='tp'),\n",
    "      keras.metrics.FalsePositives(name='fp'),\n",
    "      keras.metrics.TrueNegatives(name='tn'),\n",
    "      keras.metrics.FalseNegatives(name='fn'), \n",
    "      keras.metrics.BinaryAccuracy(name='accuracy'),\n",
    "      keras.metrics.Precision(name='precision'),\n",
    "      keras.metrics.Recall(name='recall'),\n",
    "      keras.metrics.AUC(name='auc'),\n",
    "      keras.metrics.AUC(name='prc', curve='PR'), # precision-recall curve\n",
    "]\n",
    "#add resnet layers \n",
    "#increase input size by two and use dilation\n",
    "def make_model(metrics=METRICS, output_bias=None):\n",
    "  if output_bias is not None:\n",
    "    output_bias = tf.keras.initializers.Constant(output_bias)\n",
    "  model = tf.keras.models.Sequential([\n",
    "    # Note the input shape is the desired size of the image 11x11 with 25 bytes color\n",
    "    # This is the first convolution\n",
    "    tf.keras.layers.Conv2D(16, (3,3), activation='relu', input_shape=(11, 11, 26)), #change to 11x11x26 if adding dca values to dinuc frequencies\n",
    "    tf.keras.layers.MaxPooling2D(2, 2),\n",
    "    tf.keras.layers.Dropout(0.25),\n",
    "    # The second convolution\n",
    "    tf.keras.layers.Conv2D(32, (3,3), activation='relu'),\n",
    "    tf.keras.layers.MaxPooling2D(2,2),\n",
    "    tf.keras.layers.Dropout(0.25),\n",
    "    # Flatten the results to feed into a DNN\n",
    "    tf.keras.layers.Flatten(),\n",
    "    # 512 neuron hidden layer\n",
    "    tf.keras.layers.Dense(512, activation='relu', bias_initializer=output_bias),\n",
    "    tf.keras.layers.Dropout(0.5),\n",
    "    # Only 1 output neuron. It will contain a value from 0-1 where 0 for class ('not contact') and 1 for the other ('contact')\n",
    "    tf.keras.layers.Dense(1, activation='sigmoid')\n",
    "  ])\n",
    "\n",
    "  model.compile(\n",
    "    optimizer=keras.optimizers.Adam(learning_rate=1e-3), #optimizer=RMSprop(lr=0.001),\n",
    "    loss=keras.losses.BinaryCrossentropy(),\n",
    "    metrics=metrics)\n",
    "\n",
    "  return model"
   ]
  },
  {
   "cell_type": "code",
   "execution_count": null,
   "metadata": {
    "id": "z85dq1U_umh2"
   },
   "outputs": [],
   "source": [
    "EPOCHS = 30\n",
    "BATCH_SIZE = 2048 #large batch size to ensure each batch contains a few contacts \n",
    "\n",
    "early_stopping = tf.keras.callbacks.EarlyStopping(\n",
    "    monitor='val_prc', \n",
    "    verbose=1,\n",
    "    patience=10,\n",
    "    mode='max',\n",
    "    restore_best_weights=True)"
   ]
  },
  {
   "cell_type": "code",
   "execution_count": null,
   "metadata": {
    "colab": {
     "base_uri": "https://localhost:8080/"
    },
    "id": "PiZ2KvQyupVB",
    "outputId": "961d1e1e-ba1d-4611-ec0a-f342898fa5c2"
   },
   "outputs": [
    {
     "name": "stdout",
     "output_type": "stream",
     "text": [
      "Model: \"sequential\"\n",
      "_________________________________________________________________\n",
      " Layer (type)                Output Shape              Param #   \n",
      "=================================================================\n",
      " conv2d (Conv2D)             (None, 9, 9, 16)          3760      \n",
      "                                                                 \n",
      " max_pooling2d (MaxPooling2D  (None, 4, 4, 16)         0         \n",
      " )                                                               \n",
      "                                                                 \n",
      " dropout (Dropout)           (None, 4, 4, 16)          0         \n",
      "                                                                 \n",
      " conv2d_1 (Conv2D)           (None, 2, 2, 32)          4640      \n",
      "                                                                 \n",
      " max_pooling2d_1 (MaxPooling  (None, 1, 1, 32)         0         \n",
      " 2D)                                                             \n",
      "                                                                 \n",
      " dropout_1 (Dropout)         (None, 1, 1, 32)          0         \n",
      "                                                                 \n",
      " flatten (Flatten)           (None, 32)                0         \n",
      "                                                                 \n",
      " dense (Dense)               (None, 512)               16896     \n",
      "                                                                 \n",
      " dropout_2 (Dropout)         (None, 512)               0         \n",
      "                                                                 \n",
      " dense_1 (Dense)             (None, 1)                 513       \n",
      "                                                                 \n",
      "=================================================================\n",
      "Total params: 25,809\n",
      "Trainable params: 25,809\n",
      "Non-trainable params: 0\n",
      "_________________________________________________________________\n"
     ]
    }
   ],
   "source": [
    "model = make_model()\n",
    "model.summary()"
   ]
  },
  {
   "cell_type": "code",
   "execution_count": null,
   "metadata": {
    "id": "wDxMZlaO7yib"
   },
   "outputs": [],
   "source": [
    "mpl.rcParams['figure.figsize'] = (15, 10)\n",
    "colors = plt.rcParams['axes.prop_cycle'].by_key()['color']"
   ]
  },
  {
   "cell_type": "code",
   "execution_count": null,
   "metadata": {
    "id": "clk_yVk9uuUA"
   },
   "outputs": [],
   "source": [
    "def plot_loss(history, label, n):\n",
    "  # Use a log scale on y-axis to show the wide range of values.\n",
    "  plt.semilogy(history.epoch, history.history['loss'],\n",
    "               color=colors[n], label='Train ' + label)\n",
    "  plt.semilogy(history.epoch, history.history['val_loss'],\n",
    "               color=colors[n], label='Val ' + label,\n",
    "               linestyle=\"--\")\n",
    "  plt.xlabel('Epoch')\n",
    "  plt.ylabel('Loss')\n",
    "  "
   ]
  },
  {
   "cell_type": "code",
   "execution_count": null,
   "metadata": {
    "id": "SObGqSb8u5Pv"
   },
   "outputs": [],
   "source": [
    "def plot_cm(labels, predictions, p=0.5):\n",
    "  cm = confusion_matrix(labels, predictions > p)\n",
    "  plt.figure(figsize=(5,5))\n",
    "  sns.heatmap(cm, annot=True, fmt=\"d\")\n",
    "  plt.title('Confusion matrix @{:.2f}'.format(p))\n",
    "  plt.ylabel('Actual label')\n",
    "  plt.xlabel('Predicted label')\n",
    "\n",
    "  print('Not Contacts Detected (True Negatives): ', cm[0][0])\n",
    "  print('Not Contacts Incorrectly Detected (False Positives): ', cm[0][1])\n",
    "  print('Contacts Missed (False Negatives): ', cm[1][0])\n",
    "  print('Contacts Detected (True Positives): ', cm[1][1])\n",
    "  print('Total Contacts: ', np.sum(cm[1]))"
   ]
  },
  {
   "cell_type": "code",
   "execution_count": null,
   "metadata": {
    "id": "4v_g1_LiuzJp"
   },
   "outputs": [],
   "source": [
    "def plot_metrics(history):\n",
    "  metrics = ['loss', 'prc', 'precision', 'recall']\n",
    "  for n, metric in enumerate(metrics):\n",
    "    name = metric.replace(\"_\",\" \").capitalize()\n",
    "    plt.subplot(2,2,n+1)\n",
    "    plt.plot(history.epoch, history.history[metric], color=colors[0], label='Train')\n",
    "    plt.plot(history.epoch, history.history['val_'+metric],\n",
    "             color=colors[0], linestyle=\"--\", label='Val')\n",
    "    plt.xlabel('Epoch')\n",
    "    plt.ylabel(name)\n",
    "    if metric == 'loss':\n",
    "      plt.ylim([0, plt.ylim()[1]])\n",
    "    elif metric == 'auc':\n",
    "      plt.ylim([0.8,1])\n",
    "    else:\n",
    "      plt.ylim([0,1])\n",
    "\n",
    "    plt.legend();"
   ]
  },
  {
   "cell_type": "code",
   "execution_count": null,
   "metadata": {
    "id": "znUeSs8eu8lC"
   },
   "outputs": [],
   "source": [
    "def plot_roc(name, labels, predictions, **kwargs):\n",
    "  fp, tp, _ = sklearn.metrics.roc_curve(labels, predictions)\n",
    "\n",
    "  plt.plot(100*fp, 100*tp, label=name, linewidth=2, **kwargs)\n",
    "  plt.xlabel('False positives [%]')\n",
    "  plt.ylabel('True positives [%]')\n",
    "  plt.xlim([-5,100])\n",
    "  plt.ylim([0,100])\n",
    "  plt.grid(True)\n",
    "  ax = plt.gca()\n",
    "  ax.set_aspect('equal')"
   ]
  },
  {
   "cell_type": "code",
   "execution_count": null,
   "metadata": {
    "id": "uuYOlsAj5c6o"
   },
   "outputs": [],
   "source": [
    "def plot_prc(name, labels, predictions, **kwargs):\n",
    "    precision, recall, _ = sklearn.metrics.precision_recall_curve(labels, predictions)\n",
    "\n",
    "    plt.plot( recall, precision, label=name, linewidth=2, **kwargs)\n",
    "    plt.ylabel('Precision-TP / (TP + FP)')\n",
    "    plt.xlabel('Recall-TP / (TP + FN)')\n",
    "    plt.grid(True)\n",
    "    ax = plt.gca()\n",
    "    ax.set_aspect('equal')"
   ]
  },
  {
   "cell_type": "code",
   "execution_count": null,
   "metadata": {
    "colab": {
     "base_uri": "https://localhost:8080/"
    },
    "id": "SdWwa0_BvCPi",
    "outputId": "c1e5422a-dc84-407b-a7b9-7078635c19d0"
   },
   "outputs": [
    {
     "name": "stdout",
     "output_type": "stream",
     "text": [
      "Weight for class 0: 0.50\n",
      "Weight for class 1: 150.82\n"
     ]
    }
   ],
   "source": [
    "#train with class weights\n",
    "# Scaling by total/2 helps keep the loss to a similar magnitude.\n",
    "# The sum of the weights of all examples stays the same.\n",
    "weight_for_0 = (1 / neg) * (total / 2.0)\n",
    "weight_for_1 = (1 / pos) * (total / 2.0)\n",
    "\n",
    "class_weight = {0: weight_for_0, 1: weight_for_1}\n",
    "\n",
    "print('Weight for class 0: {:.2f}'.format(weight_for_0))\n",
    "print('Weight for class 1: {:.2f}'.format(weight_for_1))"
   ]
  },
  {
   "cell_type": "code",
   "execution_count": null,
   "metadata": {
    "colab": {
     "base_uri": "https://localhost:8080/"
    },
    "id": "blZN3T57vC5L",
    "outputId": "ffa99801-e6e2-4265-8873-a8d8e892bc43"
   },
   "outputs": [
    {
     "name": "stdout",
     "output_type": "stream",
     "text": [
      "Epoch 1/30\n",
      "369/369 [==============================] - 35s 87ms/step - loss: 0.4505 - tp: 857.0000 - fp: 88966.0000 - tn: 664423.0000 - fn: 804.0000 - accuracy: 0.8811 - precision: 0.0095 - recall: 0.5160 - auc: 0.7761 - prc: 0.0175\n",
      "Epoch 2/30\n",
      "369/369 [==============================] - 32s 86ms/step - loss: 0.3900 - tp: 1033.0000 - fp: 77853.0000 - tn: 675536.0000 - fn: 628.0000 - accuracy: 0.8961 - precision: 0.0131 - recall: 0.6219 - auc: 0.8344 - prc: 0.0298\n",
      "Epoch 3/30\n",
      "369/369 [==============================] - 31s 83ms/step - loss: 0.3697 - tp: 1062.0000 - fp: 69407.0000 - tn: 683982.0000 - fn: 599.0000 - accuracy: 0.9073 - precision: 0.0151 - recall: 0.6394 - auc: 0.8479 - prc: 0.0384\n",
      "Epoch 4/30\n",
      "369/369 [==============================] - 31s 84ms/step - loss: 0.3535 - tp: 1105.0000 - fp: 66720.0000 - tn: 686669.0000 - fn: 556.0000 - accuracy: 0.9109 - precision: 0.0163 - recall: 0.6653 - auc: 0.8621 - prc: 0.0455\n",
      "Epoch 5/30\n",
      "369/369 [==============================] - 30s 82ms/step - loss: 0.3428 - tp: 1115.0000 - fp: 60360.0000 - tn: 693029.0000 - fn: 546.0000 - accuracy: 0.9193 - precision: 0.0181 - recall: 0.6713 - auc: 0.8696 - prc: 0.0513\n",
      "Epoch 6/30\n",
      "369/369 [==============================] - 30s 82ms/step - loss: 0.3346 - tp: 1116.0000 - fp: 54931.0000 - tn: 698458.0000 - fn: 545.0000 - accuracy: 0.9265 - precision: 0.0199 - recall: 0.6719 - auc: 0.8704 - prc: 0.0578\n",
      "Epoch 7/30\n",
      "369/369 [==============================] - 30s 82ms/step - loss: 0.3243 - tp: 1140.0000 - fp: 51865.0000 - tn: 701524.0000 - fn: 521.0000 - accuracy: 0.9306 - precision: 0.0215 - recall: 0.6863 - auc: 0.8825 - prc: 0.0617\n",
      "Epoch 8/30\n",
      "369/369 [==============================] - 31s 84ms/step - loss: 0.3184 - tp: 1142.0000 - fp: 50973.0000 - tn: 702416.0000 - fn: 519.0000 - accuracy: 0.9318 - precision: 0.0219 - recall: 0.6875 - auc: 0.8851 - prc: 0.0697\n",
      "Epoch 9/30\n",
      "369/369 [==============================] - 30s 82ms/step - loss: 0.3164 - tp: 1144.0000 - fp: 51629.0000 - tn: 701760.0000 - fn: 517.0000 - accuracy: 0.9309 - precision: 0.0217 - recall: 0.6887 - auc: 0.8874 - prc: 0.0695\n",
      "Epoch 10/30\n",
      "369/369 [==============================] - 30s 82ms/step - loss: 0.3116 - tp: 1148.0000 - fp: 49008.0000 - tn: 704381.0000 - fn: 513.0000 - accuracy: 0.9344 - precision: 0.0229 - recall: 0.6911 - auc: 0.8893 - prc: 0.0730\n",
      "Epoch 11/30\n",
      "369/369 [==============================] - 30s 82ms/step - loss: 0.3069 - tp: 1161.0000 - fp: 49073.0000 - tn: 704316.0000 - fn: 500.0000 - accuracy: 0.9343 - precision: 0.0231 - recall: 0.6990 - auc: 0.8944 - prc: 0.0730\n",
      "Epoch 12/30\n",
      "369/369 [==============================] - 30s 82ms/step - loss: 0.3027 - tp: 1166.0000 - fp: 45151.0000 - tn: 708238.0000 - fn: 495.0000 - accuracy: 0.9395 - precision: 0.0252 - recall: 0.7020 - auc: 0.8976 - prc: 0.0758\n",
      "Epoch 13/30\n",
      "369/369 [==============================] - 31s 83ms/step - loss: 0.2976 - tp: 1175.0000 - fp: 45402.0000 - tn: 707987.0000 - fn: 486.0000 - accuracy: 0.9392 - precision: 0.0252 - recall: 0.7074 - auc: 0.9004 - prc: 0.0797\n",
      "Epoch 14/30\n",
      "369/369 [==============================] - 30s 82ms/step - loss: 0.2955 - tp: 1182.0000 - fp: 47810.0000 - tn: 705579.0000 - fn: 479.0000 - accuracy: 0.9360 - precision: 0.0241 - recall: 0.7116 - auc: 0.9046 - prc: 0.0802\n",
      "Epoch 15/30\n",
      "369/369 [==============================] - 30s 82ms/step - loss: 0.2969 - tp: 1184.0000 - fp: 46763.0000 - tn: 706626.0000 - fn: 477.0000 - accuracy: 0.9374 - precision: 0.0247 - recall: 0.7128 - auc: 0.8989 - prc: 0.0766\n",
      "Epoch 16/30\n",
      "369/369 [==============================] - 31s 83ms/step - loss: 0.2924 - tp: 1179.0000 - fp: 45796.0000 - tn: 707593.0000 - fn: 482.0000 - accuracy: 0.9387 - precision: 0.0251 - recall: 0.7098 - auc: 0.9030 - prc: 0.0825\n",
      "Epoch 17/30\n",
      "369/369 [==============================] - 30s 82ms/step - loss: 0.2934 - tp: 1196.0000 - fp: 45692.0000 - tn: 707697.0000 - fn: 465.0000 - accuracy: 0.9389 - precision: 0.0255 - recall: 0.7200 - auc: 0.8994 - prc: 0.0871\n",
      "Epoch 18/30\n",
      "369/369 [==============================] - 30s 82ms/step - loss: 0.2938 - tp: 1187.0000 - fp: 43565.0000 - tn: 709824.0000 - fn: 474.0000 - accuracy: 0.9417 - precision: 0.0265 - recall: 0.7146 - auc: 0.9002 - prc: 0.0910\n",
      "Epoch 19/30\n",
      "369/369 [==============================] - 30s 82ms/step - loss: 0.2884 - tp: 1197.0000 - fp: 43333.0000 - tn: 710056.0000 - fn: 464.0000 - accuracy: 0.9420 - precision: 0.0269 - recall: 0.7207 - auc: 0.9026 - prc: 0.0923\n",
      "Epoch 20/30\n",
      "369/369 [==============================] - 30s 82ms/step - loss: 0.2906 - tp: 1192.0000 - fp: 44633.0000 - tn: 708756.0000 - fn: 469.0000 - accuracy: 0.9403 - precision: 0.0260 - recall: 0.7176 - auc: 0.9026 - prc: 0.0939\n",
      "Epoch 21/30\n",
      "369/369 [==============================] - 30s 82ms/step - loss: 0.2850 - tp: 1194.0000 - fp: 42826.0000 - tn: 710563.0000 - fn: 467.0000 - accuracy: 0.9427 - precision: 0.0271 - recall: 0.7188 - auc: 0.9061 - prc: 0.0959\n",
      "Epoch 22/30\n",
      "369/369 [==============================] - 31s 85ms/step - loss: 0.2890 - tp: 1195.0000 - fp: 43360.0000 - tn: 710029.0000 - fn: 466.0000 - accuracy: 0.9420 - precision: 0.0268 - recall: 0.7194 - auc: 0.9023 - prc: 0.0944\n",
      "Epoch 23/30\n",
      "369/369 [==============================] - 32s 87ms/step - loss: 0.2841 - tp: 1206.0000 - fp: 43833.0000 - tn: 709556.0000 - fn: 455.0000 - accuracy: 0.9413 - precision: 0.0268 - recall: 0.7261 - auc: 0.9064 - prc: 0.1001\n",
      "Epoch 24/30\n",
      "369/369 [==============================] - 30s 82ms/step - loss: 0.2860 - tp: 1200.0000 - fp: 44880.0000 - tn: 708509.0000 - fn: 461.0000 - accuracy: 0.9399 - precision: 0.0260 - recall: 0.7225 - auc: 0.9053 - prc: 0.0939\n",
      "Epoch 25/30\n",
      "369/369 [==============================] - 30s 82ms/step - loss: 0.2869 - tp: 1195.0000 - fp: 41958.0000 - tn: 711431.0000 - fn: 466.0000 - accuracy: 0.9438 - precision: 0.0277 - recall: 0.7194 - auc: 0.9026 - prc: 0.0958\n",
      "Epoch 26/30\n",
      "369/369 [==============================] - 33s 89ms/step - loss: 0.2844 - tp: 1196.0000 - fp: 42569.0000 - tn: 710820.0000 - fn: 465.0000 - accuracy: 0.9430 - precision: 0.0273 - recall: 0.7200 - auc: 0.9052 - prc: 0.1002\n",
      "Epoch 27/30\n",
      "369/369 [==============================] - 31s 83ms/step - loss: 0.2826 - tp: 1204.0000 - fp: 42243.0000 - tn: 711146.0000 - fn: 457.0000 - accuracy: 0.9434 - precision: 0.0277 - recall: 0.7249 - auc: 0.9089 - prc: 0.1080\n",
      "Epoch 28/30\n",
      "369/369 [==============================] - 30s 82ms/step - loss: 0.2799 - tp: 1202.0000 - fp: 39892.0000 - tn: 713497.0000 - fn: 459.0000 - accuracy: 0.9466 - precision: 0.0293 - recall: 0.7237 - auc: 0.9078 - prc: 0.1014\n",
      "Epoch 29/30\n",
      "369/369 [==============================] - 31s 83ms/step - loss: 0.2808 - tp: 1209.0000 - fp: 41312.0000 - tn: 712077.0000 - fn: 452.0000 - accuracy: 0.9447 - precision: 0.0284 - recall: 0.7279 - auc: 0.9076 - prc: 0.1036\n",
      "Epoch 30/30\n",
      "369/369 [==============================] - 30s 82ms/step - loss: 0.2770 - tp: 1200.0000 - fp: 37555.0000 - tn: 715834.0000 - fn: 461.0000 - accuracy: 0.9497 - precision: 0.0310 - recall: 0.7225 - auc: 0.9110 - prc: 0.1100\n"
     ]
    }
   ],
   "source": [
    "weighted_model = make_model()\n",
    "#weighted_model.load_weights(initial_weights)\n",
    "\n",
    "weighted_history = weighted_model.fit(\n",
    "    X_train,\n",
    "    y_train,\n",
    "    batch_size=BATCH_SIZE,\n",
    "    epochs=EPOCHS,\n",
    "    #callbacks=[early_stopping],\n",
    "    #validation_data=(X_val, y_val),\n",
    "    # The class weights go here\n",
    "    class_weight={0: 0.50, 1: 150.82})"
   ]
  },
  {
   "cell_type": "code",
   "execution_count": null,
   "metadata": {
    "colab": {
     "base_uri": "https://localhost:8080/",
     "height": 571
    },
    "id": "7HKlWBwhvDFZ",
    "outputId": "27c6652a-6992-436c-d02f-db41e03325aa"
   },
   "outputs": [
    {
     "ename": "KeyError",
     "evalue": "ignored",
     "output_type": "error",
     "traceback": [
      "\u001b[0;31m---------------------------------------------------------------------------\u001b[0m",
      "\u001b[0;31mKeyError\u001b[0m                                  Traceback (most recent call last)",
      "\u001b[0;32m<ipython-input-19-384a5e113df1>\u001b[0m in \u001b[0;36m<module>\u001b[0;34m()\u001b[0m\n\u001b[0;32m----> 1\u001b[0;31m \u001b[0mplot_metrics\u001b[0m\u001b[0;34m(\u001b[0m\u001b[0mweighted_history\u001b[0m\u001b[0;34m)\u001b[0m\u001b[0;34m\u001b[0m\u001b[0;34m\u001b[0m\u001b[0m\n\u001b[0m",
      "\u001b[0;32m<ipython-input-13-9de365f4f1ef>\u001b[0m in \u001b[0;36mplot_metrics\u001b[0;34m(history)\u001b[0m\n\u001b[1;32m      5\u001b[0m     \u001b[0mplt\u001b[0m\u001b[0;34m.\u001b[0m\u001b[0msubplot\u001b[0m\u001b[0;34m(\u001b[0m\u001b[0;36m2\u001b[0m\u001b[0;34m,\u001b[0m\u001b[0;36m2\u001b[0m\u001b[0;34m,\u001b[0m\u001b[0mn\u001b[0m\u001b[0;34m+\u001b[0m\u001b[0;36m1\u001b[0m\u001b[0;34m)\u001b[0m\u001b[0;34m\u001b[0m\u001b[0;34m\u001b[0m\u001b[0m\n\u001b[1;32m      6\u001b[0m     \u001b[0mplt\u001b[0m\u001b[0;34m.\u001b[0m\u001b[0mplot\u001b[0m\u001b[0;34m(\u001b[0m\u001b[0mhistory\u001b[0m\u001b[0;34m.\u001b[0m\u001b[0mepoch\u001b[0m\u001b[0;34m,\u001b[0m \u001b[0mhistory\u001b[0m\u001b[0;34m.\u001b[0m\u001b[0mhistory\u001b[0m\u001b[0;34m[\u001b[0m\u001b[0mmetric\u001b[0m\u001b[0;34m]\u001b[0m\u001b[0;34m,\u001b[0m \u001b[0mcolor\u001b[0m\u001b[0;34m=\u001b[0m\u001b[0mcolors\u001b[0m\u001b[0;34m[\u001b[0m\u001b[0;36m0\u001b[0m\u001b[0;34m]\u001b[0m\u001b[0;34m,\u001b[0m \u001b[0mlabel\u001b[0m\u001b[0;34m=\u001b[0m\u001b[0;34m'Train'\u001b[0m\u001b[0;34m)\u001b[0m\u001b[0;34m\u001b[0m\u001b[0;34m\u001b[0m\u001b[0m\n\u001b[0;32m----> 7\u001b[0;31m     plt.plot(history.epoch, history.history['val_'+metric],\n\u001b[0m\u001b[1;32m      8\u001b[0m              color=colors[0], linestyle=\"--\", label='Val')\n\u001b[1;32m      9\u001b[0m     \u001b[0mplt\u001b[0m\u001b[0;34m.\u001b[0m\u001b[0mxlabel\u001b[0m\u001b[0;34m(\u001b[0m\u001b[0;34m'Epoch'\u001b[0m\u001b[0;34m)\u001b[0m\u001b[0;34m\u001b[0m\u001b[0;34m\u001b[0m\u001b[0m\n",
      "\u001b[0;31mKeyError\u001b[0m: 'val_loss'"
     ]
    },
    {
     "data": {
      "image/png": "[encoded data removed]",
      "text/plain": [
       "<Figure size 1080x720 with 1 Axes>"
      ]
     },
     "metadata": {
      "needs_background": "light"
     },
     "output_type": "display_data"
    }
   ],
   "source": [
    "plot_metrics(weighted_history)\n",
    "#this gives an error because i am not currently using a validation set so it cant track the validation loss"
   ]
  },
  {
   "cell_type": "code",
   "execution_count": null,
   "metadata": {
    "id": "AVA8Dzdi9w-j"
   },
   "outputs": [],
   "source": [
    "train_predictions_weighted = weighted_model.predict(X_train, batch_size=BATCH_SIZE)\n",
    "test_predictions_weighted = weighted_model.predict(X_test, batch_size=BATCH_SIZE)"
   ]
  },
  {
   "cell_type": "code",
   "execution_count": null,
   "metadata": {
    "colab": {
     "base_uri": "https://localhost:8080/",
     "height": 636
    },
    "id": "Dx8OUt74vDIB",
    "outputId": "05e02cb2-e519-4e7d-fa1d-dda1109f78c7"
   },
   "outputs": [
    {
     "name": "stdout",
     "output_type": "stream",
     "text": [
      "loss :  0.24695438146591187\n",
      "tp :  1193.0\n",
      "fp :  26454.0\n",
      "tn :  248017.0\n",
      "fn :  565.0\n",
      "accuracy :  0.9021862149238586\n",
      "precision :  0.04315115511417389\n",
      "recall :  0.6786120533943176\n",
      "auc :  0.8700910806655884\n",
      "prc :  0.2123994380235672\n",
      "\n",
      "Not Contacts Detected (True Negatives):  248017\n",
      "Not Contacts Incorrectly Detected (False Positives):  26454\n",
      "Contacts Missed (False Negatives):  565\n",
      "Contacts Detected (True Positives):  1193\n",
      "Total Contacts:  1758\n"
     ]
    },
    {
     "data": {
      "image/png": "[encoded data removed]",
      "text/plain": [
       "<Figure size 360x360 with 2 Axes>"
      ]
     },
     "metadata": {
      "needs_background": "light"
     },
     "output_type": "display_data"
    }
   ],
   "source": [
    "weighted_results = weighted_model.evaluate(X_test, y_test,\n",
    "                                           batch_size=BATCH_SIZE, verbose=0)\n",
    "for name, value in zip(weighted_model.metrics_names, weighted_results):\n",
    "  print(name, ': ', value)\n",
    "print()\n",
    "\n",
    "plot_cm(y_test, test_predictions_weighted)"
   ]
  },
  {
   "cell_type": "code",
   "execution_count": null,
   "metadata": {
    "colab": {
     "base_uri": "https://localhost:8080/",
     "height": 610
    },
    "id": "zwdxz2DBvO1g",
    "outputId": "7776a5e6-02b8-459e-81ad-1ae9c288b566"
   },
   "outputs": [
    {
     "data": {
      "image/png": "[encoded data removed]",
      "text/plain": [
       "<Figure size 1080x720 with 1 Axes>"
      ]
     },
     "metadata": {
      "needs_background": "light"
     },
     "output_type": "display_data"
    }
   ],
   "source": [
    "\n",
    "\n",
    "plot_roc(\"Train Weighted\", y_train, train_predictions_weighted, color=colors[1])\n",
    "plot_roc(\"Test Weighted\", y_test, test_predictions_weighted, color=colors[1], linestyle='--')\n",
    "\n",
    "\n",
    "plt.legend(loc='lower right');"
   ]
  },
  {
   "cell_type": "code",
   "execution_count": null,
   "metadata": {
    "colab": {
     "base_uri": "https://localhost:8080/",
     "height": 606
    },
    "id": "8xADsu2wvU_G",
    "outputId": "8913a026-3c9f-40a4-d9fa-b0343eb60930"
   },
   "outputs": [
    {
     "data": {
      "image/png": "[encoded data removed]",
      "text/plain": [
       "<Figure size 1080x720 with 1 Axes>"
      ]
     },
     "metadata": {
      "needs_background": "light"
     },
     "output_type": "display_data"
    }
   ],
   "source": [
    "\n",
    "plot_prc(\"Train Weighted\", y_train, train_predictions_weighted, color=colors[1])\n",
    "plot_prc(\"Test Weighted\", y_test, test_predictions_weighted, color=colors[1], linestyle='--')\n",
    "plot_prc('pyDCA', df.bond_type, df.dca_val)\n",
    "\n",
    "plt.legend(loc='lower right');"
   ]
  }
 ],
 "metadata": {
  "colab": {
   "collapsed_sections": [],
   "machine_shape": "hm",
   "name": "dca_ccn",
   "provenance": []
  },
  "kernelspec": {
   "display_name": "Python 3 (ipykernel)",
   "language": "python",
   "name": "python3"
  },
  "language_info": {
   "codemirror_mode": {
    "name": "ipython",
    "version": 3
   },
   "file_extension": ".py",
   "mimetype": "text/x-python",
   "name": "python",
   "nbconvert_exporter": "python",
   "pygments_lexer": "ipython3",
   "version": "3.9.7"
  }
 },
 "nbformat": 4,
 "nbformat_minor": 1
}
