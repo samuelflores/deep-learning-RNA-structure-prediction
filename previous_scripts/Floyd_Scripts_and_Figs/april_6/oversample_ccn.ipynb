{
  "nbformat": 4,
  "nbformat_minor": 0,
  "metadata": {
    "colab": {
      "name": "oversample_ccn.ipynb",
      "provenance": [],
      "machine_shape": "hm"
    },
    "kernelspec": {
      "name": "python3",
      "display_name": "Python 3"
    },
    "language_info": {
      "name": "python"
    }
  },
  "cells": [
    {
      "cell_type": "code",
      "execution_count": null,
      "metadata": {
        "id": "HUW2eWxF6VYq"
      },
      "outputs": [],
      "source": [
        "import matplotlib.pyplot as plt\n",
        "import numpy as np\n",
        "import seaborn as sns\n",
        "from sklearn.metrics import classification_report, confusion_matrix\n",
        "import pandas as pd\n",
        "from sklearn.model_selection import train_test_split\n",
        "from sklearn import preprocessing\n",
        "import tensorflow as tf\n",
        "import math\n",
        "from numpy import asarray\n",
        "from numpy import save\n",
        "from numpy import load\n",
        "from tensorflow.keras.models import Sequential\n",
        "from tensorflow.keras.layers import Dense, Conv2D, MaxPool2D, Dropout, Flatten, Input\n",
        "from sklearn.preprocessing import StandardScaler\n",
        "import os\n",
        "import tempfile\n",
        "from tensorflow import keras\n",
        "from tensorflow.keras.optimizers import RMSprop\n",
        "import matplotlib as mpl\n",
        "import sklearn"
      ]
    },
    {
      "cell_type": "code",
      "source": [
        "#mount your drive to access the data \n",
        "#if you are accessing the data from the shared drive then you need to create a shortcut in your drive to the shared drive first\n",
        "#How do I mount a shared drive in Google Colab? - google this and follow instructions\n",
        "from google.colab import drive\n",
        "drive.mount('/content/drive')"
      ],
      "metadata": {
        "colab": {
          "base_uri": "https://localhost:8080/"
        },
        "id": "o3a57hVX6kJT",
        "outputId": "d5b294e0-9178-4708-a3aa-81db31576b16"
      },
      "execution_count": null,
      "outputs": [
        {
          "output_type": "stream",
          "name": "stdout",
          "text": [
            "Drive already mounted at /content/drive; to attempt to forcibly remount, call drive.mount(\"/content/drive\", force_remount=True).\n"
          ]
        }
      ]
    },
    {
      "cell_type": "code",
      "source": [
        "dict_train = load('./drive/MyDrive/dca_frames/dca_frames_train.npz')\n",
        "X_train = dict_train['arr_0'][:500000]\n",
        "y_flt_train = load('./drive/MyDrive/dca_frames/dca_labels_train.npy')\n",
        "y_train = y_flt_train.astype(int)[:500000]\n",
        "y_train[y_train>0] = 1 #make binary problem\n",
        "set(y_train)\n",
        "len(y_train)\n",
        "\n",
        "dict_test = load('./drive/MyDrive/dca_frames/dca_frames_test.npz')\n",
        "X_test = dict_test['arr_0'][:200000]\n",
        "y_flt_test = load('./drive/MyDrive/dca_frames/dca_labels_test.npy')\n",
        "y_test = y_flt_test.astype(int)[:200000]\n",
        "y_test[y_test>0] = 1 #make binary problem\n",
        "\n",
        "len(y_test)\n",
        "\n",
        "neg, pos = np.bincount(y_train)+np.bincount(y_test) \n",
        "total = neg + pos\n",
        "print('Examples:\\n    Total: {}\\n    Positive: {} ({:.2f}% of total)\\n'.format(\n",
        "    total, pos, 100 * pos / total))"
      ],
      "metadata": {
        "colab": {
          "base_uri": "https://localhost:8080/"
        },
        "id": "r_1ecOOD6mh1",
        "outputId": "a860077d-dd1d-41be-b8ff-3b1efd12e35c"
      },
      "execution_count": null,
      "outputs": [
        {
          "output_type": "stream",
          "name": "stdout",
          "text": [
            "Examples:\n",
            "    Total: 700000\n",
            "    Positive: 2292 (0.33% of total)\n",
            "\n"
          ]
        }
      ]
    },
    {
      "cell_type": "code",
      "source": [
        "print('Training labels shape:', y_train.shape)\n",
        "print('Test labels shape:', y_test.shape)\n",
        "\n",
        "print('Training features shape:', X_train.shape)\n",
        "print('Test features shape:', X_test.shape)"
      ],
      "metadata": {
        "colab": {
          "base_uri": "https://localhost:8080/"
        },
        "id": "TtML4kZ66oyg",
        "outputId": "49dcf813-a6b3-47f7-a109-a3a41a78032b"
      },
      "execution_count": null,
      "outputs": [
        {
          "output_type": "stream",
          "name": "stdout",
          "text": [
            "Training labels shape: (500000,)\n",
            "Test labels shape: (200000,)\n",
            "Training features shape: (500000, 11, 11, 26)\n",
            "Test features shape: (200000, 11, 11, 26)\n"
          ]
        }
      ]
    },
    {
      "cell_type": "code",
      "source": [
        "METRICS = [\n",
        "      keras.metrics.TruePositives(name='tp'),\n",
        "      keras.metrics.FalsePositives(name='fp'),\n",
        "      keras.metrics.TrueNegatives(name='tn'),\n",
        "      keras.metrics.FalseNegatives(name='fn'), \n",
        "      keras.metrics.BinaryAccuracy(name='accuracy'),\n",
        "      keras.metrics.Precision(name='precision'),\n",
        "      keras.metrics.Recall(name='recall'),\n",
        "      keras.metrics.AUC(name='auc'),\n",
        "      keras.metrics.AUC(name='prc', curve='PR'), # precision-recall curve\n",
        "]\n",
        "#add resnet layers \n",
        "#increase input size by two and use dilation\n",
        "def make_model(metrics=METRICS, output_bias=None):\n",
        "  if output_bias is not None:\n",
        "    output_bias = tf.keras.initializers.Constant(output_bias)\n",
        "  model = tf.keras.models.Sequential([\n",
        "    # Note the input shape is the desired size of the image 11x11 with 25 bytes color\n",
        "    # This is the first convolution\n",
        "    tf.keras.layers.Conv2D(16, (3,3), activation='relu', input_shape=(11, 11, 26)), #change to 11x11x26 if adding dca values to dinuc frequencies\n",
        "    tf.keras.layers.MaxPooling2D(2, 2),\n",
        "    tf.keras.layers.Dropout(0.25),\n",
        "    # The second convolution\n",
        "    tf.keras.layers.Conv2D(32, (3,3), activation='relu'),\n",
        "    tf.keras.layers.MaxPooling2D(2,2),\n",
        "    tf.keras.layers.Dropout(0.25),\n",
        "    # Flatten the results to feed into a DNN\n",
        "    tf.keras.layers.Flatten(),\n",
        "    # 512 neuron hidden layer\n",
        "    tf.keras.layers.Dense(512, activation='relu', bias_initializer=output_bias),\n",
        "    tf.keras.layers.Dropout(0.5),\n",
        "    # Only 1 output neuron. It will contain a value from 0-1 where 0 for class ('not contact') and 1 for the other ('contact')\n",
        "    tf.keras.layers.Dense(1, activation='sigmoid')\n",
        "  ])\n",
        "\n",
        "  model.compile(\n",
        "    optimizer=keras.optimizers.Adam(learning_rate=1e-3), #optimizer=RMSprop(lr=0.001),\n",
        "    loss=keras.losses.BinaryCrossentropy(),\n",
        "    metrics=metrics)\n",
        "\n",
        "  return model"
      ],
      "metadata": {
        "id": "Tefn0G58CnaO"
      },
      "execution_count": null,
      "outputs": []
    },
    {
      "cell_type": "code",
      "source": [
        "EPOCHS = 10\n",
        "BATCH_SIZE = 2048 #large batch size to ensure each batch contains a few contacts \n",
        "\n",
        "early_stopping = tf.keras.callbacks.EarlyStopping(\n",
        "    monitor='val_prc', \n",
        "    verbose=1,\n",
        "    patience=10,\n",
        "    mode='max',\n",
        "    restore_best_weights=True)"
      ],
      "metadata": {
        "id": "ns176ICjCqdg"
      },
      "execution_count": null,
      "outputs": []
    },
    {
      "cell_type": "code",
      "source": [
        "mpl.rcParams['figure.figsize'] = (15, 10)\n",
        "colors = plt.rcParams['axes.prop_cycle'].by_key()['color']"
      ],
      "metadata": {
        "id": "FXUe5s6aCvwr"
      },
      "execution_count": null,
      "outputs": []
    },
    {
      "cell_type": "code",
      "source": [
        "def plot_loss(history, label, n):\n",
        "  # Use a log scale on y-axis to show the wide range of values.\n",
        "  plt.semilogy(history.epoch, history.history['loss'],\n",
        "               color=colors[n], label='Train ' + label)\n",
        "  plt.semilogy(history.epoch, history.history['val_loss'],\n",
        "               color=colors[n], label='Val ' + label,\n",
        "               linestyle=\"--\")\n",
        "  plt.xlabel('Epoch')\n",
        "  plt.ylabel('Loss')"
      ],
      "metadata": {
        "id": "pksssJs7CwoY"
      },
      "execution_count": null,
      "outputs": []
    },
    {
      "cell_type": "code",
      "source": [
        "def plot_cm(labels, predictions, p=0.5):\n",
        "  cm = confusion_matrix(labels, predictions > p)\n",
        "  plt.figure(figsize=(5,5))\n",
        "  sns.heatmap(cm, annot=True, fmt=\"d\")\n",
        "  plt.title('Confusion matrix @{:.2f}'.format(p))\n",
        "  plt.ylabel('Actual label')\n",
        "  plt.xlabel('Predicted label')\n",
        "\n",
        "  print('Not Contacts Detected (True Negatives): ', cm[0][0])\n",
        "  print('Not Contacts Incorrectly Detected (False Positives): ', cm[0][1])\n",
        "  print('Contacts Missed (False Negatives): ', cm[1][0])\n",
        "  print('Contacts Detected (True Positives): ', cm[1][1])\n",
        "  print('Total Contacts: ', np.sum(cm[1]))"
      ],
      "metadata": {
        "id": "t2AXRDeRCzBJ"
      },
      "execution_count": null,
      "outputs": []
    },
    {
      "cell_type": "code",
      "source": [
        "def plot_metrics(history):\n",
        "  metrics = ['loss', 'prc', 'precision', 'recall']\n",
        "  for n, metric in enumerate(metrics):\n",
        "    name = metric.replace(\"_\",\" \").capitalize()\n",
        "    plt.subplot(2,2,n+1)\n",
        "    plt.plot(history.epoch, history.history[metric], color=colors[0], label='Train')\n",
        "    plt.plot(history.epoch, history.history['val_'+metric],\n",
        "             color=colors[0], linestyle=\"--\", label='Val')\n",
        "    plt.xlabel('Epoch')\n",
        "    plt.ylabel(name)\n",
        "    if metric == 'loss':\n",
        "      plt.ylim([0, plt.ylim()[1]])\n",
        "    elif metric == 'auc':\n",
        "      plt.ylim([0.8,1])\n",
        "    else:\n",
        "      plt.ylim([0,1])\n",
        "\n",
        "    plt.legend();"
      ],
      "metadata": {
        "id": "Nkw-kn9zC1EQ"
      },
      "execution_count": null,
      "outputs": []
    },
    {
      "cell_type": "code",
      "source": [
        "def plot_roc(name, labels, predictions, **kwargs):\n",
        "  fp, tp, _ = sklearn.metrics.roc_curve(labels, predictions)\n",
        "\n",
        "  plt.plot(100*fp, 100*tp, label=name, linewidth=2, **kwargs)\n",
        "  plt.xlabel('False positives [%]')\n",
        "  plt.ylabel('True positives [%]')\n",
        "  plt.xlim([-5,100])\n",
        "  plt.ylim([0,100])\n",
        "  plt.grid(True)\n",
        "  ax = plt.gca()\n",
        "  ax.set_aspect('equal')"
      ],
      "metadata": {
        "id": "KbNlS6wZC3Kg"
      },
      "execution_count": null,
      "outputs": []
    },
    {
      "cell_type": "code",
      "source": [
        "def plot_prc(name, labels, predictions, **kwargs):\n",
        "    precision, recall, _ = sklearn.metrics.precision_recall_curve(labels, predictions)\n",
        "\n",
        "    plt.plot(precision, recall, label=name, linewidth=2, **kwargs)\n",
        "    plt.xlabel('Recall  - TP / (TP + FN)')\n",
        "    plt.ylabel('Precision - TP / (TP + FP)')\n",
        "    plt.grid(True)\n",
        "    ax = plt.gca()\n",
        "    ax.set_aspect('equal')"
      ],
      "metadata": {
        "id": "T5JTU6uXC6L8"
      },
      "execution_count": null,
      "outputs": []
    },
    {
      "cell_type": "code",
      "source": [
        "bool_train_labels = y_train != 0"
      ],
      "metadata": {
        "id": "-YqsouyX6pAz"
      },
      "execution_count": null,
      "outputs": []
    },
    {
      "cell_type": "code",
      "source": [
        "pos_features = X_train[bool_train_labels]\n",
        "neg_features = X_train[~bool_train_labels]\n",
        "\n",
        "pos_labels = y_train[bool_train_labels]\n",
        "neg_labels = y_train[~bool_train_labels]"
      ],
      "metadata": {
        "id": "4RO4cQTD6pOH"
      },
      "execution_count": null,
      "outputs": []
    },
    {
      "cell_type": "code",
      "source": [
        "ids = np.arange(len(pos_features))\n",
        "choices = np.random.choice(ids, len(neg_features))\n",
        "\n",
        "res_pos_features = pos_features[choices]\n",
        "res_pos_labels = pos_labels[choices]\n",
        "\n",
        "res_pos_features.shape"
      ],
      "metadata": {
        "colab": {
          "base_uri": "https://localhost:8080/"
        },
        "id": "0pHuqArPCC64",
        "outputId": "18484b8e-b758-4340-e514-c8152a6bc747"
      },
      "execution_count": null,
      "outputs": [
        {
          "output_type": "execute_result",
          "data": {
            "text/plain": [
              "(498963, 11, 11, 26)"
            ]
          },
          "metadata": {},
          "execution_count": 8
        }
      ]
    },
    {
      "cell_type": "code",
      "source": [
        "resampled_features = np.concatenate([res_pos_features, neg_features], axis=0)\n",
        "resampled_labels = np.concatenate([res_pos_labels, neg_labels], axis=0)\n",
        "\n",
        "order = np.arange(len(resampled_labels))\n",
        "np.random.shuffle(order)\n",
        "resampled_features = resampled_features[order]\n",
        "resampled_labels = resampled_labels[order]\n",
        "\n",
        "resampled_features.shape"
      ],
      "metadata": {
        "colab": {
          "base_uri": "https://localhost:8080/"
        },
        "id": "v7lcgJTICC9d",
        "outputId": "dba4712f-d08f-4e97-85c8-493aac6d6d73"
      },
      "execution_count": null,
      "outputs": [
        {
          "output_type": "execute_result",
          "data": {
            "text/plain": [
              "(997926, 11, 11, 26)"
            ]
          },
          "metadata": {},
          "execution_count": 9
        }
      ]
    },
    {
      "cell_type": "code",
      "source": [
        "BUFFER_SIZE = 100000\n",
        "\n",
        "def make_ds(features, labels):\n",
        "  ds = tf.data.Dataset.from_tensor_slices((features, labels))#.cache()\n",
        "  ds = ds.shuffle(BUFFER_SIZE).repeat()\n",
        "  return ds\n",
        "\n",
        "pos_ds = make_ds(pos_features, pos_labels)\n",
        "neg_ds = make_ds(neg_features, neg_labels)"
      ],
      "metadata": {
        "id": "49qB0nWZCDA1"
      },
      "execution_count": null,
      "outputs": []
    },
    {
      "cell_type": "code",
      "source": [
        "for features, label in pos_ds.take(1):\n",
        "  print(\"Features:\\n\", features.numpy())\n",
        "  print()\n",
        "  print(\"Label: \", label.numpy())"
      ],
      "metadata": {
        "colab": {
          "base_uri": "https://localhost:8080/"
        },
        "id": "OsK2raRgCDDM",
        "outputId": "0b2983ae-3092-4ab9-a9fd-4b9de1bc6079"
      },
      "execution_count": null,
      "outputs": [
        {
          "output_type": "stream",
          "name": "stdout",
          "text": [
            "Features:\n",
            " [[[0.         0.         0.         ... 0.         0.         0.00447845]\n",
            "  [0.         0.         0.         ... 0.         0.         0.00447845]\n",
            "  [0.         0.         0.         ... 0.         0.         0.00447845]\n",
            "  ...\n",
            "  [0.         0.         0.         ... 0.         0.         0.00447845]\n",
            "  [0.         0.         0.         ... 0.         0.         0.00447845]\n",
            "  [0.         0.         0.         ... 0.         0.         0.00447845]]\n",
            "\n",
            " [[0.         0.         0.         ... 0.         0.         0.00447845]\n",
            "  [0.1429     0.         0.         ... 0.         0.         0.00447845]\n",
            "  [0.         0.1429     0.         ... 0.         0.         0.00447845]\n",
            "  ...\n",
            "  [0.         0.         0.         ... 0.         0.         0.00447845]\n",
            "  [0.         0.         0.         ... 0.         0.         0.00447845]\n",
            "  [0.         0.         0.         ... 0.         0.         0.00447845]]\n",
            "\n",
            " [[0.         0.         0.         ... 0.         0.         0.00447845]\n",
            "  [0.         0.         0.         ... 0.         0.         0.00447845]\n",
            "  [0.         0.         0.         ... 0.         0.         0.00447845]\n",
            "  ...\n",
            "  [0.         0.         0.         ... 0.         0.         0.00447845]\n",
            "  [0.         0.         0.         ... 0.         0.         0.00447845]\n",
            "  [0.         0.         0.         ... 0.         0.         0.00447845]]\n",
            "\n",
            " ...\n",
            "\n",
            " [[0.         0.         0.         ... 0.         0.         0.00447845]\n",
            "  [0.         0.         0.         ... 0.         0.         0.00447845]\n",
            "  [0.         0.         0.         ... 0.         0.         0.00447845]\n",
            "  ...\n",
            "  [0.         0.         0.         ... 0.         0.         0.00447845]\n",
            "  [0.         0.         0.         ... 0.         0.         0.00447845]\n",
            "  [0.         0.         0.         ... 0.         0.         0.00447845]]\n",
            "\n",
            " [[0.         0.         0.         ... 0.         0.         0.00447845]\n",
            "  [0.         0.         0.         ... 0.         0.         0.00447845]\n",
            "  [0.         0.         0.         ... 0.         0.         0.00447845]\n",
            "  ...\n",
            "  [0.         0.         0.         ... 0.         0.         0.00447845]\n",
            "  [0.         0.         0.         ... 0.         0.         0.00447845]\n",
            "  [0.         0.         0.         ... 0.         0.         0.00447845]]\n",
            "\n",
            " [[0.         0.         0.         ... 0.         0.         0.00447845]\n",
            "  [0.         0.         0.         ... 0.         0.         0.00447845]\n",
            "  [0.         0.         0.         ... 0.         0.         0.00447845]\n",
            "  ...\n",
            "  [0.         0.         0.         ... 0.         0.         0.00447845]\n",
            "  [0.         0.         0.         ... 0.         0.         0.00447845]\n",
            "  [0.         0.         0.         ... 0.         0.         0.00447845]]]\n",
            "\n",
            "Label:  1\n"
          ]
        }
      ]
    },
    {
      "cell_type": "code",
      "source": [
        "resampled_ds = tf.data.Dataset.sample_from_datasets([pos_ds, neg_ds], weights=[0.5, 0.5])\n",
        "resampled_ds = resampled_ds.batch(BATCH_SIZE).prefetch(2)"
      ],
      "metadata": {
        "id": "gFqhbLiCCDFk"
      },
      "execution_count": null,
      "outputs": []
    },
    {
      "cell_type": "code",
      "source": [
        "for features, label in resampled_ds.take(1):\n",
        "  print(label.numpy().mean())"
      ],
      "metadata": {
        "colab": {
          "base_uri": "https://localhost:8080/"
        },
        "id": "CdWWQp1ICDIJ",
        "outputId": "d20fc755-1ae5-4b0e-bb2b-262165c7fb29"
      },
      "execution_count": null,
      "outputs": [
        {
          "output_type": "stream",
          "name": "stdout",
          "text": [
            "0.4931640625\n"
          ]
        }
      ]
    },
    {
      "cell_type": "code",
      "source": [
        "resampled_steps_per_epoch = np.ceil(2.0*neg/BATCH_SIZE)\n",
        "resampled_steps_per_epoch"
      ],
      "metadata": {
        "colab": {
          "base_uri": "https://localhost:8080/"
        },
        "id": "kUJoDLkUCDKy",
        "outputId": "68cd37a8-3a01-4b67-df99-bd9a144f1e3f"
      },
      "execution_count": null,
      "outputs": [
        {
          "output_type": "execute_result",
          "data": {
            "text/plain": [
              "682.0"
            ]
          },
          "metadata": {},
          "execution_count": 21
        }
      ]
    },
    {
      "cell_type": "code",
      "source": [
        "resampled_model = make_model()\n",
        "\n",
        "\n",
        "# Reset the bias to zero, since this dataset is balanced.\n",
        "output_layer = resampled_model.layers[-1] \n",
        "output_layer.bias.assign([0])\n",
        "\n",
        "# val_ds = tf.data.Dataset.from_tensor_slices((val_features, val_labels)).cache()\n",
        "# val_ds = val_ds.batch(BATCH_SIZE).prefetch(2) \n",
        "\n",
        "resampled_history = resampled_model.fit(\n",
        "    resampled_ds,\n",
        "    epochs=EPOCHS,\n",
        "    steps_per_epoch=resampled_steps_per_epoch)\n",
        "    # callbacks=[early_stopping],\n",
        "    # validation_data=val_ds)"
      ],
      "metadata": {
        "colab": {
          "base_uri": "https://localhost:8080/"
        },
        "id": "by0XeLzHCP_o",
        "outputId": "91d8e078-2997-419d-bdd7-a4d9ec5a2c92"
      },
      "execution_count": null,
      "outputs": [
        {
          "output_type": "stream",
          "name": "stdout",
          "text": [
            "Epoch 1/10\n",
            "682/682 [==============================] - 75s 106ms/step - loss: 0.3600 - tp: 990172.0000 - fp: 120880.0000 - tn: 1122277.0000 - fn: 252943.0000 - accuracy: 0.8496 - precision: 0.8912 - recall: 0.7965 - auc: 0.9302 - prc: 0.9374\n",
            "Epoch 2/10\n",
            "682/682 [==============================] - 72s 105ms/step - loss: 0.2864 - tp: 571716.0000 - fp: 44315.0000 - tn: 653983.0000 - fn: 126722.0000 - accuracy: 0.8775 - precision: 0.9281 - recall: 0.8186 - auc: 0.9408 - prc: 0.9489\n",
            "Epoch 3/10\n",
            "682/682 [==============================] - 72s 106ms/step - loss: 0.2690 - tp: 585750.0000 - fp: 57302.0000 - tn: 641719.0000 - fn: 111965.0000 - accuracy: 0.8788 - precision: 0.9109 - recall: 0.8395 - auc: 0.9514 - prc: 0.9549\n",
            "Epoch 4/10\n",
            "682/682 [==============================] - 72s 106ms/step - loss: 0.2702 - tp: 575429.0000 - fp: 47022.0000 - tn: 651954.0000 - fn: 122331.0000 - accuracy: 0.8788 - precision: 0.9245 - recall: 0.8247 - auc: 0.9489 - prc: 0.9547\n",
            "Epoch 5/10\n",
            "682/682 [==============================] - 72s 106ms/step - loss: 0.2667 - tp: 577380.0000 - fp: 43198.0000 - tn: 654759.0000 - fn: 121399.0000 - accuracy: 0.8822 - precision: 0.9304 - recall: 0.8263 - auc: 0.9498 - prc: 0.9559\n",
            "Epoch 6/10\n",
            "682/682 [==============================] - 72s 106ms/step - loss: 0.2538 - tp: 588084.0000 - fp: 53371.0000 - tn: 645133.0000 - fn: 110148.0000 - accuracy: 0.8829 - precision: 0.9168 - recall: 0.8422 - auc: 0.9567 - prc: 0.9596\n",
            "Epoch 7/10\n",
            "682/682 [==============================] - 72s 106ms/step - loss: 0.2664 - tp: 580211.0000 - fp: 44564.0000 - tn: 653227.0000 - fn: 118734.0000 - accuracy: 0.8831 - precision: 0.9287 - recall: 0.8301 - auc: 0.9491 - prc: 0.9562\n",
            "Epoch 8/10\n",
            "682/682 [==============================] - 72s 105ms/step - loss: 0.2445 - tp: 600812.0000 - fp: 59200.0000 - tn: 639485.0000 - fn: 97239.0000 - accuracy: 0.8880 - precision: 0.9103 - recall: 0.8607 - auc: 0.9606 - prc: 0.9627\n",
            "Epoch 9/10\n",
            "682/682 [==============================] - 72s 105ms/step - loss: 0.2501 - tp: 591533.0000 - fp: 52046.0000 - tn: 645000.0000 - fn: 108157.0000 - accuracy: 0.8853 - precision: 0.9191 - recall: 0.8454 - auc: 0.9582 - prc: 0.9620\n",
            "Epoch 10/10\n",
            "682/682 [==============================] - 72s 106ms/step - loss: 0.2562 - tp: 571559.0000 - fp: 38875.0000 - tn: 659225.0000 - fn: 127077.0000 - accuracy: 0.8812 - precision: 0.9363 - recall: 0.8181 - auc: 0.9531 - prc: 0.9582\n"
          ]
        }
      ]
    },
    {
      "cell_type": "code",
      "source": [
        "plot_metrics(resampled_history)"
      ],
      "metadata": {
        "colab": {
          "base_uri": "https://localhost:8080/",
          "height": 571
        },
        "id": "fGnvLaWvCQB8",
        "outputId": "e7da5eff-e0f5-4506-f16a-bbff16405822"
      },
      "execution_count": null,
      "outputs": [
        {
          "output_type": "error",
          "ename": "KeyError",
          "evalue": "ignored",
          "traceback": [
            "\u001b[0;31m---------------------------------------------------------------------------\u001b[0m",
            "\u001b[0;31mKeyError\u001b[0m                                  Traceback (most recent call last)",
            "\u001b[0;32m<ipython-input-26-4999edc19518>\u001b[0m in \u001b[0;36m<module>\u001b[0;34m()\u001b[0m\n\u001b[0;32m----> 1\u001b[0;31m \u001b[0mplot_metrics\u001b[0m\u001b[0;34m(\u001b[0m\u001b[0mresampled_history\u001b[0m\u001b[0;34m)\u001b[0m\u001b[0;34m\u001b[0m\u001b[0;34m\u001b[0m\u001b[0m\n\u001b[0m",
            "\u001b[0;32m<ipython-input-14-9de365f4f1ef>\u001b[0m in \u001b[0;36mplot_metrics\u001b[0;34m(history)\u001b[0m\n\u001b[1;32m      5\u001b[0m     \u001b[0mplt\u001b[0m\u001b[0;34m.\u001b[0m\u001b[0msubplot\u001b[0m\u001b[0;34m(\u001b[0m\u001b[0;36m2\u001b[0m\u001b[0;34m,\u001b[0m\u001b[0;36m2\u001b[0m\u001b[0;34m,\u001b[0m\u001b[0mn\u001b[0m\u001b[0;34m+\u001b[0m\u001b[0;36m1\u001b[0m\u001b[0;34m)\u001b[0m\u001b[0;34m\u001b[0m\u001b[0;34m\u001b[0m\u001b[0m\n\u001b[1;32m      6\u001b[0m     \u001b[0mplt\u001b[0m\u001b[0;34m.\u001b[0m\u001b[0mplot\u001b[0m\u001b[0;34m(\u001b[0m\u001b[0mhistory\u001b[0m\u001b[0;34m.\u001b[0m\u001b[0mepoch\u001b[0m\u001b[0;34m,\u001b[0m \u001b[0mhistory\u001b[0m\u001b[0;34m.\u001b[0m\u001b[0mhistory\u001b[0m\u001b[0;34m[\u001b[0m\u001b[0mmetric\u001b[0m\u001b[0;34m]\u001b[0m\u001b[0;34m,\u001b[0m \u001b[0mcolor\u001b[0m\u001b[0;34m=\u001b[0m\u001b[0mcolors\u001b[0m\u001b[0;34m[\u001b[0m\u001b[0;36m0\u001b[0m\u001b[0;34m]\u001b[0m\u001b[0;34m,\u001b[0m \u001b[0mlabel\u001b[0m\u001b[0;34m=\u001b[0m\u001b[0;34m'Train'\u001b[0m\u001b[0;34m)\u001b[0m\u001b[0;34m\u001b[0m\u001b[0;34m\u001b[0m\u001b[0m\n\u001b[0;32m----> 7\u001b[0;31m     plt.plot(history.epoch, history.history['val_'+metric],\n\u001b[0m\u001b[1;32m      8\u001b[0m              color=colors[0], linestyle=\"--\", label='Val')\n\u001b[1;32m      9\u001b[0m     \u001b[0mplt\u001b[0m\u001b[0;34m.\u001b[0m\u001b[0mxlabel\u001b[0m\u001b[0;34m(\u001b[0m\u001b[0;34m'Epoch'\u001b[0m\u001b[0;34m)\u001b[0m\u001b[0;34m\u001b[0m\u001b[0;34m\u001b[0m\u001b[0m\n",
            "\u001b[0;31mKeyError\u001b[0m: 'val_loss'"
          ]
        },
        {
          "output_type": "display_data",
          "data": {
            "text/plain": [
              "<Figure size 1080x720 with 1 Axes>"
            ],
            "image/png": "[encoded data removed]"
          },
          "metadata": {
            "needs_background": "light"
          }
        }
      ]
    },
    {
      "cell_type": "code",
      "source": [
        "resampled_model = make_model()\n",
        "resampled_model.load_weights(initial_weights)\n",
        "\n",
        "# Reset the bias to zero, since this dataset is balanced.\n",
        "output_layer = resampled_model.layers[-1] \n",
        "output_layer.bias.assign([0])\n",
        "\n",
        "resampled_history = resampled_model.fit(\n",
        "    resampled_ds,\n",
        "    # These are not real epochs\n",
        "    steps_per_epoch=20,\n",
        "    epochs=10*EPOCHS,\n",
        "    callbacks=[early_stopping],\n",
        "    validation_data=(val_ds))"
      ],
      "metadata": {
        "id": "Km1auyAJCQEC"
      },
      "execution_count": null,
      "outputs": []
    },
    {
      "cell_type": "code",
      "source": [
        "train_predictions_resampled = resampled_model.predict(X_train, batch_size=BATCH_SIZE)\n",
        "test_predictions_resampled = resampled_model.predict(X_test, batch_size=BATCH_SIZE)"
      ],
      "metadata": {
        "id": "G7uyhn8aCQJg"
      },
      "execution_count": null,
      "outputs": []
    },
    {
      "cell_type": "code",
      "source": [
        "resampled_results = resampled_model.evaluate(X_test, y_test,\n",
        "                                             batch_size=BATCH_SIZE, verbose=0)\n",
        "for name, value in zip(resampled_model.metrics_names, resampled_results):\n",
        "  print(name, ': ', value)\n",
        "print()\n",
        "\n",
        "plot_cm(y_test, test_predictions_resampled)"
      ],
      "metadata": {
        "colab": {
          "base_uri": "https://localhost:8080/",
          "height": 636
        },
        "id": "cGoLH33HKv76",
        "outputId": "90afb5e9-62a0-4023-d4f6-4a4a86314094"
      },
      "execution_count": null,
      "outputs": [
        {
          "output_type": "stream",
          "name": "stdout",
          "text": [
            "loss :  0.28661438822746277\n",
            "tp :  754.0\n",
            "fp :  18399.0\n",
            "tn :  180346.0\n",
            "fn :  501.0\n",
            "accuracy :  0.9054999947547913\n",
            "precision :  0.039367202669382095\n",
            "recall :  0.6007968187332153\n",
            "auc :  0.8199458122253418\n",
            "prc :  0.1666680872440338\n",
            "\n",
            "Not Contacts Detected (True Negatives):  180346\n",
            "Not Contacts Incorrectly Detected (False Positives):  18399\n",
            "Contacts Missed (False Negatives):  501\n",
            "Contacts Detected (True Positives):  754\n",
            "Total Contacts:  1255\n"
          ]
        },
        {
          "output_type": "display_data",
          "data": {
            "text/plain": [
              "<Figure size 360x360 with 2 Axes>"
            ],
            "image/png": "[encoded data removed]"
          },
          "metadata": {
            "needs_background": "light"
          }
        }
      ]
    },
    {
      "cell_type": "code",
      "source": [
        "plot_roc(\"Train Baseline\", y_train, train_predictions_resampled, color=colors[0])\n",
        "plot_roc(\"Test Baseline\", y_test, test_predictions_resampled, color=colors[0], linestyle='--')"
      ],
      "metadata": {
        "colab": {
          "base_uri": "https://localhost:8080/",
          "height": 610
        },
        "id": "ujRurUZWK-8o",
        "outputId": "79344e45-aa22-46c4-ffc1-aac17bdb40cf"
      },
      "execution_count": null,
      "outputs": [
        {
          "output_type": "display_data",
          "data": {
            "text/plain": [
              "<Figure size 1080x720 with 1 Axes>"
            ],
            "image/png": "[encoded data removed]"
          },
          "metadata": {
            "needs_background": "light"
          }
        }
      ]
    },
    {
      "cell_type": "code",
      "source": [
        "plot_prc(\"Train Baseline\", y_train, train_predictions_resampled, color=colors[0])\n",
        "plot_prc(\"Test Baseline\", y_test, test_predictions_resampled, color=colors[0], linestyle='--')"
      ],
      "metadata": {
        "colab": {
          "base_uri": "https://localhost:8080/",
          "height": 606
        },
        "id": "PkRpgO2eLTAd",
        "outputId": "0b921bd8-9fdb-44f9-bac0-cfb9df798088"
      },
      "execution_count": null,
      "outputs": [
        {
          "output_type": "display_data",
          "data": {
            "text/plain": [
              "<Figure size 1080x720 with 1 Axes>"
            ],
            "image/png": "[encoded data removed]"
          },
          "metadata": {
            "needs_background": "light"
          }
        }
      ]
    }
  ]
}