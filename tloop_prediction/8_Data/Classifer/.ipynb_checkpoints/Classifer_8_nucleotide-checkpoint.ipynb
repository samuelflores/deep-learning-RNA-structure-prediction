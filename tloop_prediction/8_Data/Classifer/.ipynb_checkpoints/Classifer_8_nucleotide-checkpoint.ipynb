{
 "cells": [
  {
   "cell_type": "code",
   "execution_count": 1,
   "id": "3e81e3bc-0c9b-4b7b-b077-6fb1d76bfe1a",
   "metadata": {},
   "outputs": [],
   "source": [
    "import matplotlib.pyplot as plt\n",
    "import numpy as np\n",
    "import seaborn as sns\n",
    "from sklearn.metrics import classification_report, confusion_matrix\n",
    "import pandas as pd\n",
    "from sklearn.model_selection import train_test_split\n",
    "from sklearn.utils import class_weight\n",
    "from sklearn import preprocessing\n",
    "import tensorflow as tf\n",
    "import math\n",
    "from numpy import asarray\n",
    "from numpy import save\n",
    "from numpy import load\n",
    "from keras.models import Sequential\n",
    "from keras.layers import Dense,Conv1D, Conv2D, MaxPooling2D, Dropout, Flatten, Input, MaxPooling1D\n",
    "from sklearn.preprocessing import StandardScaler\n",
    "import os\n",
    "import tempfile\n",
    "from tensorflow import keras\n",
    "from keras.optimizers import RMSprop\n",
    "from keras.utils import to_categorical\n",
    "import matplotlib as mpl\n",
    "import sklearn"
   ]
  },
  {
   "cell_type": "code",
   "execution_count": null,
   "id": "33230391-6133-4b89-af31-cc09fbe93faf",
   "metadata": {},
   "outputs": [],
   "source": [
    "EPOCHS = 20\n",
    "BATCH_SIZE = 16\n",
    "mpl.rcParams['figure.figsize'] = (15, 10)\n",
    "colors = plt.rcParams['axes.prop_cycle'].by_key()['color']\n",
    "\n",
    "# Load dataset.\n",
    "dict_train = np.load('./drive/MyDrive/MotifClassifier/train_array.npz')\n",
    "x_train = np.stack(dict_train['arr_0'], axis=0)\n",
    "y_flt_train = np.load('./drive/MyDrive/MotifClassifier/train_labels.npy')\n",
    "y_train = y_flt_train.astype(int)-1  # Renumber the classes to #cluster-1\n",
    "y_train_oh = to_categorical(y_train, num_classes=44)  # Make labels into one-hot encode. \n",
    "\n",
    "dict_test = np.load('./drive/MyDrive/MotifClassifier/test_array.npz')\n",
    "x_test = np.stack(dict_test['arr_0'], axis=0)\n",
    "y_flt_test = np.load('./drive/MyDrive/MotifClassifier/test_labels.npy')\n",
    "y_test = y_flt_test.astype(int)-1  # Renumber the classes to #cluster-1\n",
    "y_test_oh = to_categorical(y_test, num_classes=44)  # Make labels into one-hot encode. \n",
    "\n",
    "print('Training features shape:', x_train.shape)\n",
    "print('Test features shape:', x_test.shape)\n",
    "print('Training labels shape:', y_train_oh.shape)\n",
    "print('Test labels shape:', y_test_oh.shape)"
   ]
  },
  {
   "cell_type": "code",
   "execution_count": null,
   "id": "23020c1d-10e4-4237-9449-501732955dfc",
   "metadata": {},
   "outputs": [],
   "source": []
  }
 ],
 "metadata": {
  "kernelspec": {
   "display_name": "Python (TensorFlow)",
   "language": "python",
   "name": "tensorflow"
  },
  "language_info": {
   "codemirror_mode": {
    "name": "ipython",
    "version": 3
   },
   "file_extension": ".py",
   "mimetype": "text/x-python",
   "name": "python",
   "nbconvert_exporter": "python",
   "pygments_lexer": "ipython3",
   "version": "3.9.6"
  }
 },
 "nbformat": 4,
 "nbformat_minor": 5
}
