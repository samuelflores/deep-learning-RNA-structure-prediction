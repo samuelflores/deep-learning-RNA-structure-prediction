{
 "cells": [
  {
   "cell_type": "code",
   "execution_count": 1,
   "id": "7aef19d0-9369-45f7-81aa-d7ca27ca925d",
   "metadata": {},
   "outputs": [
    {
     "name": "stderr",
     "output_type": "stream",
     "text": [
      "2024-08-15 13:31:57.209258: I tensorflow/core/util/port.cc:104] oneDNN custom operations are on. You may see slightly different numerical results due to floating-point round-off errors from different computation orders. To turn them off, set the environment variable `TF_ENABLE_ONEDNN_OPTS=0`.\n"
     ]
    }
   ],
   "source": [
    "%%capture\n",
    "\n",
    "# standard libraries\n",
    "import math\n",
    "import os\n",
    "import tempfile\n",
    "import json\n",
    "from pathlib import Path\n",
    "import pickle\n",
    "\n",
    "# standard scientific libraries\n",
    "%matplotlib inline\n",
    "import matplotlib as mpl\n",
    "import matplotlib.pyplot as plt\n",
    "import numpy as np\n",
    "from numpy import asarray, save, load\n",
    "import pandas as pd\n",
    "import seaborn as sns\n",
    "\n",
    "# scikit-learn\n",
    "import sklearn\n",
    "from sklearn import preprocessing\n",
    "from sklearn.preprocessing import StandardScaler\n",
    "from sklearn.metrics import classification_report, confusion_matrix\n",
    "from sklearn.model_selection import train_test_split\n",
    "from sklearn.utils import class_weight\n",
    "\n",
    "# tensorflow\n",
    "import tensorflow as tf\n",
    "import tensorflow_addons as tfa\n",
    "import keras\n",
    "from keras.models import Sequential\n",
    "from keras.layers import Dense,Conv1D, Conv2D, MaxPooling2D, Dropout, Flatten, Input, MaxPooling1D, Reshape\n",
    "from keras.optimizers import RMSprop\n",
    "from keras.utils import to_categorical"
   ]
  },
  {
   "cell_type": "code",
   "execution_count": null,
   "id": "e83d9f74",
   "metadata": {},
   "outputs": [],
   "source": [
    "DATA_DIR = Path(\"../data_generation/training_data/sample_data/multi_48\")\n",
    "\n",
    "x_train_dict = np.load(DATA_DIR/\"train_matrices.npz\", allow_pickle=True)\n",
    "x_train = np.stack(x_train_dict['arr_0'], axis=0)\n",
    "y_train_dict = np.load(DATA_DIR/\"train_labels.npz\", allow_pickle=True)\n",
    "y_train = [a.toarray() for a in y_train_dict['arr_0']]\n",
    "y_train = np.stack(y_train, axis=0)\n",
    "\n",
    "print(\"Training features shape:\", x_train.shape)\n",
    "print(\"Training labels shape:\", y_train.shape)\n",
    "\n",
    "x_dev_dict = np.load(DATA_DIR/\"dev_matrices.npz\", allow_pickle=True)\n",
    "x_dev = np.stack(x_dev_dict['arr_0'], axis=0)\n",
    "y_dev_dict = np.load(DATA_DIR/\"dev_labels.npz\", allow_pickle=True)\n",
    "y_dev = [a.toarray() for a in y_dev_dict['arr_0']]\n",
    "y_dev = np.stack(y_dev, axis=0)\n",
    "\n",
    "print(\"Validation features shape:\", x_dev.shape)\n",
    "print(\"Validation labels shape:\", y_dev.shape)\n",
    "\n",
    "print(\"\\nInput shape:\", x_train.shape[1:])"
   ]
  },
  {
   "cell_type": "code",
   "execution_count": null,
   "id": "acce77dc",
   "metadata": {},
   "outputs": [],
   "source": [
    "INPUT_SHAPE = x_train.shape[1:]\n",
    "INPUT_SIZE = INPUT_SHAPE[0]*INPUT_SHAPE[1]\n",
    "OUTPUT_SHAPE = y_train.shape[1:]\n",
    "OUTPUT_SIZE = OUTPUT_SHAPE[0]*OUTPUT_SHAPE[1]\n",
    "\n",
    "METRICS = [ \n",
    "    keras.metrics.TruePositives(name = 'tp'),\n",
    "    keras.metrics.FalsePositives(name = 'fp'),\n",
    "    keras.metrics.TrueNegatives(name = 'tn'),\n",
    "    keras.metrics.FalseNegatives(name = 'fn'),\n",
    "    keras.metrics.CategoricalAccuracy(name='accuracy'),\n",
    "    keras.metrics.Precision(name = 'precision'),\n",
    "    keras.metrics.Recall(name = 'recall'),\n",
    "    keras.metrics.AUC(name = 'auc', curve='roc'),\n",
    "    keras.metrics.AUC(name = 'prc', curve = 'PR'),\n",
    "    # tfa.metrics.F1Score(name = 'f1', num_classes = NUM_CLASSES),\n",
    "    # tfa.metrics.MatthewsCorrelationCoefficient(name = 'mcc', num_classes = NUM_CLASSES)\n",
    "]\n",
    "\n",
    "model = Sequential([\n",
    "    Flatten(input_shape = INPUT_SHAPE),\n",
    "    Dense(INPUT_SIZE, activation=\"relu\"),\n",
    "    Dropout(0.2),\n",
    "    Dense(INPUT_SIZE, activation=\"relu\"),\n",
    "    Dropout(0.2),\n",
    "    Dense(OUTPUT_SIZE, activation='softmax'),\n",
    "    Reshape(OUTPUT_SHAPE)\n",
    "])\n",
    "\n",
    "model.compile(\n",
    "    optimizer=keras.optimizers.Adam(learning_rate = 1e-3),\n",
    "    loss=keras.losses.CategoricalCrossentropy(), \n",
    "    metrics=METRICS)\n",
    "\n",
    "model.summary()"
   ]
  },
  {
   "cell_type": "code",
   "execution_count": null,
   "id": "fa544baf",
   "metadata": {},
   "outputs": [],
   "source": [
    "BATCH_SIZE = 16\n",
    "EPOCHS = 20\n",
    "\n",
    "# # Calculate class weight\n",
    "# y_integers = np.argmax(y_train, axis=1)\n",
    "# CLASS_WEIGHTS = np.round(class_weight.compute_class_weight(class_weight='balanced', classes=np.unique(y_integers), y=y_integers), 2)\n",
    "# CLASS_WEIGHTS = dict(enumerate(CLASS_WEIGHTS))\n",
    "\n",
    "history = model.fit(\n",
    "    x_train,\n",
    "    y_train,\n",
    "    validation_data = (x_dev, y_dev),\n",
    "    batch_size=BATCH_SIZE,\n",
    "    epochs=EPOCHS,\n",
    "    # class_weight=CLASS_WEIGHTS\n",
    ")"
   ]
  },
  {
   "cell_type": "code",
   "execution_count": null,
   "id": "baa46f1c",
   "metadata": {},
   "outputs": [],
   "source": [
    "RESULTS_FILE = Path(\"results/ANN/multi/24\")\n",
    "\n",
    "model.save(RESULTS_FILE, overwrite=True)"
   ]
  }
 ],
 "metadata": {
  "kernelspec": {
   "display_name": "dnabert",
   "language": "python",
   "name": "python3"
  },
  "language_info": {
   "codemirror_mode": {
    "name": "ipython",
    "version": 3
   },
   "file_extension": ".py",
   "mimetype": "text/x-python",
   "name": "python",
   "nbconvert_exporter": "python",
   "pygments_lexer": "ipython3",
   "version": "3.10.4"
  }
 },
 "nbformat": 4,
 "nbformat_minor": 5
}
