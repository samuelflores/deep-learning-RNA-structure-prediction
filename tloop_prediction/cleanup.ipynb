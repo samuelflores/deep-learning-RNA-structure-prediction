{
 "cells": [
  {
   "cell_type": "code",
   "execution_count": 10,
   "metadata": {},
   "outputs": [],
   "source": [
    "import os\n",
    "from pathlib import Path\n",
    "import sys\n",
    "import shutil\n",
    "import json"
   ]
  },
  {
   "cell_type": "code",
   "execution_count": 34,
   "metadata": {},
   "outputs": [],
   "source": [
    "def move_eval_json_up(dir_path):\n",
    "    eval_results_dir = os.listdir(dir_path/\"results\")[0]\n",
    "    eval_results_path = dir_path/\"results\"/eval_results_dir/\"eval_results.json\"\n",
    "    shutil.move(eval_results_path, dir_path/\"eval_results.json\")"
   ]
  },
  {
   "cell_type": "code",
   "execution_count": 36,
   "metadata": {},
   "outputs": [],
   "source": [
    "def format_model_folder(PATH):\n",
    "\n",
    "    # list checkpoints\n",
    "    checkpoints = os.listdir(PATH)\n",
    "    if \"eval_results.json\" in checkpoints: checkpoints.remove(\"eval_results.json\")\n",
    "    if \"results\" in checkpoints: checkpoints.remove(\"results\")\n",
    "    checkpoints.sort(key=lambda x: int(x.split(\"-\")[-1]))\n",
    "    latest_dir = checkpoints[-1]\n",
    "\n",
    "    # get trainer state\n",
    "    trainer_state_path = PATH/latest_dir/\"trainer_state.json\"\n",
    "    with open(trainer_state_path, \"r\") as file:\n",
    "        trainer_state = json.load(file)\n",
    "\n",
    "    # move trainer state up\n",
    "    shutil.move(trainer_state_path, PATH/\"trainer_state.json\")\n",
    "\n",
    "    best_dir = Path(trainer_state['best_model_checkpoint']).parts[-1]\n",
    "\n",
    "    # Remove non-best models\n",
    "    checkpoints.remove(best_dir)\n",
    "    for dir in checkpoints:\n",
    "        shutil.rmtree(PATH/dir)\n",
    "\n",
    "    # move contents of best model up\n",
    "    for file in os.listdir(PATH/best_dir):\n",
    "        if file == \"trainer_state.json\":\n",
    "            os.remove(PATH/best_dir/file)\n",
    "        else:\n",
    "            shutil.move(PATH/best_dir/file, PATH/file)\n",
    "\n",
    "    # remove empty folder\n",
    "    shutil.rmtree(PATH/best_dir)"
   ]
  },
  {
   "cell_type": "code",
   "execution_count": 32,
   "metadata": {},
   "outputs": [],
   "source": [
    "#! ONLY RUN THIS FOR FRESH DNABERT2 RUNS\n",
    "# ROOT_DIR = Path(\"results/DNABERT2/alvis/GUE\")\n",
    "\n",
    "# for dir in os.listdir(ROOT_DIR):\n",
    "#     # Move eval_results.json up\n",
    "#     move_eval_json_up(dir_path)\n",
    "    \n",
    "#     # Delete empty \"results\" folder\n",
    "#     shutil.rmtree(dir_path/\"results\")\n",
    "\n",
    "#     # save trainer_state.json from latest checkpoint, but model from best checkpoint\n",
    "#     format_model_folder(ROOT_DIR/dir)"
   ]
  }
 ],
 "metadata": {
  "kernelspec": {
   "display_name": "tloop",
   "language": "python",
   "name": "python3"
  },
  "language_info": {
   "codemirror_mode": {
    "name": "ipython",
    "version": 3
   },
   "file_extension": ".py",
   "mimetype": "text/x-python",
   "name": "python",
   "nbconvert_exporter": "python",
   "pygments_lexer": "ipython3",
   "version": "3.10.4"
  }
 },
 "nbformat": 4,
 "nbformat_minor": 2
}
