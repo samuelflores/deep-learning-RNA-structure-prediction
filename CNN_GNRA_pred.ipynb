{
  "cells": [
    {
      "cell_type": "markdown",
      "metadata": {
        "id": "view-in-github",
        "colab_type": "text"
      },
      "source": [
        "<a href=\"https://colab.research.google.com/github/samuelflores/deep-learning-RNA-structure-prediction/blob/main/CNN_GNRA_pred.ipynb\" target=\"_parent\"><img src=\"https://colab.research.google.com/assets/colab-badge.svg\" alt=\"Open In Colab\"/></a>"
      ]
    },
    {
      "cell_type": "markdown",
      "source": [
        "Kernel size: 8. \n",
        "1D Convolutional layer\n"
      ],
      "metadata": {
        "id": "HY6KgMST_Ao4"
      }
    },
    {
      "cell_type": "code",
      "source": [
        "from google.colab import drive\n",
        "drive.mount('/content/drive')"
      ],
      "metadata": {
        "colab": {
          "base_uri": "https://localhost:8080/"
        },
        "id": "W0OBPmr7DbIT",
        "outputId": "484c616d-ca09-4ca3-ee8e-1b0962e020ad"
      },
      "execution_count": 1,
      "outputs": [
        {
          "output_type": "stream",
          "name": "stdout",
          "text": [
            "Mounted at /content/drive\n"
          ]
        }
      ]
    },
    {
      "cell_type": "code",
      "source": [
        ""
      ],
      "metadata": {
        "id": "YS7xIzyBNFvD"
      },
      "execution_count": null,
      "outputs": []
    },
    {
      "cell_type": "code",
      "source": [
        "import matplotlib.pyplot as plt\n",
        "import numpy as np\n",
        "import seaborn as sns\n",
        "from sklearn.metrics import classification_report, confusion_matrix\n",
        "import pandas as pd\n",
        "from sklearn.model_selection import train_test_split\n",
        "from sklearn import preprocessing\n",
        "import tensorflow as tf\n",
        "import math\n",
        "from numpy import asarray\n",
        "from numpy import save\n",
        "from numpy import load\n",
        "from tensorflow.keras.models import Sequential\n",
        "from tensorflow.keras.layers import Dense,Conv1D, Conv2D, MaxPooling2D, Dropout, Flatten, Input, MaxPooling1D\n",
        "from sklearn.preprocessing import StandardScaler\n",
        "import os\n",
        "import tempfile\n",
        "from tensorflow import keras\n",
        "from tensorflow.keras.optimizers import RMSprop\n",
        "import matplotlib as mpl\n",
        "import sklearn"
      ],
      "metadata": {
        "id": "Mdury1_mPjc2"
      },
      "execution_count": 2,
      "outputs": []
    },
    {
      "cell_type": "code",
      "execution_count": 3,
      "metadata": {
        "colab": {
          "base_uri": "https://localhost:8080/"
        },
        "id": "1NfcHlRr_LEq",
        "outputId": "810d4c41-39f3-4eb6-d02b-bb9ef996479f"
      },
      "outputs": [
        {
          "output_type": "stream",
          "name": "stdout",
          "text": [
            "Training features shape: (10749, 8, 4)\n",
            "Test features shape: (5398, 8, 4)\n",
            "Training labels shape: (10749,)\n",
            "Test labels shape: (5398,)\n"
          ]
        }
      ],
      "source": [
        "EPOCHS = 20\n",
        "BATCH_SIZE = 16\n",
        "mpl.rcParams['figure.figsize'] = (15, 10)\n",
        "colors = plt.rcParams['axes.prop_cycle'].by_key()['color']\n",
        "\n",
        "# Load dataset.\n",
        "dict_train = np.load('./drive/MyDrive/GNRA_pred/T_frames_train.npz')\n",
        "x_train = np.stack(dict_train['arr_0'], axis=0)\n",
        "y_flt_train = np.load('./drive/MyDrive/GNRA_pred/labels_train.npy')\n",
        "y_train = y_flt_train.astype(int)\n",
        "\n",
        "dict_test = np.load('./drive/MyDrive/GNRA_pred/T_frames_test.npz')\n",
        "x_test = np.stack(dict_test['arr_0'], axis=0)\n",
        "y_flt_test = np.load('./drive/MyDrive/GNRA_pred/labels_test.npy')\n",
        "y_test = y_flt_test.astype(int)\n",
        "\n",
        "print('Training features shape:', x_train.shape)\n",
        "print('Test features shape:', x_test.shape)\n",
        "print('Training labels shape:', y_train.shape)\n",
        "print('Test labels shape:', y_test.shape)\n"
      ]
    },
    {
      "cell_type": "code",
      "source": [
        "METRICS = [\n",
        "      keras.metrics.TruePositives(name='tp'),\n",
        "      keras.metrics.FalsePositives(name='fp'),\n",
        "      keras.metrics.TrueNegatives(name='tn'),\n",
        "      keras.metrics.FalseNegatives(name='fn'),\n",
        "      keras.metrics.BinaryAccuracy(name='accuracy'),\n",
        "      keras.metrics.Precision(name='precision'),\n",
        "      keras.metrics.Recall(name='recall'),\n",
        "      keras.metrics.AUC(name='auc'),\n",
        "      keras.metrics.AUC(name='prc', curve='PR'), # precision-recall curve\n",
        "]"
      ],
      "metadata": {
        "id": "9dHYmVZIRalj"
      },
      "execution_count": 4,
      "outputs": []
    },
    {
      "cell_type": "code",
      "source": [
        "neg, pos = np.bincount(y_train)+np.bincount(y_test)\n",
        "total = neg + pos\n",
        "print('Examples:\\n    Total: {}\\n    Positive: {} ({:.2f}% of total)\\n'.format(\n",
        "    total, pos, 100 * pos / total))\n",
        "\n",
        "print('Training labels shape:', y_train.shape)\n",
        "print('Test labels shape:', y_test.shape)\n",
        "\n",
        "print('Training features shape:', x_train.shape)\n",
        "print('Test features shape:', x_test.shape)\n"
      ],
      "metadata": {
        "colab": {
          "base_uri": "https://localhost:8080/"
        },
        "id": "WD524D0MVDM5",
        "outputId": "34ee5f3e-94d8-4c61-bf83-13e78857f6d3"
      },
      "execution_count": 5,
      "outputs": [
        {
          "output_type": "stream",
          "name": "stdout",
          "text": [
            "Examples:\n",
            "    Total: 16147\n",
            "    Positive: 9931 (61.50% of total)\n",
            "\n",
            "Training labels shape: (10749,)\n",
            "Test labels shape: (5398,)\n",
            "Training features shape: (10749, 8, 4)\n",
            "Test features shape: (5398, 8, 4)\n"
          ]
        }
      ]
    },
    {
      "cell_type": "code",
      "source": [
        "def make_model(metrics=METRICS, output_bias=None):\n",
        "  if output_bias is not None:\n",
        "    output_bias = tf.keras.initializers.Constant(output_bias)\n",
        "  \n",
        "  model = Sequential([\n",
        "    # The input shape is 8x4\n",
        "    # This is the first convolution\n",
        "    Conv1D(16, 3, strides=1, activation='relu',padding='same', \n",
        "                 input_shape=(8, 4),\n",
        "                 kernel_initializer='he_normal',\n",
        "                 bias_initializer='zeros'),\n",
        "    Conv1D(32, 3, strides=1, activation='relu',padding='same', \n",
        "                 kernel_initializer='he_normal',\n",
        "                 bias_initializer='zeros'),\n",
        "    Dropout(0.2),\n",
        "    MaxPooling1D(pool_size=2, strides=2),\n",
        "    Dropout(0.2),\n",
        "    Flatten(),\n",
        "    #  neuron hidden layer\n",
        "    Dense(128, activation='relu', bias_initializer=output_bias),  #8/2(maxpooling)=4, 32*4 = 128\n",
        "    Dropout(0.2),\n",
        "    # Only 1 output neuron. It will contain a value from 0-1 where 0 for class ('not GNRA') and 1 for the other ('GNRA')\n",
        "    Dense(1, activation='sigmoid')  #Sigmoid for binary question.\n",
        "    ])\n",
        "     \n",
        "  model.compile(\n",
        "    optimizer=keras.optimizers.Adam(learning_rate=1e-3), #optimizer=RMSprop(lr=0.001),\n",
        "    loss=keras.losses.BinaryCrossentropy(),\n",
        "    metrics=metrics)\n",
        "  \n",
        "  return model\n"
      ],
      "metadata": {
        "id": "Q0Xdr-dET12B"
      },
      "execution_count": 15,
      "outputs": []
    },
    {
      "cell_type": "code",
      "source": [
        "def plot_loss(history, label, n):\n",
        "  # Use a log scale on y-axis to show the wide range of values.\n",
        "  plt.semilogy(history.epoch, history.history['loss'],\n",
        "               color=colors[n], label='Train ' + label)\n",
        "  # plt.semilogy(history.epoch, history.history['val_loss'],\n",
        "              #  color=colors[n], label='Val ' + label,\n",
        "              #  linestyle=\"--\")\n",
        "  plt.xlabel('Epoch')\n",
        "  plt.ylabel('Loss')"
      ],
      "metadata": {
        "id": "Vbu6fnXwDO2f"
      },
      "execution_count": 37,
      "outputs": []
    },
    {
      "cell_type": "code",
      "source": [
        "def plot_cm(labels, predictions, p=0.5):\n",
        "  cm = confusion_matrix(labels, predictions > p)\n",
        "  plt.figure(figsize=(5,5))\n",
        "  sns.heatmap(cm, annot=True, fmt=\"d\")\n",
        "  plt.title('Confusion matrix')\n",
        "  plt.ylabel('Actual label')\n",
        "  plt.xlabel('Predicted label')\n",
        "\n",
        "  print('Non-GNRA Detected (True Negatives): ', cm[0][0])\n",
        "  print('Non-GNRA Incorrectly Detected (False Positives): ', cm[0][1])\n",
        "  print('GNRA Missed (False Negatives): ', cm[1][0])\n",
        "  print('GNRA Detected (True Positives): ', cm[1][1])\n",
        "  print('Total GNRA: ', np.sum(cm[1]))"
      ],
      "metadata": {
        "id": "WlSfBNqGDSKm"
      },
      "execution_count": 19,
      "outputs": []
    },
    {
      "cell_type": "code",
      "source": [
        "def plot_metrics(history):\n",
        "  metrics = ['loss', 'prc', 'precision', 'recall']\n",
        "  for n, metric in enumerate(metrics):\n",
        "    name = metric.replace(\"_\",\" \").capitalize()\n",
        "    plt.subplot(2,2,n+1)\n",
        "    plt.plot(history.epoch, history.history[metric], color=colors[0], label='Train')\n",
        "    # plt.plot(history.epoch, history.history['val_' + metric],\n",
        "            #  color=colors[0], linestyle=\"--\", label='Test')\n",
        "    plt.xlabel('Epoch')\n",
        "    plt.ylabel(name)\n",
        "    if metric == 'loss':\n",
        "      plt.ylim([0, plt.ylim()[1]])\n",
        "    elif metric == 'auc':\n",
        "      plt.ylim([0.8,1])\n",
        "    else:\n",
        "      plt.ylim([0,1])\n",
        "\n",
        "    plt.legend();"
      ],
      "metadata": {
        "id": "lT2TLJsQR1Si"
      },
      "execution_count": 45,
      "outputs": []
    },
    {
      "cell_type": "code",
      "source": [
        "def plot_roc(name, labels, predictions, **kwargs):\n",
        "  fp, tp, _ = sklearn.metrics.roc_curve(labels, predictions)\n",
        "\n",
        "  plt.plot(100*fp, 100*tp, label=name, linewidth=2, **kwargs)\n",
        "  plt.xlabel('False positives [%]')\n",
        "  plt.ylabel('True positives [%]')\n",
        "  plt.xlim([-5,100])\n",
        "  plt.ylim([0,100])\n",
        "  plt.grid(True)\n",
        "  ax = plt.gca()\n",
        "  ax.set_aspect('equal')"
      ],
      "metadata": {
        "id": "HA8AW2spDYgO"
      },
      "execution_count": 21,
      "outputs": []
    },
    {
      "cell_type": "code",
      "source": [
        "def plot_prc(name, labels, predictions, **kwargs):\n",
        "    precision, recall, _ = sklearn.metrics.precision_recall_curve(labels, predictions)\n",
        "\n",
        "    plt.plot(precision, recall, label=name, linewidth=2, **kwargs)\n",
        "    plt.xlabel('Recall  - TP / (TP + FP)')\n",
        "    plt.ylabel('Precision - TP / (TP + FN)')\n",
        "    plt.grid(True)\n",
        "    ax = plt.gca()\n",
        "    ax.set_aspect('equal')"
      ],
      "metadata": {
        "id": "ueajW8EVSw6o"
      },
      "execution_count": 22,
      "outputs": []
    },
    {
      "cell_type": "code",
      "source": [
        "# retrain with class weights\n",
        "# Scaling by total/2 helps keep the loss to a similar magnitude.\n",
        "# The sum of the weights of all examples stays the same.\n",
        "weight_for_0 = (1 / neg) * (total / 2.0)\n",
        "weight_for_1 = (1 / pos) * (total / 2.0)\n",
        "\n",
        "class_weight = {0: weight_for_0, 1: weight_for_1}\n",
        "\n",
        "print('Weight for class 0: {:.2f}'.format(weight_for_0))\n",
        "print('Weight for class 1: {:.2f}'.format(weight_for_1))"
      ],
      "metadata": {
        "colab": {
          "base_uri": "https://localhost:8080/"
        },
        "id": "x5MeJIBxU4dx",
        "outputId": "d68fc21b-29ce-4495-ea0d-b84b42fc621d"
      },
      "execution_count": 23,
      "outputs": [
        {
          "output_type": "stream",
          "name": "stdout",
          "text": [
            "Weight for class 0: 1.30\n",
            "Weight for class 1: 0.81\n"
          ]
        }
      ]
    },
    {
      "cell_type": "code",
      "source": [
        "weighted_model = make_model()\n",
        "#weighted_model.load_weights(initial_weights)\n",
        "\n",
        "weighted_history = weighted_model.fit(\n",
        "    x_train,\n",
        "    y_train, \n",
        "    # validation_data = (x_test, y_test),\n",
        "    batch_size=BATCH_SIZE,\n",
        "    epochs=EPOCHS,\n",
        "\n",
        "    # The class weights go here\n",
        "    class_weight={0: 1.30, 1: 0.81})"
      ],
      "metadata": {
        "colab": {
          "base_uri": "https://localhost:8080/"
        },
        "id": "vR8WcRrVViNb",
        "outputId": "e38ea1ba-4ea2-4c97-b67c-90d17a14a1bb"
      },
      "execution_count": 52,
      "outputs": [
        {
          "output_type": "stream",
          "name": "stdout",
          "text": [
            "Epoch 1/20\n",
            "672/672 [==============================] - 4s 3ms/step - loss: 0.2430 - tp: 9231.0000 - fp: 472.0000 - tn: 5744.0000 - fn: 700.0000 - accuracy: 0.9274 - precision: 0.9514 - recall: 0.9295 - auc: 0.9801 - prc: 0.9861\n",
            "Epoch 2/20\n",
            "672/672 [==============================] - 2s 3ms/step - loss: 0.1158 - tp: 6382.0000 - fp: 159.0000 - tn: 3970.0000 - fn: 238.0000 - accuracy: 0.9631 - precision: 0.9757 - recall: 0.9640 - auc: 0.9903 - prc: 0.9931\n",
            "Epoch 3/20\n",
            "672/672 [==============================] - 2s 3ms/step - loss: 0.1003 - tp: 6422.0000 - fp: 152.0000 - tn: 3977.0000 - fn: 198.0000 - accuracy: 0.9674 - precision: 0.9769 - recall: 0.9701 - auc: 0.9928 - prc: 0.9947\n",
            "Epoch 4/20\n",
            "672/672 [==============================] - 2s 3ms/step - loss: 0.0873 - tp: 6471.0000 - fp: 132.0000 - tn: 3997.0000 - fn: 149.0000 - accuracy: 0.9739 - precision: 0.9800 - recall: 0.9775 - auc: 0.9943 - prc: 0.9957\n",
            "Epoch 5/20\n",
            "672/672 [==============================] - 2s 3ms/step - loss: 0.0811 - tp: 6472.0000 - fp: 120.0000 - tn: 4009.0000 - fn: 148.0000 - accuracy: 0.9751 - precision: 0.9818 - recall: 0.9776 - auc: 0.9952 - prc: 0.9966\n",
            "Epoch 6/20\n",
            "672/672 [==============================] - 2s 3ms/step - loss: 0.0779 - tp: 6486.0000 - fp: 118.0000 - tn: 4011.0000 - fn: 134.0000 - accuracy: 0.9766 - precision: 0.9821 - recall: 0.9798 - auc: 0.9955 - prc: 0.9966\n",
            "Epoch 7/20\n",
            "672/672 [==============================] - 2s 3ms/step - loss: 0.0750 - tp: 6491.0000 - fp: 117.0000 - tn: 4012.0000 - fn: 129.0000 - accuracy: 0.9771 - precision: 0.9823 - recall: 0.9805 - auc: 0.9956 - prc: 0.9966\n",
            "Epoch 8/20\n",
            "672/672 [==============================] - 2s 3ms/step - loss: 0.0720 - tp: 6495.0000 - fp: 115.0000 - tn: 4014.0000 - fn: 125.0000 - accuracy: 0.9777 - precision: 0.9826 - recall: 0.9811 - auc: 0.9962 - prc: 0.9973\n",
            "Epoch 9/20\n",
            "672/672 [==============================] - 2s 3ms/step - loss: 0.0696 - tp: 6509.0000 - fp: 117.0000 - tn: 4012.0000 - fn: 111.0000 - accuracy: 0.9788 - precision: 0.9823 - recall: 0.9832 - auc: 0.9964 - prc: 0.9974\n",
            "Epoch 10/20\n",
            "672/672 [==============================] - 2s 3ms/step - loss: 0.0698 - tp: 6506.0000 - fp: 112.0000 - tn: 4017.0000 - fn: 114.0000 - accuracy: 0.9790 - precision: 0.9831 - recall: 0.9828 - auc: 0.9961 - prc: 0.9969\n",
            "Epoch 11/20\n",
            "672/672 [==============================] - 2s 3ms/step - loss: 0.0698 - tp: 6522.0000 - fp: 116.0000 - tn: 4013.0000 - fn: 98.0000 - accuracy: 0.9801 - precision: 0.9825 - recall: 0.9852 - auc: 0.9963 - prc: 0.9972\n",
            "Epoch 12/20\n",
            "672/672 [==============================] - 2s 3ms/step - loss: 0.0650 - tp: 6511.0000 - fp: 108.0000 - tn: 4021.0000 - fn: 109.0000 - accuracy: 0.9798 - precision: 0.9837 - recall: 0.9835 - auc: 0.9965 - prc: 0.9972\n",
            "Epoch 13/20\n",
            "672/672 [==============================] - 2s 3ms/step - loss: 0.0660 - tp: 6520.0000 - fp: 110.0000 - tn: 4019.0000 - fn: 100.0000 - accuracy: 0.9805 - precision: 0.9834 - recall: 0.9849 - auc: 0.9967 - prc: 0.9974\n",
            "Epoch 14/20\n",
            "672/672 [==============================] - 2s 3ms/step - loss: 0.0651 - tp: 6518.0000 - fp: 107.0000 - tn: 4022.0000 - fn: 102.0000 - accuracy: 0.9806 - precision: 0.9838 - recall: 0.9846 - auc: 0.9967 - prc: 0.9976\n",
            "Epoch 15/20\n",
            "672/672 [==============================] - 3s 5ms/step - loss: 0.0643 - tp: 6516.0000 - fp: 110.0000 - tn: 4019.0000 - fn: 104.0000 - accuracy: 0.9801 - precision: 0.9834 - recall: 0.9843 - auc: 0.9969 - prc: 0.9978\n",
            "Epoch 16/20\n",
            "672/672 [==============================] - 2s 3ms/step - loss: 0.0625 - tp: 6516.0000 - fp: 107.0000 - tn: 4022.0000 - fn: 104.0000 - accuracy: 0.9804 - precision: 0.9838 - recall: 0.9843 - auc: 0.9969 - prc: 0.9976\n",
            "Epoch 17/20\n",
            "672/672 [==============================] - 2s 3ms/step - loss: 0.0629 - tp: 6522.0000 - fp: 107.0000 - tn: 4022.0000 - fn: 98.0000 - accuracy: 0.9809 - precision: 0.9839 - recall: 0.9852 - auc: 0.9967 - prc: 0.9975\n",
            "Epoch 18/20\n",
            "672/672 [==============================] - 2s 3ms/step - loss: 0.0623 - tp: 6523.0000 - fp: 105.0000 - tn: 4024.0000 - fn: 97.0000 - accuracy: 0.9812 - precision: 0.9842 - recall: 0.9853 - auc: 0.9969 - prc: 0.9977\n",
            "Epoch 19/20\n",
            "672/672 [==============================] - 2s 3ms/step - loss: 0.0632 - tp: 6526.0000 - fp: 107.0000 - tn: 4022.0000 - fn: 94.0000 - accuracy: 0.9813 - precision: 0.9839 - recall: 0.9858 - auc: 0.9966 - prc: 0.9972\n",
            "Epoch 20/20\n",
            "672/672 [==============================] - 2s 3ms/step - loss: 0.0588 - tp: 6524.0000 - fp: 105.0000 - tn: 4024.0000 - fn: 96.0000 - accuracy: 0.9813 - precision: 0.9842 - recall: 0.9855 - auc: 0.9973 - prc: 0.9980\n"
          ]
        }
      ]
    },
    {
      "cell_type": "code",
      "source": [
        "plot_metrics(weighted_history)"
      ],
      "metadata": {
        "colab": {
          "base_uri": "https://localhost:8080/",
          "height": 566
        },
        "id": "qifO-SVAEew7",
        "outputId": "b6970306-712a-4512-e25b-3a354beb4346"
      },
      "execution_count": 53,
      "outputs": [
        {
          "output_type": "error",
          "ename": "KeyError",
          "evalue": "ignored",
          "traceback": [
            "\u001b[0;31m---------------------------------------------------------------------------\u001b[0m",
            "\u001b[0;31mKeyError\u001b[0m                                  Traceback (most recent call last)",
            "\u001b[0;32m<ipython-input-53-384a5e113df1>\u001b[0m in \u001b[0;36m<module>\u001b[0;34m\u001b[0m\n\u001b[0;32m----> 1\u001b[0;31m \u001b[0mplot_metrics\u001b[0m\u001b[0;34m(\u001b[0m\u001b[0mweighted_history\u001b[0m\u001b[0;34m)\u001b[0m\u001b[0;34m\u001b[0m\u001b[0;34m\u001b[0m\u001b[0m\n\u001b[0m",
            "\u001b[0;32m<ipython-input-45-94f6469a76d0>\u001b[0m in \u001b[0;36mplot_metrics\u001b[0;34m(history)\u001b[0m\n\u001b[1;32m      5\u001b[0m     \u001b[0mplt\u001b[0m\u001b[0;34m.\u001b[0m\u001b[0msubplot\u001b[0m\u001b[0;34m(\u001b[0m\u001b[0;36m2\u001b[0m\u001b[0;34m,\u001b[0m\u001b[0;36m2\u001b[0m\u001b[0;34m,\u001b[0m\u001b[0mn\u001b[0m\u001b[0;34m+\u001b[0m\u001b[0;36m1\u001b[0m\u001b[0;34m)\u001b[0m\u001b[0;34m\u001b[0m\u001b[0;34m\u001b[0m\u001b[0m\n\u001b[1;32m      6\u001b[0m     \u001b[0mplt\u001b[0m\u001b[0;34m.\u001b[0m\u001b[0mplot\u001b[0m\u001b[0;34m(\u001b[0m\u001b[0mhistory\u001b[0m\u001b[0;34m.\u001b[0m\u001b[0mepoch\u001b[0m\u001b[0;34m,\u001b[0m \u001b[0mhistory\u001b[0m\u001b[0;34m.\u001b[0m\u001b[0mhistory\u001b[0m\u001b[0;34m[\u001b[0m\u001b[0mmetric\u001b[0m\u001b[0;34m]\u001b[0m\u001b[0;34m,\u001b[0m \u001b[0mcolor\u001b[0m\u001b[0;34m=\u001b[0m\u001b[0mcolors\u001b[0m\u001b[0;34m[\u001b[0m\u001b[0;36m0\u001b[0m\u001b[0;34m]\u001b[0m\u001b[0;34m,\u001b[0m \u001b[0mlabel\u001b[0m\u001b[0;34m=\u001b[0m\u001b[0;34m'Train'\u001b[0m\u001b[0;34m)\u001b[0m\u001b[0;34m\u001b[0m\u001b[0;34m\u001b[0m\u001b[0m\n\u001b[0;32m----> 7\u001b[0;31m     plt.plot(history.epoch, history.history['val_' + metric],\n\u001b[0m\u001b[1;32m      8\u001b[0m              color=colors[0], linestyle=\"--\", label='Test')\n\u001b[1;32m      9\u001b[0m     \u001b[0mplt\u001b[0m\u001b[0;34m.\u001b[0m\u001b[0mxlabel\u001b[0m\u001b[0;34m(\u001b[0m\u001b[0;34m'Epoch'\u001b[0m\u001b[0;34m)\u001b[0m\u001b[0;34m\u001b[0m\u001b[0;34m\u001b[0m\u001b[0m\n",
            "\u001b[0;31mKeyError\u001b[0m: 'val_loss'"
          ]
        },
        {
          "output_type": "display_data",
          "data": {
            "text/plain": [
              "<Figure size 1080x720 with 1 Axes>"
            ],
            "image/png": "[encoded data removed]"
          },
          "metadata": {
            "needs_background": "light"
          }
        }
      ]
    },
    {
      "cell_type": "code",
      "source": [
        "train_predictions_weighted = weighted_model.predict(x_train, batch_size=BATCH_SIZE)\n",
        "test_predictions_weighted = weighted_model.predict(x_test, batch_size=BATCH_SIZE)"
      ],
      "metadata": {
        "id": "e9bmikOy8H2Q"
      },
      "execution_count": 54,
      "outputs": []
    },
    {
      "cell_type": "code",
      "source": [
        "# Results of test data set. \n",
        "weighted_results = weighted_model.evaluate(x_test, y_test,\n",
        "                                           batch_size=BATCH_SIZE, verbose=0)\n",
        "for name, value in zip(weighted_model.metrics_names, weighted_results):\n",
        "  print(name, ': ', value)\n",
        "print()\n",
        "\n",
        "plot_cm(y_test, test_predictions_weighted)"
      ],
      "metadata": {
        "colab": {
          "base_uri": "https://localhost:8080/",
          "height": 628
        },
        "id": "bzGfNlmz8PSz",
        "outputId": "a2c91245-1681-472c-f471-c42c285a6af7"
      },
      "execution_count": 55,
      "outputs": [
        {
          "output_type": "stream",
          "name": "stdout",
          "text": [
            "loss :  0.06547720730304718\n",
            "tp :  3254.0\n",
            "fp :  52.0\n",
            "tn :  2035.0\n",
            "fn :  57.0\n",
            "accuracy :  0.9798073172569275\n",
            "precision :  0.9842710494995117\n",
            "recall :  0.982784628868103\n",
            "auc :  0.996353268623352\n",
            "prc :  0.9975423216819763\n",
            "\n",
            "Not Contacts Detected (True Negatives):  2035\n",
            "Not Contacts Incorrectly Detected (False Positives):  52\n",
            "Contacts Missed (False Negatives):  57\n",
            "Contacts Detected (True Positives):  3254\n",
            "Total Contacts:  3311\n"
          ]
        },
        {
          "output_type": "display_data",
          "data": {
            "text/plain": [
              "<Figure size 360x360 with 2 Axes>"
            ],
            "image/png": "[encoded data removed]"
          },
          "metadata": {
            "needs_background": "light"
          }
        }
      ]
    },
    {
      "cell_type": "code",
      "source": [
        "plot_roc(\"Train Weighted\", y_train, train_predictions_weighted, color=colors[1])\n",
        "plot_roc(\"Test Weighted\", y_test, test_predictions_weighted, color=colors[1], linestyle='--')\n",
        "\n",
        "\n",
        "plt.legend(loc='lower right');"
      ],
      "metadata": {
        "colab": {
          "base_uri": "https://localhost:8080/",
          "height": 610
        },
        "id": "tHJ4uk328gA0",
        "outputId": "5b3c9837-730a-4bd9-c4ac-49817d9f4a80"
      },
      "execution_count": 56,
      "outputs": [
        {
          "output_type": "display_data",
          "data": {
            "text/plain": [
              "<Figure size 1080x720 with 1 Axes>"
            ],
            "image/png": "[encoded data removed]"
          },
          "metadata": {
            "needs_background": "light"
          }
        }
      ]
    },
    {
      "cell_type": "code",
      "source": [
        "plot_prc(\"Train Weighted\", y_train, train_predictions_weighted, color=colors[1])\n",
        "plot_prc(\"Test Weighted\", y_test, test_predictions_weighted, color=colors[1], linestyle='--')\n",
        "\n",
        "plt.legend(loc='lower right');"
      ],
      "metadata": {
        "colab": {
          "base_uri": "https://localhost:8080/",
          "height": 606
        },
        "id": "NAlNNTrL8mCz",
        "outputId": "358f2c6f-434a-4d09-9868-048d7be5ae4c"
      },
      "execution_count": 57,
      "outputs": [
        {
          "output_type": "display_data",
          "data": {
            "text/plain": [
              "<Figure size 1080x720 with 1 Axes>"
            ],
            "image/png": "[encoded data removed]"
          },
          "metadata": {
            "needs_background": "light"
          }
        }
      ]
    },
    {
      "cell_type": "code",
      "execution_count": 20,
      "metadata": {
        "colab": {
          "base_uri": "https://localhost:8080/"
        },
        "id": "D-4dY-qionuW",
        "outputId": "1222a839-219f-4a13-c171-99363f8a6296"
      },
      "outputs": [
        {
          "output_type": "stream",
          "name": "stdout",
          "text": [
            "Model: \"sequential_5\"\n",
            "_________________________________________________________________\n",
            " Layer (type)                Output Shape              Param #   \n",
            "=================================================================\n",
            " conv1d_5 (Conv1D)           (None, 8, 16)             208       \n",
            "                                                                 \n",
            " dropout_15 (Dropout)        (None, 8, 16)             0         \n",
            "                                                                 \n",
            " conv1d_6 (Conv1D)           (None, 8, 32)             1568      \n",
            "                                                                 \n",
            " dropout_16 (Dropout)        (None, 8, 32)             0         \n",
            "                                                                 \n",
            " max_pooling1d_5 (MaxPooling  (None, 4, 32)            0         \n",
            " 1D)                                                             \n",
            "                                                                 \n",
            " dropout_17 (Dropout)        (None, 4, 32)             0         \n",
            "                                                                 \n",
            " flatten_3 (Flatten)         (None, 128)               0         \n",
            "                                                                 \n",
            " dense_10 (Dense)            (None, 512)               66048     \n",
            "                                                                 \n",
            " dropout_18 (Dropout)        (None, 512)               0         \n",
            "                                                                 \n",
            " dense_11 (Dense)            (None, 1)                 513       \n",
            "                                                                 \n",
            "=================================================================\n",
            "Total params: 68,337\n",
            "Trainable params: 68,337\n",
            "Non-trainable params: 0\n",
            "_________________________________________________________________\n",
            "Epoch 1/20\n",
            "672/672 [==============================] - 5s 6ms/step - loss: 0.3254 - val_loss: 0.1412\n",
            "Epoch 2/20\n",
            "672/672 [==============================] - 3s 5ms/step - loss: 0.1755 - val_loss: 0.0932\n",
            "Epoch 3/20\n",
            "672/672 [==============================] - 3s 5ms/step - loss: 0.1401 - val_loss: 0.0844\n",
            "Epoch 4/20\n",
            "672/672 [==============================] - 3s 5ms/step - loss: 0.1193 - val_loss: 0.0711\n",
            "Epoch 5/20\n",
            "672/672 [==============================] - 3s 4ms/step - loss: 0.1129 - val_loss: 0.0693\n",
            "Epoch 6/20\n",
            "672/672 [==============================] - 3s 4ms/step - loss: 0.1047 - val_loss: 0.0633\n",
            "Epoch 7/20\n",
            "672/672 [==============================] - 3s 5ms/step - loss: 0.0999 - val_loss: 0.0685\n",
            "Epoch 8/20\n",
            "672/672 [==============================] - 3s 4ms/step - loss: 0.0932 - val_loss: 0.0620\n",
            "Epoch 9/20\n",
            "672/672 [==============================] - 3s 4ms/step - loss: 0.0913 - val_loss: 0.0659\n",
            "Epoch 10/20\n",
            "672/672 [==============================] - 3s 4ms/step - loss: 0.0834 - val_loss: 0.0589\n",
            "Epoch 11/20\n",
            "672/672 [==============================] - 3s 4ms/step - loss: 0.0851 - val_loss: 0.0611\n",
            "Epoch 12/20\n",
            "672/672 [==============================] - 3s 4ms/step - loss: 0.0776 - val_loss: 0.0594\n",
            "Epoch 13/20\n",
            "672/672 [==============================] - 3s 4ms/step - loss: 0.0828 - val_loss: 0.0588\n",
            "Epoch 14/20\n",
            "672/672 [==============================] - 3s 4ms/step - loss: 0.0782 - val_loss: 0.0576\n",
            "Epoch 15/20\n",
            "672/672 [==============================] - 3s 4ms/step - loss: 0.0756 - val_loss: 0.0642\n",
            "Epoch 16/20\n",
            "672/672 [==============================] - 3s 4ms/step - loss: 0.0754 - val_loss: 0.0579\n",
            "Epoch 17/20\n",
            "672/672 [==============================] - 3s 4ms/step - loss: 0.0745 - val_loss: 0.0572\n",
            "Epoch 18/20\n",
            "672/672 [==============================] - 3s 4ms/step - loss: 0.0745 - val_loss: 0.0601\n",
            "Epoch 19/20\n",
            "672/672 [==============================] - 3s 4ms/step - loss: 0.0723 - val_loss: 0.0614\n",
            "Epoch 20/20\n",
            "672/672 [==============================] - 3s 4ms/step - loss: 0.0730 - val_loss: 0.0589\n"
          ]
        }
      ],
      "source": [
        "# Model with three convolutional and one fully connected layer.\n",
        "model = Sequential()\n",
        "\n",
        "model.add(Conv1D(16, 3, strides=1,\n",
        "                 activation='relu', padding='same', \n",
        "                 input_shape=(8, 4),\n",
        "                 kernel_initializer='he_normal',\n",
        "                 bias_initializer='zeros'))\n",
        "model.add(Dropout(0.2))\n",
        "model.add(Conv1D(32, 3, strides=1,\n",
        "                 activation='relu', padding='same', \n",
        "                 kernel_initializer='he_normal',\n",
        "                 bias_initializer='zeros'))\n",
        "model.add(Dropout(0.2))\n",
        "model.add(MaxPooling1D(pool_size=2, strides=2))\n",
        "model.add(Dropout(0.2))\n",
        "model.add(Flatten())\n",
        "model.add(Dense(128, activation='relu'))\n",
        "model.add(Dropout(0.2))\n",
        "model.add(Dense(1, activation='sigmoid'))\n",
        "\n",
        "model.compile(optimizer=keras.optimizers.Adam(learning_rate=1e-3), #optimizer=RMSprop(lr=0.001),\n",
        "    loss=keras.losses.BinaryCrossentropy())\n",
        "\n",
        "model.summary()\n",
        "history = model.fit(\n",
        "    x_train, y_train, validation_data = (x_test, y_test), epochs=EPOCHS, \n",
        "    batch_size=BATCH_SIZE, shuffle=True)\n"
      ]
    }
  ],
  "metadata": {
    "colab": {
      "name": "CNN_GNRA_pred.ipynb",
      "provenance": [],
      "authorship_tag": "ABX9TyNfZAMYFrtkXINtDJerU0a7",
      "include_colab_link": true
    },
    "kernelspec": {
      "display_name": "Python 3",
      "name": "python3"
    },
    "language_info": {
      "name": "python"
    }
  },
  "nbformat": 4,
  "nbformat_minor": 0
}